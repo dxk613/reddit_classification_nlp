{
 "cells": [
  {
   "cell_type": "markdown",
   "id": "c89c4bfe",
   "metadata": {},
   "source": [
    "# Table of Content for dk_model2\n",
    "_________\n",
    "\n",
    "Preprocessing and Modeling\n",
    "\n",
    "* For all four models:\n",
    "\n",
    "- defined subreddit as target and title variable as X\n",
    "- created custom stop words with the following based on EDA's bar chart:\n",
    "- \"people\", \"like\", \"life\", \"one\", \"get\", \"never\", \"anyone\", \"day\", \"make\", and \"else.\"\n",
    "- defined the train_test_split: \n",
    "- X, y, test_size=0.25, \n",
    "- random_state=42, stratify=y \n",
    "- implemented pipes with CountVectorizer and TfidfVectorizer transfomers to respective models\n",
    "- defined the following parameter options for CountVectorizer and TfidfVectorizer: \n",
    "- 'cvec__stop_words' : [custom_stop_words],\n",
    "- 'cvec__max_features' : [1500, 3000, 5000],\n",
    "- 'cvec__min_df' : [0.03, 0.05],\n",
    "- 'cvec__max_df': [0.85, 0.9],\n",
    "- 'cvec__ngram_range' : [(1, 1), (1, 2)] \n",
    "- implemented GridSearchCV with 5 cross-validation to identify and select the best parameter option for each model\n",
    "- utilized best_estimator which contains the best parameter option from GridSearchCV to return train and test scores\n",
    "- utilized ROC-AUC to see models' overall performances in distinguishing between Showerthoughts and CasualConversation\n",
    "- utilized ConfusionMatrix to observe which model performed better in classifying titles to which subreddit\n",
    "\n",
    "*** Summary of Intent for Preprocessing\n",
    "\n",
    "In this second iteration, I added an another condition to the CountVectorizer and TFIDVectorizer with a list of custom stop words based on earlier EDA's title finding for the purpose of observing for potential performance results of each model\n",
    "\n",
    "Summary of Models Results\n",
    "\n",
    "- summarize the ROC and test scores of each model\n",
    "- highlight the one model that performed the best out of the four based on ROC and test scores\n",
    "- highlight drawbacks of the chosen model\n",
    "- go over next steps"
   ]
  },
  {
   "cell_type": "code",
   "execution_count": 1,
   "id": "fcc44117",
   "metadata": {},
   "outputs": [],
   "source": [
    "import pandas as pd\n",
    "import numpy as np\n",
    "import matplotlib.pyplot as plt\n",
    "from sklearn.model_selection import train_test_split, GridSearchCV\n",
    "from sklearn.pipeline import Pipeline\n",
    "\n",
    "from sklearn.linear_model import LogisticRegression\n",
    "from sklearn.naive_bayes import MultinomialNB, BernoulliNB\n",
    "from sklearn.ensemble import RandomForestClassifier\n",
    "\n",
    "# from sklearn.metrics import RocCurveDisplay\n",
    "from sklearn.metrics import roc_auc_score\n",
    "from sklearn.metrics import confusion_matrix, ConfusionMatrixDisplay\n",
    "\n",
    "from nltk.tokenize import word_tokenize\n",
    "from nltk.probability import FreqDist\n",
    "from nltk.corpus import stopwords\n",
    "\n",
    "# Import CountVectorizer and TFIDFVectorizer from feature_extraction.text.\n",
    "from sklearn.feature_extraction.text import CountVectorizer, TfidfVectorizer"
   ]
  },
  {
   "cell_type": "code",
   "execution_count": 2,
   "id": "3f6574a5",
   "metadata": {},
   "outputs": [],
   "source": [
    "casualconshower = pd.read_csv('../project_3/datasets/casualconshower.csv')"
   ]
  },
  {
   "cell_type": "code",
   "execution_count": 3,
   "id": "e19868ff",
   "metadata": {},
   "outputs": [
    {
     "data": {
      "text/html": [
       "<div>\n",
       "<style scoped>\n",
       "    .dataframe tbody tr th:only-of-type {\n",
       "        vertical-align: middle;\n",
       "    }\n",
       "\n",
       "    .dataframe tbody tr th {\n",
       "        vertical-align: top;\n",
       "    }\n",
       "\n",
       "    .dataframe thead th {\n",
       "        text-align: right;\n",
       "    }\n",
       "</style>\n",
       "<table border=\"1\" class=\"dataframe\">\n",
       "  <thead>\n",
       "    <tr style=\"text-align: right;\">\n",
       "      <th></th>\n",
       "      <th>title</th>\n",
       "      <th>selftext</th>\n",
       "      <th>subreddit</th>\n",
       "      <th>created_utc</th>\n",
       "      <th>name</th>\n",
       "    </tr>\n",
       "  </thead>\n",
       "  <tbody>\n",
       "    <tr>\n",
       "      <th>0</th>\n",
       "      <td>When all our mental effort is on things we don...</td>\n",
       "      <td>In other words, we develop a misplaced distast...</td>\n",
       "      <td>1</td>\n",
       "      <td>1.706234e+09</td>\n",
       "      <td>t3_1ab6sqt</td>\n",
       "    </tr>\n",
       "    <tr>\n",
       "      <th>1</th>\n",
       "      <td>The only part of your reflection you can lick ...</td>\n",
       "      <td>You might be able to lick your nose, but you w...</td>\n",
       "      <td>1</td>\n",
       "      <td>1.706234e+09</td>\n",
       "      <td>t3_1ab6ris</td>\n",
       "    </tr>\n",
       "    <tr>\n",
       "      <th>2</th>\n",
       "      <td>You will regularly hear people talk about dark...</td>\n",
       "      <td>NaN</td>\n",
       "      <td>1</td>\n",
       "      <td>1.706233e+09</td>\n",
       "      <td>t3_1ab6j10</td>\n",
       "    </tr>\n",
       "    <tr>\n",
       "      <th>3</th>\n",
       "      <td>Chickens live their entire lives not knowing h...</td>\n",
       "      <td>NaN</td>\n",
       "      <td>1</td>\n",
       "      <td>1.706233e+09</td>\n",
       "      <td>t3_1ab6i76</td>\n",
       "    </tr>\n",
       "    <tr>\n",
       "      <th>4</th>\n",
       "      <td>Everything is always in the last place you look.</td>\n",
       "      <td>Because once you find it you stop looking.</td>\n",
       "      <td>1</td>\n",
       "      <td>1.706231e+09</td>\n",
       "      <td>t3_1ab5pyx</td>\n",
       "    </tr>\n",
       "  </tbody>\n",
       "</table>\n",
       "</div>"
      ],
      "text/plain": [
       "                                               title  \\\n",
       "0  When all our mental effort is on things we don...   \n",
       "1  The only part of your reflection you can lick ...   \n",
       "2  You will regularly hear people talk about dark...   \n",
       "3  Chickens live their entire lives not knowing h...   \n",
       "4   Everything is always in the last place you look.   \n",
       "\n",
       "                                            selftext  subreddit   created_utc  \\\n",
       "0  In other words, we develop a misplaced distast...          1  1.706234e+09   \n",
       "1  You might be able to lick your nose, but you w...          1  1.706234e+09   \n",
       "2                                                NaN          1  1.706233e+09   \n",
       "3                                                NaN          1  1.706233e+09   \n",
       "4         Because once you find it you stop looking.          1  1.706231e+09   \n",
       "\n",
       "         name  \n",
       "0  t3_1ab6sqt  \n",
       "1  t3_1ab6ris  \n",
       "2  t3_1ab6j10  \n",
       "3  t3_1ab6i76  \n",
       "4  t3_1ab5pyx  "
      ]
     },
     "execution_count": 3,
     "metadata": {},
     "output_type": "execute_result"
    }
   ],
   "source": [
    "casualconshower.head()"
   ]
  },
  {
   "cell_type": "markdown",
   "id": "3d41b742",
   "metadata": {},
   "source": [
    "# Logistic Regression with Hypertuned CountVectorizer\n",
    "\n",
    "after utilizing gridsearch to search for the best parameter, here is the hyperparameter setting for CountVectorizer: {'cvec__max_df': 0.85, 'cvec__max_features': 1500, 'cvec__min_df': 0.03, 'cvec__ngram_range': (1, 2), 'cvec__stop_words': ['people', 'like', 'life', 'one', 'get', 'never', 'anyone', 'day', 'make', 'else']}"
   ]
  },
  {
   "cell_type": "code",
   "execution_count": 21,
   "id": "8f8da516",
   "metadata": {},
   "outputs": [],
   "source": [
    "# creating our X and y\n",
    "X = casualconshower['title']\n",
    "y = casualconshower['subreddit']"
   ]
  },
  {
   "cell_type": "code",
   "execution_count": 22,
   "id": "59ec205b",
   "metadata": {},
   "outputs": [],
   "source": [
    "# Create train_test_split.\n",
    "X_train, X_test, y_train, y_test = train_test_split(X,\n",
    "                                                    y,\n",
    "                                                    test_size=0.25,\n",
    "                                                    random_state=42,\n",
    "                                                    stratify=y)"
   ]
  },
  {
   "cell_type": "code",
   "execution_count": 23,
   "id": "eab7b46b",
   "metadata": {},
   "outputs": [],
   "source": [
    "# custom stop words based on the bar chart of most frequent words\n",
    "cust_stop_words = [\"people\", \"like\", \"life\", \"one\", \"get\",\n",
    "   \"never\", \"anyone\", \"day\", \"make\", \"else\"\n",
    "]"
   ]
  },
  {
   "cell_type": "code",
   "execution_count": 24,
   "id": "db30deae",
   "metadata": {},
   "outputs": [],
   "source": [
    "# Set a pipeline up with two stages:\n",
    "# 1. CountVectorizer (transformer)\n",
    "# 2. Standard Scaler to ensure normalize scale of variable title before putting Logistic Regression\n",
    "# 3. Logistic Regression\n",
    "pipe = Pipeline([\n",
    "    ('cvec', CountVectorizer()),\n",
    "    ('lr', LogisticRegression())\n",
    "])"
   ]
  },
  {
   "cell_type": "code",
   "execution_count": 25,
   "id": "8c906d58",
   "metadata": {},
   "outputs": [],
   "source": [
    "# Search over the following values of hyperparameters:\n",
    "# Maximum number of features fit: 1500, 3000, 5000\n",
    "# Minimum number of documents needed to include token: 0.03, 0.05\n",
    "# Maximum number of documents needed to include token: 0.85, 0.9\n",
    "# Check (individual tokens) and also check (individual tokens and 2-grams).\n",
    "\n",
    "pipe_params = {'cvec__stop_words' : [cust_stop_words],\n",
    "               'cvec__max_features' : [1500, 3000, 5000],\n",
    "              'cvec__min_df' : [0.03, 0.05],\n",
    "               'cvec__max_df': [0.85, 0.9],\n",
    "               'cvec__ngram_range' : [(1, 1), (1, 2)]                               \n",
    "              }"
   ]
  },
  {
   "cell_type": "code",
   "execution_count": 26,
   "id": "1f3e2c18",
   "metadata": {},
   "outputs": [],
   "source": [
    "# Instantiate GridSearchCV.\n",
    "\n",
    "gs = GridSearchCV(pipe, # what object are we optimizing?\n",
    "                  param_grid=pipe_params, # what parameters values are we searching?\n",
    "                  cv = 5) # 5-fold cross-validation."
   ]
  },
  {
   "cell_type": "code",
   "execution_count": 27,
   "id": "223fbacb",
   "metadata": {},
   "outputs": [
    {
     "data": {
      "text/html": [
       "<style>#sk-container-id-1 {color: black;}#sk-container-id-1 pre{padding: 0;}#sk-container-id-1 div.sk-toggleable {background-color: white;}#sk-container-id-1 label.sk-toggleable__label {cursor: pointer;display: block;width: 100%;margin-bottom: 0;padding: 0.3em;box-sizing: border-box;text-align: center;}#sk-container-id-1 label.sk-toggleable__label-arrow:before {content: \"▸\";float: left;margin-right: 0.25em;color: #696969;}#sk-container-id-1 label.sk-toggleable__label-arrow:hover:before {color: black;}#sk-container-id-1 div.sk-estimator:hover label.sk-toggleable__label-arrow:before {color: black;}#sk-container-id-1 div.sk-toggleable__content {max-height: 0;max-width: 0;overflow: hidden;text-align: left;background-color: #f0f8ff;}#sk-container-id-1 div.sk-toggleable__content pre {margin: 0.2em;color: black;border-radius: 0.25em;background-color: #f0f8ff;}#sk-container-id-1 input.sk-toggleable__control:checked~div.sk-toggleable__content {max-height: 200px;max-width: 100%;overflow: auto;}#sk-container-id-1 input.sk-toggleable__control:checked~label.sk-toggleable__label-arrow:before {content: \"▾\";}#sk-container-id-1 div.sk-estimator input.sk-toggleable__control:checked~label.sk-toggleable__label {background-color: #d4ebff;}#sk-container-id-1 div.sk-label input.sk-toggleable__control:checked~label.sk-toggleable__label {background-color: #d4ebff;}#sk-container-id-1 input.sk-hidden--visually {border: 0;clip: rect(1px 1px 1px 1px);clip: rect(1px, 1px, 1px, 1px);height: 1px;margin: -1px;overflow: hidden;padding: 0;position: absolute;width: 1px;}#sk-container-id-1 div.sk-estimator {font-family: monospace;background-color: #f0f8ff;border: 1px dotted black;border-radius: 0.25em;box-sizing: border-box;margin-bottom: 0.5em;}#sk-container-id-1 div.sk-estimator:hover {background-color: #d4ebff;}#sk-container-id-1 div.sk-parallel-item::after {content: \"\";width: 100%;border-bottom: 1px solid gray;flex-grow: 1;}#sk-container-id-1 div.sk-label:hover label.sk-toggleable__label {background-color: #d4ebff;}#sk-container-id-1 div.sk-serial::before {content: \"\";position: absolute;border-left: 1px solid gray;box-sizing: border-box;top: 0;bottom: 0;left: 50%;z-index: 0;}#sk-container-id-1 div.sk-serial {display: flex;flex-direction: column;align-items: center;background-color: white;padding-right: 0.2em;padding-left: 0.2em;position: relative;}#sk-container-id-1 div.sk-item {position: relative;z-index: 1;}#sk-container-id-1 div.sk-parallel {display: flex;align-items: stretch;justify-content: center;background-color: white;position: relative;}#sk-container-id-1 div.sk-item::before, #sk-container-id-1 div.sk-parallel-item::before {content: \"\";position: absolute;border-left: 1px solid gray;box-sizing: border-box;top: 0;bottom: 0;left: 50%;z-index: -1;}#sk-container-id-1 div.sk-parallel-item {display: flex;flex-direction: column;z-index: 1;position: relative;background-color: white;}#sk-container-id-1 div.sk-parallel-item:first-child::after {align-self: flex-end;width: 50%;}#sk-container-id-1 div.sk-parallel-item:last-child::after {align-self: flex-start;width: 50%;}#sk-container-id-1 div.sk-parallel-item:only-child::after {width: 0;}#sk-container-id-1 div.sk-dashed-wrapped {border: 1px dashed gray;margin: 0 0.4em 0.5em 0.4em;box-sizing: border-box;padding-bottom: 0.4em;background-color: white;}#sk-container-id-1 div.sk-label label {font-family: monospace;font-weight: bold;display: inline-block;line-height: 1.2em;}#sk-container-id-1 div.sk-label-container {text-align: center;}#sk-container-id-1 div.sk-container {/* jupyter's `normalize.less` sets `[hidden] { display: none; }` but bootstrap.min.css set `[hidden] { display: none !important; }` so we also need the `!important` here to be able to override the default hidden behavior on the sphinx rendered scikit-learn.org. See: https://github.com/scikit-learn/scikit-learn/issues/21755 */display: inline-block !important;position: relative;}#sk-container-id-1 div.sk-text-repr-fallback {display: none;}</style><div id=\"sk-container-id-1\" class=\"sk-top-container\"><div class=\"sk-text-repr-fallback\"><pre>GridSearchCV(cv=5,\n",
       "             estimator=Pipeline(steps=[(&#x27;cvec&#x27;, CountVectorizer()),\n",
       "                                       (&#x27;lr&#x27;, LogisticRegression())]),\n",
       "             param_grid={&#x27;cvec__max_df&#x27;: [0.85, 0.9],\n",
       "                         &#x27;cvec__max_features&#x27;: [1500, 3000, 5000],\n",
       "                         &#x27;cvec__min_df&#x27;: [0.03, 0.05],\n",
       "                         &#x27;cvec__ngram_range&#x27;: [(1, 1), (1, 2)],\n",
       "                         &#x27;cvec__stop_words&#x27;: [[&#x27;people&#x27;, &#x27;like&#x27;, &#x27;life&#x27;, &#x27;one&#x27;,\n",
       "                                               &#x27;get&#x27;, &#x27;never&#x27;, &#x27;anyone&#x27;, &#x27;day&#x27;,\n",
       "                                               &#x27;make&#x27;, &#x27;else&#x27;]]})</pre><b>In a Jupyter environment, please rerun this cell to show the HTML representation or trust the notebook. <br />On GitHub, the HTML representation is unable to render, please try loading this page with nbviewer.org.</b></div><div class=\"sk-container\" hidden><div class=\"sk-item sk-dashed-wrapped\"><div class=\"sk-label-container\"><div class=\"sk-label sk-toggleable\"><input class=\"sk-toggleable__control sk-hidden--visually\" id=\"sk-estimator-id-1\" type=\"checkbox\" ><label for=\"sk-estimator-id-1\" class=\"sk-toggleable__label sk-toggleable__label-arrow\">GridSearchCV</label><div class=\"sk-toggleable__content\"><pre>GridSearchCV(cv=5,\n",
       "             estimator=Pipeline(steps=[(&#x27;cvec&#x27;, CountVectorizer()),\n",
       "                                       (&#x27;lr&#x27;, LogisticRegression())]),\n",
       "             param_grid={&#x27;cvec__max_df&#x27;: [0.85, 0.9],\n",
       "                         &#x27;cvec__max_features&#x27;: [1500, 3000, 5000],\n",
       "                         &#x27;cvec__min_df&#x27;: [0.03, 0.05],\n",
       "                         &#x27;cvec__ngram_range&#x27;: [(1, 1), (1, 2)],\n",
       "                         &#x27;cvec__stop_words&#x27;: [[&#x27;people&#x27;, &#x27;like&#x27;, &#x27;life&#x27;, &#x27;one&#x27;,\n",
       "                                               &#x27;get&#x27;, &#x27;never&#x27;, &#x27;anyone&#x27;, &#x27;day&#x27;,\n",
       "                                               &#x27;make&#x27;, &#x27;else&#x27;]]})</pre></div></div></div><div class=\"sk-parallel\"><div class=\"sk-parallel-item\"><div class=\"sk-item\"><div class=\"sk-label-container\"><div class=\"sk-label sk-toggleable\"><input class=\"sk-toggleable__control sk-hidden--visually\" id=\"sk-estimator-id-2\" type=\"checkbox\" ><label for=\"sk-estimator-id-2\" class=\"sk-toggleable__label sk-toggleable__label-arrow\">estimator: Pipeline</label><div class=\"sk-toggleable__content\"><pre>Pipeline(steps=[(&#x27;cvec&#x27;, CountVectorizer()), (&#x27;lr&#x27;, LogisticRegression())])</pre></div></div></div><div class=\"sk-serial\"><div class=\"sk-item\"><div class=\"sk-serial\"><div class=\"sk-item\"><div class=\"sk-estimator sk-toggleable\"><input class=\"sk-toggleable__control sk-hidden--visually\" id=\"sk-estimator-id-3\" type=\"checkbox\" ><label for=\"sk-estimator-id-3\" class=\"sk-toggleable__label sk-toggleable__label-arrow\">CountVectorizer</label><div class=\"sk-toggleable__content\"><pre>CountVectorizer()</pre></div></div></div><div class=\"sk-item\"><div class=\"sk-estimator sk-toggleable\"><input class=\"sk-toggleable__control sk-hidden--visually\" id=\"sk-estimator-id-4\" type=\"checkbox\" ><label for=\"sk-estimator-id-4\" class=\"sk-toggleable__label sk-toggleable__label-arrow\">LogisticRegression</label><div class=\"sk-toggleable__content\"><pre>LogisticRegression()</pre></div></div></div></div></div></div></div></div></div></div></div></div>"
      ],
      "text/plain": [
       "GridSearchCV(cv=5,\n",
       "             estimator=Pipeline(steps=[('cvec', CountVectorizer()),\n",
       "                                       ('lr', LogisticRegression())]),\n",
       "             param_grid={'cvec__max_df': [0.85, 0.9],\n",
       "                         'cvec__max_features': [1500, 3000, 5000],\n",
       "                         'cvec__min_df': [0.03, 0.05],\n",
       "                         'cvec__ngram_range': [(1, 1), (1, 2)],\n",
       "                         'cvec__stop_words': [['people', 'like', 'life', 'one',\n",
       "                                               'get', 'never', 'anyone', 'day',\n",
       "                                               'make', 'else']]})"
      ]
     },
     "execution_count": 27,
     "metadata": {},
     "output_type": "execute_result"
    }
   ],
   "source": [
    "# Fit GridSearch to training data.\n",
    "gs.fit(X_train, y_train)"
   ]
  },
  {
   "cell_type": "code",
   "execution_count": 28,
   "id": "e0bedadf",
   "metadata": {},
   "outputs": [
    {
     "name": "stdout",
     "output_type": "stream",
     "text": [
      "0.8172483488501632\n"
     ]
    }
   ],
   "source": [
    "# the best score\n",
    "# from cross validation\n",
    "print(gs.best_score_)"
   ]
  },
  {
   "cell_type": "code",
   "execution_count": 29,
   "id": "98681a33",
   "metadata": {},
   "outputs": [
    {
     "name": "stdout",
     "output_type": "stream",
     "text": [
      "{'cvec__max_df': 0.85, 'cvec__max_features': 1500, 'cvec__min_df': 0.03, 'cvec__ngram_range': (1, 2), 'cvec__stop_words': ['people', 'like', 'life', 'one', 'get', 'never', 'anyone', 'day', 'make', 'else']}\n"
     ]
    }
   ],
   "source": [
    "# getting the best parameters for the CountVectorizer\n",
    "print(gs.best_params_)"
   ]
  },
  {
   "cell_type": "code",
   "execution_count": 30,
   "id": "ac26f355",
   "metadata": {},
   "outputs": [],
   "source": [
    "# the best estimator\n",
    "gs_model = gs.best_estimator_"
   ]
  },
  {
   "cell_type": "code",
   "execution_count": 31,
   "id": "b1e9c514",
   "metadata": {},
   "outputs": [
    {
     "name": "stdout",
     "output_type": "stream",
     "text": [
      "Pipeline(steps=[('cvec',\n",
      "                 CountVectorizer(max_df=0.85, max_features=1500, min_df=0.03,\n",
      "                                 ngram_range=(1, 2),\n",
      "                                 stop_words=['people', 'like', 'life', 'one',\n",
      "                                             'get', 'never', 'anyone', 'day',\n",
      "                                             'make', 'else'])),\n",
      "                ('lr', LogisticRegression())])\n"
     ]
    }
   ],
   "source": [
    "print(gs_model)"
   ]
  },
  {
   "cell_type": "code",
   "execution_count": 32,
   "id": "0eb76c4b",
   "metadata": {},
   "outputs": [
    {
     "data": {
      "text/plain": [
       "0.8268471517202481"
      ]
     },
     "execution_count": 32,
     "metadata": {},
     "output_type": "execute_result"
    }
   ],
   "source": [
    "# Score model on train set.\n",
    "gs_model.score(X_train, y_train)"
   ]
  },
  {
   "cell_type": "code",
   "execution_count": 33,
   "id": "72f27e49",
   "metadata": {},
   "outputs": [
    {
     "data": {
      "text/plain": [
       "0.785472972972973"
      ]
     },
     "execution_count": 33,
     "metadata": {},
     "output_type": "execute_result"
    }
   ],
   "source": [
    "# Score model on test set.\n",
    "gs_model.score(X_test, y_test)"
   ]
  },
  {
   "cell_type": "markdown",
   "id": "10ea9aee",
   "metadata": {},
   "source": [
    "## Train and Test Score Interpretation for Underfit/Overfit from Logistic Regression with Hypertuned Countervectorizer\n",
    "____\n",
    "\n",
    "After implementing gridsearch and best parameter of {'cvec__max_df': 0.85, 'cvec__max_features': 1500, 'cvec__min_df': 0.03, 'cvec__ngram_range': (1, 2)} and stop_words= cust_stop_words, the train score turns out as roughly 84 percent while the test score is roughly 79 percent.\n",
    "\n",
    "Because the train score is higher than the test score, there is indication of overfitting. In other words, the model seems to be doing well in fitting the training data but is not generalizing well to new, unseen data.\n",
    "\n",
    "For next steps, the plan is to reduce the model's overfitting by investigating Logistic Regression's hyperparameters and finetuning specific parameters such as C to reduce the model's complexity and observe if the model reduces overfitting and improve the test score."
   ]
  },
  {
   "cell_type": "code",
   "execution_count": 34,
   "id": "d6cbfaff",
   "metadata": {},
   "outputs": [],
   "source": [
    "# Get predictions\n",
    "preds = gs_model.predict(X_test)"
   ]
  },
  {
   "cell_type": "code",
   "execution_count": 35,
   "id": "484a5447",
   "metadata": {},
   "outputs": [
    {
     "data": {
      "text/plain": [
       "0.785453216374269"
      ]
     },
     "execution_count": 35,
     "metadata": {},
     "output_type": "execute_result"
    }
   ],
   "source": [
    "# ROC-AUC score of Logistic Regression with Hypertuned CountVectorizer\n",
    "roc_auc_score(y_test, preds)"
   ]
  },
  {
   "cell_type": "markdown",
   "id": "f7a61faf",
   "metadata": {},
   "source": [
    "# ROC-AUC Score Interpretation of Logistic Regression with Hypertuned CountVectorizer\n",
    "_______\n",
    "\n",
    "To summarize from the ROC-AUC score, the model is doing a decent job in differentiating between Showerthoughts and CasualConversation roughly 79 percent of the time."
   ]
  },
  {
   "cell_type": "code",
   "execution_count": 36,
   "id": "da832f82",
   "metadata": {},
   "outputs": [],
   "source": [
    "# Save confusion matrix values\n",
    "tn, fp, fn, tp = confusion_matrix(y_test, preds).ravel()"
   ]
  },
  {
   "cell_type": "code",
   "execution_count": 37,
   "id": "4eb23e48",
   "metadata": {},
   "outputs": [
    {
     "data": {
      "image/png": "[encoded data removed]",
      "text/plain": [
       "<Figure size 640x480 with 2 Axes>"
      ]
     },
     "metadata": {},
     "output_type": "display_data"
    }
   ],
   "source": [
    "# View confusion matrix\n",
    "ConfusionMatrixDisplay.from_estimator(gs_model, X_test, y_test, cmap='Blues')\n",
    "\n",
    "# Get the axis of the plot\n",
    "ax = plt.gca()\n",
    "\n",
    "# Set the title\n",
    "ax.set_title('CM of Logistic Regression with Hypertuned CountVectorizer: 2')\n",
    "\n",
    "#save\n",
    "plt.savefig(\"Confusion Matrix of Logistic Regression with Hypertuned CountVectorizer 2.png\", dpi = 75);"
   ]
  },
  {
   "cell_type": "code",
   "execution_count": 28,
   "id": "9577aa12",
   "metadata": {},
   "outputs": [],
   "source": [
    "# Generate a confusion matrix.\n",
    "def find_cm(y_test, preds):\n",
    "    tn, fp, fn, tp = confusion_matrix(y_test, preds).ravel()\n",
    "    \n",
    "    print(f\"TN: {tn}\\nFP: {fp}\\nFN: {fn}\\nTP: {tp}\")\n",
    "    \n",
    "    print(f\"Sensitivity: {tp/(tp+fn)}\\nSpecificity: {tn/(tn+fp)}\")"
   ]
  },
  {
   "cell_type": "code",
   "execution_count": 29,
   "id": "9a35271f",
   "metadata": {},
   "outputs": [
    {
     "name": "stdout",
     "output_type": "stream",
     "text": [
      "TN: 226\n",
      "FP: 62\n",
      "FN: 65\n",
      "TP: 239\n",
      "Sensitivity: 0.7861842105263158\n",
      "Specificity: 0.7847222222222222\n"
     ]
    }
   ],
   "source": [
    "find_cm(y_test, preds)"
   ]
  },
  {
   "cell_type": "markdown",
   "id": "56ba626e",
   "metadata": {},
   "source": [
    "### Confusion Matrix Interpretation from Logistic Regression Model with HyperTuned CountVectorizer\n",
    "_____\n",
    "\n",
    "Showerthoughts as our target / positive outcome:\n",
    "\n",
    "* Our model has true negatives of 226 titles from Casual Conversations correctly classified\n",
    "\n",
    "* Our model has false positives of 62 titles from Showerthoughts incorrectly classified\n",
    "\n",
    "* Our model has false negatives of 65 titles from Casual Conversations incorrectly classified\n",
    "\n",
    "* Our model has true positives of 239 titles from Showerthoughts correctly classified\n",
    "\n",
    "\n",
    "* Our model has a sensitivity of roughly 0.79 with 239 of 304 titles from Showerthoughts correctly classified\n",
    "\n",
    "* Our model has a specificity of 0.78 with 226 of 288 titles from Casual Conversations correctly classified\n",
    "\n",
    "Our model seems to perform better at identifying our positive class (Showerthoughts) than our negative class (CasualConversation)."
   ]
  },
  {
   "cell_type": "markdown",
   "id": "d82d0a33",
   "metadata": {},
   "source": [
    "# Logistic Regression with Hypertuned TFIDFVectorizer\n",
    "\n",
    "using best parameter option, hyperparameter setting for TFIDVectorizer: {'tvec__max_df': 0.85, 'tvec__max_features': 1500, 'tvec__min_df': 0.03, 'tvec__ngram_range': (1, 2), 'tvec__stop_words': ['people', 'like', 'life', 'one', 'get', 'never', 'anyone', 'day', 'make', 'else']}\n",
    "______"
   ]
  },
  {
   "cell_type": "code",
   "execution_count": 30,
   "id": "91a91a08",
   "metadata": {},
   "outputs": [],
   "source": [
    "# creating our X and y\n",
    "X = casualconshower['title']\n",
    "y = casualconshower['subreddit']"
   ]
  },
  {
   "cell_type": "code",
   "execution_count": 31,
   "id": "2ab3a1f8",
   "metadata": {},
   "outputs": [],
   "source": [
    "# Create train_test_split.\n",
    "X_train, X_test, y_train, y_test = train_test_split(X,\n",
    "                                                    y,\n",
    "                                                    test_size=0.25,\n",
    "                                                    random_state=42,\n",
    "                                                    stratify=y)"
   ]
  },
  {
   "cell_type": "code",
   "execution_count": 32,
   "id": "0c533601",
   "metadata": {},
   "outputs": [],
   "source": [
    "# custom stop words based on the bar chart of most frequent words\n",
    "cust_stop_words = [\"people\", \"like\", \"life\", \"one\", \"get\",\n",
    "   \"never\", \"anyone\", \"day\", \"make\", \"else\"\n",
    "]"
   ]
  },
  {
   "cell_type": "code",
   "execution_count": 33,
   "id": "0a1819cb",
   "metadata": {},
   "outputs": [],
   "source": [
    "# Set a pipeline up with two stages:\n",
    "# 1. TfidfVectorizer (transformer)\n",
    "# 2. Logistic Regression\n",
    "pipe = Pipeline([\n",
    "    ('tvec', TfidfVectorizer()),\n",
    "    ('lr', LogisticRegression())\n",
    "])"
   ]
  },
  {
   "cell_type": "code",
   "execution_count": 34,
   "id": "02377b7b",
   "metadata": {},
   "outputs": [],
   "source": [
    "# Search over the following values of hyperparameters:\n",
    "# Maximum number of features fit: 2000, 3000, 4000, 5000\n",
    "# Minimum number of documents needed to include token: 2, 3\n",
    "# Maximum number of documents needed to include token: 90%, 95%\n",
    "# Check (individual tokens) and also check (individual tokens and 2-grams).\n",
    "\n",
    "pipe_params = {'tvec__stop_words': [cust_stop_words],\n",
    "              'tvec__max_features' : [1500, 3000, 5000],\n",
    "              'tvec__min_df' : [0.03, 0.05],\n",
    "               'tvec__max_df': [0.85, 0.9],\n",
    "               'tvec__ngram_range' : [(1, 1), (1, 2)]\n",
    "              }"
   ]
  },
  {
   "cell_type": "code",
   "execution_count": 35,
   "id": "efb22224",
   "metadata": {},
   "outputs": [],
   "source": [
    "# Instantiate GridSearchCV.\n",
    "\n",
    "gs_tv = GridSearchCV(pipe, # what object are we optimizing?\n",
    "                  param_grid=pipe_params, # what parameters values are we searching?\n",
    "                  cv = 5) # 5-fold cross-validation."
   ]
  },
  {
   "cell_type": "code",
   "execution_count": 36,
   "id": "9510f039",
   "metadata": {},
   "outputs": [
    {
     "data": {
      "text/html": [
       "<style>#sk-container-id-2 {color: black;}#sk-container-id-2 pre{padding: 0;}#sk-container-id-2 div.sk-toggleable {background-color: white;}#sk-container-id-2 label.sk-toggleable__label {cursor: pointer;display: block;width: 100%;margin-bottom: 0;padding: 0.3em;box-sizing: border-box;text-align: center;}#sk-container-id-2 label.sk-toggleable__label-arrow:before {content: \"▸\";float: left;margin-right: 0.25em;color: #696969;}#sk-container-id-2 label.sk-toggleable__label-arrow:hover:before {color: black;}#sk-container-id-2 div.sk-estimator:hover label.sk-toggleable__label-arrow:before {color: black;}#sk-container-id-2 div.sk-toggleable__content {max-height: 0;max-width: 0;overflow: hidden;text-align: left;background-color: #f0f8ff;}#sk-container-id-2 div.sk-toggleable__content pre {margin: 0.2em;color: black;border-radius: 0.25em;background-color: #f0f8ff;}#sk-container-id-2 input.sk-toggleable__control:checked~div.sk-toggleable__content {max-height: 200px;max-width: 100%;overflow: auto;}#sk-container-id-2 input.sk-toggleable__control:checked~label.sk-toggleable__label-arrow:before {content: \"▾\";}#sk-container-id-2 div.sk-estimator input.sk-toggleable__control:checked~label.sk-toggleable__label {background-color: #d4ebff;}#sk-container-id-2 div.sk-label input.sk-toggleable__control:checked~label.sk-toggleable__label {background-color: #d4ebff;}#sk-container-id-2 input.sk-hidden--visually {border: 0;clip: rect(1px 1px 1px 1px);clip: rect(1px, 1px, 1px, 1px);height: 1px;margin: -1px;overflow: hidden;padding: 0;position: absolute;width: 1px;}#sk-container-id-2 div.sk-estimator {font-family: monospace;background-color: #f0f8ff;border: 1px dotted black;border-radius: 0.25em;box-sizing: border-box;margin-bottom: 0.5em;}#sk-container-id-2 div.sk-estimator:hover {background-color: #d4ebff;}#sk-container-id-2 div.sk-parallel-item::after {content: \"\";width: 100%;border-bottom: 1px solid gray;flex-grow: 1;}#sk-container-id-2 div.sk-label:hover label.sk-toggleable__label {background-color: #d4ebff;}#sk-container-id-2 div.sk-serial::before {content: \"\";position: absolute;border-left: 1px solid gray;box-sizing: border-box;top: 0;bottom: 0;left: 50%;z-index: 0;}#sk-container-id-2 div.sk-serial {display: flex;flex-direction: column;align-items: center;background-color: white;padding-right: 0.2em;padding-left: 0.2em;position: relative;}#sk-container-id-2 div.sk-item {position: relative;z-index: 1;}#sk-container-id-2 div.sk-parallel {display: flex;align-items: stretch;justify-content: center;background-color: white;position: relative;}#sk-container-id-2 div.sk-item::before, #sk-container-id-2 div.sk-parallel-item::before {content: \"\";position: absolute;border-left: 1px solid gray;box-sizing: border-box;top: 0;bottom: 0;left: 50%;z-index: -1;}#sk-container-id-2 div.sk-parallel-item {display: flex;flex-direction: column;z-index: 1;position: relative;background-color: white;}#sk-container-id-2 div.sk-parallel-item:first-child::after {align-self: flex-end;width: 50%;}#sk-container-id-2 div.sk-parallel-item:last-child::after {align-self: flex-start;width: 50%;}#sk-container-id-2 div.sk-parallel-item:only-child::after {width: 0;}#sk-container-id-2 div.sk-dashed-wrapped {border: 1px dashed gray;margin: 0 0.4em 0.5em 0.4em;box-sizing: border-box;padding-bottom: 0.4em;background-color: white;}#sk-container-id-2 div.sk-label label {font-family: monospace;font-weight: bold;display: inline-block;line-height: 1.2em;}#sk-container-id-2 div.sk-label-container {text-align: center;}#sk-container-id-2 div.sk-container {/* jupyter's `normalize.less` sets `[hidden] { display: none; }` but bootstrap.min.css set `[hidden] { display: none !important; }` so we also need the `!important` here to be able to override the default hidden behavior on the sphinx rendered scikit-learn.org. See: https://github.com/scikit-learn/scikit-learn/issues/21755 */display: inline-block !important;position: relative;}#sk-container-id-2 div.sk-text-repr-fallback {display: none;}</style><div id=\"sk-container-id-2\" class=\"sk-top-container\"><div class=\"sk-text-repr-fallback\"><pre>GridSearchCV(cv=5,\n",
       "             estimator=Pipeline(steps=[(&#x27;tvec&#x27;, TfidfVectorizer()),\n",
       "                                       (&#x27;lr&#x27;, LogisticRegression())]),\n",
       "             param_grid={&#x27;tvec__max_df&#x27;: [0.85, 0.9],\n",
       "                         &#x27;tvec__max_features&#x27;: [1500, 3000, 5000],\n",
       "                         &#x27;tvec__min_df&#x27;: [0.03, 0.05],\n",
       "                         &#x27;tvec__ngram_range&#x27;: [(1, 1), (1, 2)],\n",
       "                         &#x27;tvec__stop_words&#x27;: [[&#x27;people&#x27;, &#x27;like&#x27;, &#x27;life&#x27;, &#x27;one&#x27;,\n",
       "                                               &#x27;get&#x27;, &#x27;never&#x27;, &#x27;anyone&#x27;, &#x27;day&#x27;,\n",
       "                                               &#x27;make&#x27;, &#x27;else&#x27;]]})</pre><b>In a Jupyter environment, please rerun this cell to show the HTML representation or trust the notebook. <br />On GitHub, the HTML representation is unable to render, please try loading this page with nbviewer.org.</b></div><div class=\"sk-container\" hidden><div class=\"sk-item sk-dashed-wrapped\"><div class=\"sk-label-container\"><div class=\"sk-label sk-toggleable\"><input class=\"sk-toggleable__control sk-hidden--visually\" id=\"sk-estimator-id-5\" type=\"checkbox\" ><label for=\"sk-estimator-id-5\" class=\"sk-toggleable__label sk-toggleable__label-arrow\">GridSearchCV</label><div class=\"sk-toggleable__content\"><pre>GridSearchCV(cv=5,\n",
       "             estimator=Pipeline(steps=[(&#x27;tvec&#x27;, TfidfVectorizer()),\n",
       "                                       (&#x27;lr&#x27;, LogisticRegression())]),\n",
       "             param_grid={&#x27;tvec__max_df&#x27;: [0.85, 0.9],\n",
       "                         &#x27;tvec__max_features&#x27;: [1500, 3000, 5000],\n",
       "                         &#x27;tvec__min_df&#x27;: [0.03, 0.05],\n",
       "                         &#x27;tvec__ngram_range&#x27;: [(1, 1), (1, 2)],\n",
       "                         &#x27;tvec__stop_words&#x27;: [[&#x27;people&#x27;, &#x27;like&#x27;, &#x27;life&#x27;, &#x27;one&#x27;,\n",
       "                                               &#x27;get&#x27;, &#x27;never&#x27;, &#x27;anyone&#x27;, &#x27;day&#x27;,\n",
       "                                               &#x27;make&#x27;, &#x27;else&#x27;]]})</pre></div></div></div><div class=\"sk-parallel\"><div class=\"sk-parallel-item\"><div class=\"sk-item\"><div class=\"sk-label-container\"><div class=\"sk-label sk-toggleable\"><input class=\"sk-toggleable__control sk-hidden--visually\" id=\"sk-estimator-id-6\" type=\"checkbox\" ><label for=\"sk-estimator-id-6\" class=\"sk-toggleable__label sk-toggleable__label-arrow\">estimator: Pipeline</label><div class=\"sk-toggleable__content\"><pre>Pipeline(steps=[(&#x27;tvec&#x27;, TfidfVectorizer()), (&#x27;lr&#x27;, LogisticRegression())])</pre></div></div></div><div class=\"sk-serial\"><div class=\"sk-item\"><div class=\"sk-serial\"><div class=\"sk-item\"><div class=\"sk-estimator sk-toggleable\"><input class=\"sk-toggleable__control sk-hidden--visually\" id=\"sk-estimator-id-7\" type=\"checkbox\" ><label for=\"sk-estimator-id-7\" class=\"sk-toggleable__label sk-toggleable__label-arrow\">TfidfVectorizer</label><div class=\"sk-toggleable__content\"><pre>TfidfVectorizer()</pre></div></div></div><div class=\"sk-item\"><div class=\"sk-estimator sk-toggleable\"><input class=\"sk-toggleable__control sk-hidden--visually\" id=\"sk-estimator-id-8\" type=\"checkbox\" ><label for=\"sk-estimator-id-8\" class=\"sk-toggleable__label sk-toggleable__label-arrow\">LogisticRegression</label><div class=\"sk-toggleable__content\"><pre>LogisticRegression()</pre></div></div></div></div></div></div></div></div></div></div></div></div>"
      ],
      "text/plain": [
       "GridSearchCV(cv=5,\n",
       "             estimator=Pipeline(steps=[('tvec', TfidfVectorizer()),\n",
       "                                       ('lr', LogisticRegression())]),\n",
       "             param_grid={'tvec__max_df': [0.85, 0.9],\n",
       "                         'tvec__max_features': [1500, 3000, 5000],\n",
       "                         'tvec__min_df': [0.03, 0.05],\n",
       "                         'tvec__ngram_range': [(1, 1), (1, 2)],\n",
       "                         'tvec__stop_words': [['people', 'like', 'life', 'one',\n",
       "                                               'get', 'never', 'anyone', 'day',\n",
       "                                               'make', 'else']]})"
      ]
     },
     "execution_count": 36,
     "metadata": {},
     "output_type": "execute_result"
    }
   ],
   "source": [
    "# Fit GridSearch to training data.\n",
    "gs_tv.fit(X_train, y_train)"
   ]
  },
  {
   "cell_type": "code",
   "execution_count": 37,
   "id": "4e998a30",
   "metadata": {},
   "outputs": [
    {
     "name": "stdout",
     "output_type": "stream",
     "text": [
      "0.8110479828121271\n"
     ]
    }
   ],
   "source": [
    "# best score\n",
    "# from cross validation\n",
    "print(gs_tv.best_score_)"
   ]
  },
  {
   "cell_type": "code",
   "execution_count": 38,
   "id": "b348af4b",
   "metadata": {},
   "outputs": [
    {
     "name": "stdout",
     "output_type": "stream",
     "text": [
      "{'tvec__max_df': 0.85, 'tvec__max_features': 1500, 'tvec__min_df': 0.03, 'tvec__ngram_range': (1, 2), 'tvec__stop_words': ['people', 'like', 'life', 'one', 'get', 'never', 'anyone', 'day', 'make', 'else']}\n"
     ]
    }
   ],
   "source": [
    "# best parameters for TFIDVector\n",
    "print(gs_tv.best_params_)"
   ]
  },
  {
   "cell_type": "code",
   "execution_count": 39,
   "id": "08a38294",
   "metadata": {},
   "outputs": [],
   "source": [
    "#grid search model after \n",
    "gs_model = gs_tv.best_estimator_"
   ]
  },
  {
   "cell_type": "code",
   "execution_count": 40,
   "id": "bf59fc16",
   "metadata": {},
   "outputs": [
    {
     "name": "stdout",
     "output_type": "stream",
     "text": [
      "Pipeline(steps=[('tvec',\n",
      "                 TfidfVectorizer(max_df=0.85, max_features=1500, min_df=0.03,\n",
      "                                 ngram_range=(1, 2),\n",
      "                                 stop_words=['people', 'like', 'life', 'one',\n",
      "                                             'get', 'never', 'anyone', 'day',\n",
      "                                             'make', 'else'])),\n",
      "                ('lr', LogisticRegression())])\n"
     ]
    }
   ],
   "source": [
    "print(gs_model)"
   ]
  },
  {
   "cell_type": "code",
   "execution_count": 41,
   "id": "3ca0cd1b",
   "metadata": {},
   "outputs": [
    {
     "data": {
      "text/plain": [
       "0.8195149464184998"
      ]
     },
     "execution_count": 41,
     "metadata": {},
     "output_type": "execute_result"
    }
   ],
   "source": [
    "# Score model on train set.\n",
    "gs_model.score(X_train, y_train)"
   ]
  },
  {
   "cell_type": "code",
   "execution_count": 42,
   "id": "d7dcd14e",
   "metadata": {},
   "outputs": [
    {
     "data": {
      "text/plain": [
       "0.7820945945945946"
      ]
     },
     "execution_count": 42,
     "metadata": {},
     "output_type": "execute_result"
    }
   ],
   "source": [
    "# Score model on test set.\n",
    "gs_model.score(X_test, y_test)"
   ]
  },
  {
   "cell_type": "markdown",
   "id": "27e18a12",
   "metadata": {},
   "source": [
    "## Train and Test Score Interpretation for Underfit/Overfit from Logistic Regression with Hypertuned TFIDFVectorizer\n",
    "____\n",
    "\n",
    "After implementing gridsearch and best parameter of {'tvec__max_df': 0.85, 'tvec__max_features': 1500, 'tvec__min_df': 0.03, 'tvec__ngram_range': (1, 2)} stop_words=[cust_stop_words], the train score returns as 83 percent while the test score returns as 78 percent.\n",
    "\n",
    "Because the train score is slightly higher than the test score, there is indication of some overfitting. In other words, the model seems to be doing well in fitting the training data but is not generalizing well to new, unseen data.\n",
    "\n",
    "For next steps, the plan is to reduce the model's overfitting by investigating Logistic Regression's hyperparameters and finetuning specific parameters such as C to reduce the model's complexity and observe if the model reduces overfitting and improve the test score."
   ]
  },
  {
   "cell_type": "code",
   "execution_count": 43,
   "id": "43017e0d",
   "metadata": {},
   "outputs": [],
   "source": [
    "# Get predictions\n",
    "preds = gs_model.predict(X_test)"
   ]
  },
  {
   "cell_type": "code",
   "execution_count": 44,
   "id": "1de8350c",
   "metadata": {},
   "outputs": [
    {
     "data": {
      "text/plain": [
       "0.7811586257309941"
      ]
     },
     "execution_count": 44,
     "metadata": {},
     "output_type": "execute_result"
    }
   ],
   "source": [
    "# ROC-AUC score of Logistic Regression with Hypertuned TFIDVectorizer \n",
    "roc_auc_score(y_test, preds)"
   ]
  },
  {
   "cell_type": "markdown",
   "id": "e3000954",
   "metadata": {},
   "source": [
    "# ROC-AUC Score Interpretation of Logistic Regression with Hypertuned TFIDFVectorizer\n",
    "_______\n",
    "\n",
    "To summarize from the ROC-AUC score, the model is doing a decent job in differentiating between Showerthoughts and CasualConversation 78 percent of the time."
   ]
  },
  {
   "cell_type": "code",
   "execution_count": 45,
   "id": "828363c2",
   "metadata": {},
   "outputs": [],
   "source": [
    "# Save confusion matrix values\n",
    "tn, fp, fn, tp = confusion_matrix(y_test, preds).ravel()"
   ]
  },
  {
   "cell_type": "code",
   "execution_count": 46,
   "id": "d2fab8e2",
   "metadata": {},
   "outputs": [
    {
     "data": {
      "image/png": "[encoded data removed]",
      "text/plain": [
       "<Figure size 640x480 with 2 Axes>"
      ]
     },
     "metadata": {},
     "output_type": "display_data"
    }
   ],
   "source": [
    "# View confusion matrix\n",
    "ConfusionMatrixDisplay.from_estimator(gs_model, X_test, y_test, cmap='Blues')\n",
    "\n",
    "# Get the axis of the plot\n",
    "ax = plt.gca()\n",
    "\n",
    "# Set the title\n",
    "ax.set_title('Confusion Matrix of Logistic Regression with Hypertuned TFIDVectorizer');"
   ]
  },
  {
   "cell_type": "code",
   "execution_count": 47,
   "id": "2f7d1b57",
   "metadata": {},
   "outputs": [],
   "source": [
    "# Generate a confusion matrix.\n",
    "def find_cm(y_test, preds):\n",
    "    tn, fp, fn, tp = confusion_matrix(y_test, preds).ravel()\n",
    "    \n",
    "    print(f\"TN: {tn}\\nFP: {fp}\\nFN: {fn}\\nTP: {tp}\")\n",
    "    \n",
    "    print(f\"Sensitivity: {tp/(tp+fn)}\\nSpecificity: {tn/(tn+fp)}\")"
   ]
  },
  {
   "cell_type": "code",
   "execution_count": 48,
   "id": "4fe18ff7",
   "metadata": {},
   "outputs": [
    {
     "name": "stdout",
     "output_type": "stream",
     "text": [
      "TN: 215\n",
      "FP: 73\n",
      "FN: 56\n",
      "TP: 248\n",
      "Sensitivity: 0.8157894736842105\n",
      "Specificity: 0.7465277777777778\n"
     ]
    }
   ],
   "source": [
    "find_cm(y_test, preds)"
   ]
  },
  {
   "cell_type": "markdown",
   "id": "31c5f5cf",
   "metadata": {},
   "source": [
    "### Confusion Matrix Interpretation from Logistic Regression Model with HyperTuned TFIDFVectorizer\n",
    "_____\n",
    "\n",
    "Showerthoughts as our target / positive outcome:\n",
    "\n",
    "* Our model has true negatives of 215 titles from Casual Conversations correctly classified\n",
    "* Our model has false positives of 73 titles from Showerthoughts incorrectly classified\n",
    "* Our model has false negatives of 56 titles from Casual Conversations incorrectly classified\n",
    "* Our model has true positives of 248 titles from Showerthoughts correctly classified\n",
    "\n",
    "* Our model has a sensitivity of roughly 0.82 with 248 of 304 titles from Showerthoughts correctly classified\n",
    "* Our model has a specificity of roughly 0.75 with 215 of 288 titles from Casual Conversations correctly classified\n",
    "\n",
    "Our model seems to perform better at identifying our positive class (Showerthoughts) than our negative class (CasualConversation)."
   ]
  },
  {
   "cell_type": "markdown",
   "id": "0736d1b4",
   "metadata": {},
   "source": [
    "# Bernoulli Model with Hypertuned CountVectorizer\n",
    "\n",
    "Hyperparameter setting for CountVectorizer with Bernoulli models after implementing gridsearch: 'cvec__max_df': 0.85, 'cvec__max_features': 1500, 'cvec__min_df': 0.03, 'cvec__ngram_range': (1, 2) \n",
    "_____"
   ]
  },
  {
   "cell_type": "code",
   "execution_count": 38,
   "id": "a6807f22",
   "metadata": {},
   "outputs": [],
   "source": [
    "# creating our X and y\n",
    "X = casualconshower['title']\n",
    "y = casualconshower['subreddit']"
   ]
  },
  {
   "cell_type": "code",
   "execution_count": 39,
   "id": "8dd72511",
   "metadata": {},
   "outputs": [],
   "source": [
    "\n",
    "\n",
    "X_train, X_test, y_train, y_test = train_test_split(X,\n",
    "                                                    y,\n",
    "                                                    test_size=0.25,\n",
    "                                                    random_state=42,\n",
    "                                                    stratify=y)"
   ]
  },
  {
   "cell_type": "code",
   "execution_count": 40,
   "id": "b00933ac",
   "metadata": {},
   "outputs": [],
   "source": [
    "# custom stop words based on the bar chart of most frequent words\n",
    "cust_stop_words = [\"people\", \"like\", \"life\", \"one\", \"get\",\n",
    "   \"never\", \"anyone\", \"day\", \"make\", \"else\"\n",
    "]"
   ]
  },
  {
   "cell_type": "code",
   "execution_count": 41,
   "id": "7ee1be9e",
   "metadata": {},
   "outputs": [],
   "source": [
    "# Set a pipeline up with two stages:\n",
    "# 1. CountVectorizer (transformer)\n",
    "# 2. Bernoulli\n",
    "pipe = Pipeline([\n",
    "    ('cvec', CountVectorizer()),\n",
    "    ('bnb', BernoulliNB())\n",
    "])"
   ]
  },
  {
   "cell_type": "code",
   "execution_count": 42,
   "id": "75dd453e",
   "metadata": {},
   "outputs": [],
   "source": [
    "\n",
    "pipe_params = {'cvec__stop_words': [cust_stop_words],\n",
    "               'cvec__max_features' : [1500, 3000, 5000],\n",
    "              'cvec__min_df' : [0.03, 0.05],\n",
    "               'cvec__max_df': [0.85, 0.9],\n",
    "               'cvec__ngram_range' : [(1, 1), (1, 2)]\n",
    "              }"
   ]
  },
  {
   "cell_type": "code",
   "execution_count": 43,
   "id": "e6e44579",
   "metadata": {},
   "outputs": [],
   "source": [
    "# Instantiate GridSearchCV.\n",
    "\n",
    "gs = GridSearchCV(pipe, # what object are we optimizing?\n",
    "                  param_grid=pipe_params, # what parameters values are we searching?\n",
    "                  cv = 5) # 5-fold cross-validation."
   ]
  },
  {
   "cell_type": "code",
   "execution_count": 44,
   "id": "5ea8db67",
   "metadata": {},
   "outputs": [
    {
     "data": {
      "text/html": [
       "<style>#sk-container-id-2 {color: black;}#sk-container-id-2 pre{padding: 0;}#sk-container-id-2 div.sk-toggleable {background-color: white;}#sk-container-id-2 label.sk-toggleable__label {cursor: pointer;display: block;width: 100%;margin-bottom: 0;padding: 0.3em;box-sizing: border-box;text-align: center;}#sk-container-id-2 label.sk-toggleable__label-arrow:before {content: \"▸\";float: left;margin-right: 0.25em;color: #696969;}#sk-container-id-2 label.sk-toggleable__label-arrow:hover:before {color: black;}#sk-container-id-2 div.sk-estimator:hover label.sk-toggleable__label-arrow:before {color: black;}#sk-container-id-2 div.sk-toggleable__content {max-height: 0;max-width: 0;overflow: hidden;text-align: left;background-color: #f0f8ff;}#sk-container-id-2 div.sk-toggleable__content pre {margin: 0.2em;color: black;border-radius: 0.25em;background-color: #f0f8ff;}#sk-container-id-2 input.sk-toggleable__control:checked~div.sk-toggleable__content {max-height: 200px;max-width: 100%;overflow: auto;}#sk-container-id-2 input.sk-toggleable__control:checked~label.sk-toggleable__label-arrow:before {content: \"▾\";}#sk-container-id-2 div.sk-estimator input.sk-toggleable__control:checked~label.sk-toggleable__label {background-color: #d4ebff;}#sk-container-id-2 div.sk-label input.sk-toggleable__control:checked~label.sk-toggleable__label {background-color: #d4ebff;}#sk-container-id-2 input.sk-hidden--visually {border: 0;clip: rect(1px 1px 1px 1px);clip: rect(1px, 1px, 1px, 1px);height: 1px;margin: -1px;overflow: hidden;padding: 0;position: absolute;width: 1px;}#sk-container-id-2 div.sk-estimator {font-family: monospace;background-color: #f0f8ff;border: 1px dotted black;border-radius: 0.25em;box-sizing: border-box;margin-bottom: 0.5em;}#sk-container-id-2 div.sk-estimator:hover {background-color: #d4ebff;}#sk-container-id-2 div.sk-parallel-item::after {content: \"\";width: 100%;border-bottom: 1px solid gray;flex-grow: 1;}#sk-container-id-2 div.sk-label:hover label.sk-toggleable__label {background-color: #d4ebff;}#sk-container-id-2 div.sk-serial::before {content: \"\";position: absolute;border-left: 1px solid gray;box-sizing: border-box;top: 0;bottom: 0;left: 50%;z-index: 0;}#sk-container-id-2 div.sk-serial {display: flex;flex-direction: column;align-items: center;background-color: white;padding-right: 0.2em;padding-left: 0.2em;position: relative;}#sk-container-id-2 div.sk-item {position: relative;z-index: 1;}#sk-container-id-2 div.sk-parallel {display: flex;align-items: stretch;justify-content: center;background-color: white;position: relative;}#sk-container-id-2 div.sk-item::before, #sk-container-id-2 div.sk-parallel-item::before {content: \"\";position: absolute;border-left: 1px solid gray;box-sizing: border-box;top: 0;bottom: 0;left: 50%;z-index: -1;}#sk-container-id-2 div.sk-parallel-item {display: flex;flex-direction: column;z-index: 1;position: relative;background-color: white;}#sk-container-id-2 div.sk-parallel-item:first-child::after {align-self: flex-end;width: 50%;}#sk-container-id-2 div.sk-parallel-item:last-child::after {align-self: flex-start;width: 50%;}#sk-container-id-2 div.sk-parallel-item:only-child::after {width: 0;}#sk-container-id-2 div.sk-dashed-wrapped {border: 1px dashed gray;margin: 0 0.4em 0.5em 0.4em;box-sizing: border-box;padding-bottom: 0.4em;background-color: white;}#sk-container-id-2 div.sk-label label {font-family: monospace;font-weight: bold;display: inline-block;line-height: 1.2em;}#sk-container-id-2 div.sk-label-container {text-align: center;}#sk-container-id-2 div.sk-container {/* jupyter's `normalize.less` sets `[hidden] { display: none; }` but bootstrap.min.css set `[hidden] { display: none !important; }` so we also need the `!important` here to be able to override the default hidden behavior on the sphinx rendered scikit-learn.org. See: https://github.com/scikit-learn/scikit-learn/issues/21755 */display: inline-block !important;position: relative;}#sk-container-id-2 div.sk-text-repr-fallback {display: none;}</style><div id=\"sk-container-id-2\" class=\"sk-top-container\"><div class=\"sk-text-repr-fallback\"><pre>GridSearchCV(cv=5,\n",
       "             estimator=Pipeline(steps=[(&#x27;cvec&#x27;, CountVectorizer()),\n",
       "                                       (&#x27;bnb&#x27;, BernoulliNB())]),\n",
       "             param_grid={&#x27;cvec__max_df&#x27;: [0.85, 0.9],\n",
       "                         &#x27;cvec__max_features&#x27;: [1500, 3000, 5000],\n",
       "                         &#x27;cvec__min_df&#x27;: [0.03, 0.05],\n",
       "                         &#x27;cvec__ngram_range&#x27;: [(1, 1), (1, 2)],\n",
       "                         &#x27;cvec__stop_words&#x27;: [[&#x27;people&#x27;, &#x27;like&#x27;, &#x27;life&#x27;, &#x27;one&#x27;,\n",
       "                                               &#x27;get&#x27;, &#x27;never&#x27;, &#x27;anyone&#x27;, &#x27;day&#x27;,\n",
       "                                               &#x27;make&#x27;, &#x27;else&#x27;]]})</pre><b>In a Jupyter environment, please rerun this cell to show the HTML representation or trust the notebook. <br />On GitHub, the HTML representation is unable to render, please try loading this page with nbviewer.org.</b></div><div class=\"sk-container\" hidden><div class=\"sk-item sk-dashed-wrapped\"><div class=\"sk-label-container\"><div class=\"sk-label sk-toggleable\"><input class=\"sk-toggleable__control sk-hidden--visually\" id=\"sk-estimator-id-5\" type=\"checkbox\" ><label for=\"sk-estimator-id-5\" class=\"sk-toggleable__label sk-toggleable__label-arrow\">GridSearchCV</label><div class=\"sk-toggleable__content\"><pre>GridSearchCV(cv=5,\n",
       "             estimator=Pipeline(steps=[(&#x27;cvec&#x27;, CountVectorizer()),\n",
       "                                       (&#x27;bnb&#x27;, BernoulliNB())]),\n",
       "             param_grid={&#x27;cvec__max_df&#x27;: [0.85, 0.9],\n",
       "                         &#x27;cvec__max_features&#x27;: [1500, 3000, 5000],\n",
       "                         &#x27;cvec__min_df&#x27;: [0.03, 0.05],\n",
       "                         &#x27;cvec__ngram_range&#x27;: [(1, 1), (1, 2)],\n",
       "                         &#x27;cvec__stop_words&#x27;: [[&#x27;people&#x27;, &#x27;like&#x27;, &#x27;life&#x27;, &#x27;one&#x27;,\n",
       "                                               &#x27;get&#x27;, &#x27;never&#x27;, &#x27;anyone&#x27;, &#x27;day&#x27;,\n",
       "                                               &#x27;make&#x27;, &#x27;else&#x27;]]})</pre></div></div></div><div class=\"sk-parallel\"><div class=\"sk-parallel-item\"><div class=\"sk-item\"><div class=\"sk-label-container\"><div class=\"sk-label sk-toggleable\"><input class=\"sk-toggleable__control sk-hidden--visually\" id=\"sk-estimator-id-6\" type=\"checkbox\" ><label for=\"sk-estimator-id-6\" class=\"sk-toggleable__label sk-toggleable__label-arrow\">estimator: Pipeline</label><div class=\"sk-toggleable__content\"><pre>Pipeline(steps=[(&#x27;cvec&#x27;, CountVectorizer()), (&#x27;bnb&#x27;, BernoulliNB())])</pre></div></div></div><div class=\"sk-serial\"><div class=\"sk-item\"><div class=\"sk-serial\"><div class=\"sk-item\"><div class=\"sk-estimator sk-toggleable\"><input class=\"sk-toggleable__control sk-hidden--visually\" id=\"sk-estimator-id-7\" type=\"checkbox\" ><label for=\"sk-estimator-id-7\" class=\"sk-toggleable__label sk-toggleable__label-arrow\">CountVectorizer</label><div class=\"sk-toggleable__content\"><pre>CountVectorizer()</pre></div></div></div><div class=\"sk-item\"><div class=\"sk-estimator sk-toggleable\"><input class=\"sk-toggleable__control sk-hidden--visually\" id=\"sk-estimator-id-8\" type=\"checkbox\" ><label for=\"sk-estimator-id-8\" class=\"sk-toggleable__label sk-toggleable__label-arrow\">BernoulliNB</label><div class=\"sk-toggleable__content\"><pre>BernoulliNB()</pre></div></div></div></div></div></div></div></div></div></div></div></div>"
      ],
      "text/plain": [
       "GridSearchCV(cv=5,\n",
       "             estimator=Pipeline(steps=[('cvec', CountVectorizer()),\n",
       "                                       ('bnb', BernoulliNB())]),\n",
       "             param_grid={'cvec__max_df': [0.85, 0.9],\n",
       "                         'cvec__max_features': [1500, 3000, 5000],\n",
       "                         'cvec__min_df': [0.03, 0.05],\n",
       "                         'cvec__ngram_range': [(1, 1), (1, 2)],\n",
       "                         'cvec__stop_words': [['people', 'like', 'life', 'one',\n",
       "                                               'get', 'never', 'anyone', 'day',\n",
       "                                               'make', 'else']]})"
      ]
     },
     "execution_count": 44,
     "metadata": {},
     "output_type": "execute_result"
    }
   ],
   "source": [
    "# Fit our model!\n",
    "\n",
    "gs.fit(X_train, y_train)"
   ]
  },
  {
   "cell_type": "code",
   "execution_count": 45,
   "id": "4d2dacc4",
   "metadata": {},
   "outputs": [
    {
     "name": "stdout",
     "output_type": "stream",
     "text": [
      "0.7817410678761837\n"
     ]
    }
   ],
   "source": [
    "# the best score\n",
    "# from cross validation\n",
    "print(gs.best_score_)"
   ]
  },
  {
   "cell_type": "code",
   "execution_count": 46,
   "id": "2d596402",
   "metadata": {},
   "outputs": [
    {
     "name": "stdout",
     "output_type": "stream",
     "text": [
      "{'cvec__max_df': 0.85, 'cvec__max_features': 1500, 'cvec__min_df': 0.03, 'cvec__ngram_range': (1, 2), 'cvec__stop_words': ['people', 'like', 'life', 'one', 'get', 'never', 'anyone', 'day', 'make', 'else']}\n"
     ]
    }
   ],
   "source": [
    "# best parameters for COUNTVector\n",
    "print(gs.best_params_)"
   ]
  },
  {
   "cell_type": "code",
   "execution_count": 47,
   "id": "53d94351",
   "metadata": {},
   "outputs": [],
   "source": [
    "gs_model = gs.best_estimator_"
   ]
  },
  {
   "cell_type": "code",
   "execution_count": 48,
   "id": "3be56c0b",
   "metadata": {},
   "outputs": [
    {
     "name": "stdout",
     "output_type": "stream",
     "text": [
      "Pipeline(steps=[('cvec',\n",
      "                 CountVectorizer(max_df=0.85, max_features=1500, min_df=0.03,\n",
      "                                 ngram_range=(1, 2),\n",
      "                                 stop_words=['people', 'like', 'life', 'one',\n",
      "                                             'get', 'never', 'anyone', 'day',\n",
      "                                             'make', 'else'])),\n",
      "                ('bnb', BernoulliNB())])\n"
     ]
    }
   ],
   "source": [
    "print(gs_model)"
   ]
  },
  {
   "cell_type": "code",
   "execution_count": 49,
   "id": "1537124e",
   "metadata": {},
   "outputs": [
    {
     "data": {
      "text/plain": [
       "0.7879300620417372"
      ]
     },
     "execution_count": 49,
     "metadata": {},
     "output_type": "execute_result"
    }
   ],
   "source": [
    "# Score model on train set.\n",
    "gs_model.score(X_train, y_train)"
   ]
  },
  {
   "cell_type": "code",
   "execution_count": 50,
   "id": "e6c7dda3",
   "metadata": {},
   "outputs": [
    {
     "data": {
      "text/plain": [
       "0.7432432432432432"
      ]
     },
     "execution_count": 50,
     "metadata": {},
     "output_type": "execute_result"
    }
   ],
   "source": [
    "# Score model on test set.\n",
    "gs_model.score(X_test, y_test)"
   ]
  },
  {
   "cell_type": "markdown",
   "id": "f3c5378e",
   "metadata": {},
   "source": [
    "## Train and Test Score Interpretation for Underfit/Overfit from Bernoulli Model with Hypertuned Countervectorizer\n",
    "____\n",
    "\n",
    "After implementing gridsearch and best parameter of 'cvec__max_df': 0.85, 'cvec__max_features': 1500, 'cvec__min_df': 0.03, 'cvec__ngram_range': (1, 2), 'cvec__stop_words':[cust_stop_words], the train score returns as roughly 79 percent while the test score returns as 74 percent.\n",
    "\n",
    "Because the train score is higher than the test score, there is indication of overfitting. In other words, the model seems to be doing well in fitting the training data but is not generalizing well to new, unseen data.\n",
    "\n",
    "For next steps, the plan is to reduce the model's overfitting by investigating Bernoulli's hyperparameters and experimenting with specific parameters such as increasing alpha to reduce the model's complexity and observe if the model reduces overfitting and improve the test score."
   ]
  },
  {
   "cell_type": "code",
   "execution_count": 51,
   "id": "6bd7364a",
   "metadata": {},
   "outputs": [],
   "source": [
    "# Get predictions\n",
    "preds = gs_model.predict(X_test)"
   ]
  },
  {
   "cell_type": "code",
   "execution_count": 52,
   "id": "2ffea2e5",
   "metadata": {},
   "outputs": [
    {
     "data": {
      "text/plain": [
       "0.744517543859649"
      ]
     },
     "execution_count": 52,
     "metadata": {},
     "output_type": "execute_result"
    }
   ],
   "source": [
    "# ROC-AUC score of Bernoulli with Hypertuned CountVectorizer \n",
    "roc_auc_score(y_test, preds)"
   ]
  },
  {
   "cell_type": "markdown",
   "id": "b93d1afa",
   "metadata": {},
   "source": [
    "# ROC-AUC Score Interpretation of Bernoulli with Hypertuned COUNTVectorizer\n",
    "_______\n",
    "\n",
    "To summarize from the ROC-AUC score, the model is doing a decent job in differentiating between Showerthoughts and CasualConversation 74 percent of the time."
   ]
  },
  {
   "cell_type": "code",
   "execution_count": 53,
   "id": "b71ac20d",
   "metadata": {},
   "outputs": [],
   "source": [
    "# Save confusion matrix values\n",
    "tn, fp, fn, tp = confusion_matrix(y_test, preds).ravel()"
   ]
  },
  {
   "cell_type": "code",
   "execution_count": 55,
   "id": "22ad0cb4",
   "metadata": {},
   "outputs": [
    {
     "data": {
      "image/png": "[encoded data removed]",
      "text/plain": [
       "<Figure size 640x480 with 2 Axes>"
      ]
     },
     "metadata": {},
     "output_type": "display_data"
    }
   ],
   "source": [
    "# View confusion matrix\n",
    "ConfusionMatrixDisplay.from_estimator(gs_model, X_test, y_test, cmap='Blues')\n",
    "\n",
    "# Get the axis of the plot\n",
    "ax = plt.gca()\n",
    "\n",
    "# Set the title\n",
    "ax.set_title('CM of Bernoulli with Hypertuned CountVectorizer: 2')\n",
    "\n",
    "#save\n",
    "plt.savefig(\"Confusion Matrix of Bernoulli with Hypertuned CountVectorizer 2.png\", dpi = 75);"
   ]
  },
  {
   "cell_type": "code",
   "execution_count": 67,
   "id": "9ddd079d",
   "metadata": {},
   "outputs": [],
   "source": [
    "# Generate a confusion matrix.\n",
    "def find_cm(y_test, preds):\n",
    "    tn, fp, fn, tp = confusion_matrix(y_test, preds).ravel()\n",
    "    \n",
    "    print(f\"TN: {tn}\\nFP: {fp}\\nFN: {fn}\\nTP: {tp}\")\n",
    "    \n",
    "    print(f\"Sensitivity: {tp/(tp+fn)}\\nSpecificity: {tn/(tn+fp)}\")"
   ]
  },
  {
   "cell_type": "code",
   "execution_count": 68,
   "id": "f55a1ffb",
   "metadata": {},
   "outputs": [
    {
     "name": "stdout",
     "output_type": "stream",
     "text": [
      "TN: 228\n",
      "FP: 60\n",
      "FN: 92\n",
      "TP: 212\n",
      "Sensitivity: 0.6973684210526315\n",
      "Specificity: 0.7916666666666666\n"
     ]
    }
   ],
   "source": [
    "find_cm(y_test, preds)"
   ]
  },
  {
   "cell_type": "markdown",
   "id": "2b3473fd",
   "metadata": {},
   "source": [
    "### Confusion Matrix Interpretation from Bernoulli Model with Hypertuned CountVectorizer\n",
    "____\n",
    "\n",
    "Showerthoughts as our target / positive outcome:\n",
    "\n",
    "* Our model has true negatives of 228 titles from Casual Conversations correctly classified\n",
    "* Our model has false positives of 60 titles from Showerthoughts incorrectly classified\n",
    "* Our model has false negatives of 92 titles from Casual Conversations incorrectly classified\n",
    "* Our model has true positives of 212 titles from Showerthoughts correctly classified\n",
    "\n",
    "* Our model has a sensitivity of roughly 0.70 with 212 of 304 titles from Showerthoughts correctly classified\n",
    "* Our model has a specificity of 0.79 with 228 of 288 titles from Casual Conversations correctly classified\n",
    "\n",
    "Our model seems to perform better at identifying our negative class (CasualConversation) than our positive class (Showerthoughts)."
   ]
  },
  {
   "cell_type": "markdown",
   "id": "1148262d",
   "metadata": {},
   "source": [
    "# Multinomial Model with Hypertuned COUNTVectorizer\n",
    "_____\n",
    "\n",
    "hyperparameter setting for COUNTVectorizer after implementing gridsearch: 'cvec__max_df': 0.85, 'cvec__max_features': 1500, 'cvec__min_df': 0.03, 'cvec__ngram_range': (1, 1), 'cvec__stop_words':['people', 'like', 'life', 'one', 'get', 'never', 'anyone', 'day', 'make', 'else']"
   ]
  },
  {
   "cell_type": "code",
   "execution_count": 69,
   "id": "a57e3026",
   "metadata": {},
   "outputs": [],
   "source": [
    "# Set a pipeline up with two stages:\n",
    "# 1. CountVectorizer (transformer)\n",
    "# 2. Multinomial\n",
    "pipe = Pipeline([\n",
    "    ('cvec', CountVectorizer()),\n",
    "    ('multi', MultinomialNB())\n",
    "])"
   ]
  },
  {
   "cell_type": "code",
   "execution_count": 70,
   "id": "0f4d0b5c",
   "metadata": {},
   "outputs": [],
   "source": [
    "# custom stop words based on the bar chart of most frequent words\n",
    "cust_stop_words = [\"people\", \"like\", \"life\", \"one\", \"get\",\n",
    "   \"never\", \"anyone\", \"day\", \"make\", \"else\"\n",
    "]"
   ]
  },
  {
   "cell_type": "code",
   "execution_count": 71,
   "id": "ea744531",
   "metadata": {},
   "outputs": [],
   "source": [
    "pipe_params = {'cvec__stop_words': [cust_stop_words],\n",
    "               'cvec__max_features' : [1500, 3000, 5000],\n",
    "              'cvec__min_df' : [0.03, 0.05],\n",
    "               'cvec__max_df': [0.85, 0.9],\n",
    "               'cvec__ngram_range' : [(1, 1), (1, 2)]\n",
    "              }"
   ]
  },
  {
   "cell_type": "code",
   "execution_count": 72,
   "id": "b1e882ba",
   "metadata": {},
   "outputs": [],
   "source": [
    "# Instantiate GridSearchCV.\n",
    "\n",
    "gs = GridSearchCV(pipe, # what object are we optimizing?\n",
    "                  param_grid=pipe_params, # what parameters values are we searching?\n",
    "                  cv = 5) # 5-fold cross-validation."
   ]
  },
  {
   "cell_type": "code",
   "execution_count": 73,
   "id": "c8607a10",
   "metadata": {},
   "outputs": [
    {
     "data": {
      "text/html": [
       "<style>#sk-container-id-4 {color: black;}#sk-container-id-4 pre{padding: 0;}#sk-container-id-4 div.sk-toggleable {background-color: white;}#sk-container-id-4 label.sk-toggleable__label {cursor: pointer;display: block;width: 100%;margin-bottom: 0;padding: 0.3em;box-sizing: border-box;text-align: center;}#sk-container-id-4 label.sk-toggleable__label-arrow:before {content: \"▸\";float: left;margin-right: 0.25em;color: #696969;}#sk-container-id-4 label.sk-toggleable__label-arrow:hover:before {color: black;}#sk-container-id-4 div.sk-estimator:hover label.sk-toggleable__label-arrow:before {color: black;}#sk-container-id-4 div.sk-toggleable__content {max-height: 0;max-width: 0;overflow: hidden;text-align: left;background-color: #f0f8ff;}#sk-container-id-4 div.sk-toggleable__content pre {margin: 0.2em;color: black;border-radius: 0.25em;background-color: #f0f8ff;}#sk-container-id-4 input.sk-toggleable__control:checked~div.sk-toggleable__content {max-height: 200px;max-width: 100%;overflow: auto;}#sk-container-id-4 input.sk-toggleable__control:checked~label.sk-toggleable__label-arrow:before {content: \"▾\";}#sk-container-id-4 div.sk-estimator input.sk-toggleable__control:checked~label.sk-toggleable__label {background-color: #d4ebff;}#sk-container-id-4 div.sk-label input.sk-toggleable__control:checked~label.sk-toggleable__label {background-color: #d4ebff;}#sk-container-id-4 input.sk-hidden--visually {border: 0;clip: rect(1px 1px 1px 1px);clip: rect(1px, 1px, 1px, 1px);height: 1px;margin: -1px;overflow: hidden;padding: 0;position: absolute;width: 1px;}#sk-container-id-4 div.sk-estimator {font-family: monospace;background-color: #f0f8ff;border: 1px dotted black;border-radius: 0.25em;box-sizing: border-box;margin-bottom: 0.5em;}#sk-container-id-4 div.sk-estimator:hover {background-color: #d4ebff;}#sk-container-id-4 div.sk-parallel-item::after {content: \"\";width: 100%;border-bottom: 1px solid gray;flex-grow: 1;}#sk-container-id-4 div.sk-label:hover label.sk-toggleable__label {background-color: #d4ebff;}#sk-container-id-4 div.sk-serial::before {content: \"\";position: absolute;border-left: 1px solid gray;box-sizing: border-box;top: 0;bottom: 0;left: 50%;z-index: 0;}#sk-container-id-4 div.sk-serial {display: flex;flex-direction: column;align-items: center;background-color: white;padding-right: 0.2em;padding-left: 0.2em;position: relative;}#sk-container-id-4 div.sk-item {position: relative;z-index: 1;}#sk-container-id-4 div.sk-parallel {display: flex;align-items: stretch;justify-content: center;background-color: white;position: relative;}#sk-container-id-4 div.sk-item::before, #sk-container-id-4 div.sk-parallel-item::before {content: \"\";position: absolute;border-left: 1px solid gray;box-sizing: border-box;top: 0;bottom: 0;left: 50%;z-index: -1;}#sk-container-id-4 div.sk-parallel-item {display: flex;flex-direction: column;z-index: 1;position: relative;background-color: white;}#sk-container-id-4 div.sk-parallel-item:first-child::after {align-self: flex-end;width: 50%;}#sk-container-id-4 div.sk-parallel-item:last-child::after {align-self: flex-start;width: 50%;}#sk-container-id-4 div.sk-parallel-item:only-child::after {width: 0;}#sk-container-id-4 div.sk-dashed-wrapped {border: 1px dashed gray;margin: 0 0.4em 0.5em 0.4em;box-sizing: border-box;padding-bottom: 0.4em;background-color: white;}#sk-container-id-4 div.sk-label label {font-family: monospace;font-weight: bold;display: inline-block;line-height: 1.2em;}#sk-container-id-4 div.sk-label-container {text-align: center;}#sk-container-id-4 div.sk-container {/* jupyter's `normalize.less` sets `[hidden] { display: none; }` but bootstrap.min.css set `[hidden] { display: none !important; }` so we also need the `!important` here to be able to override the default hidden behavior on the sphinx rendered scikit-learn.org. See: https://github.com/scikit-learn/scikit-learn/issues/21755 */display: inline-block !important;position: relative;}#sk-container-id-4 div.sk-text-repr-fallback {display: none;}</style><div id=\"sk-container-id-4\" class=\"sk-top-container\"><div class=\"sk-text-repr-fallback\"><pre>GridSearchCV(cv=5,\n",
       "             estimator=Pipeline(steps=[(&#x27;cvec&#x27;, CountVectorizer()),\n",
       "                                       (&#x27;multi&#x27;, MultinomialNB())]),\n",
       "             param_grid={&#x27;cvec__max_df&#x27;: [0.85, 0.9],\n",
       "                         &#x27;cvec__max_features&#x27;: [1500, 3000, 5000],\n",
       "                         &#x27;cvec__min_df&#x27;: [0.03, 0.05],\n",
       "                         &#x27;cvec__ngram_range&#x27;: [(1, 1), (1, 2)],\n",
       "                         &#x27;cvec__stop_words&#x27;: [[&#x27;people&#x27;, &#x27;like&#x27;, &#x27;life&#x27;, &#x27;one&#x27;,\n",
       "                                               &#x27;get&#x27;, &#x27;never&#x27;, &#x27;anyone&#x27;, &#x27;day&#x27;,\n",
       "                                               &#x27;make&#x27;, &#x27;else&#x27;]]})</pre><b>In a Jupyter environment, please rerun this cell to show the HTML representation or trust the notebook. <br />On GitHub, the HTML representation is unable to render, please try loading this page with nbviewer.org.</b></div><div class=\"sk-container\" hidden><div class=\"sk-item sk-dashed-wrapped\"><div class=\"sk-label-container\"><div class=\"sk-label sk-toggleable\"><input class=\"sk-toggleable__control sk-hidden--visually\" id=\"sk-estimator-id-13\" type=\"checkbox\" ><label for=\"sk-estimator-id-13\" class=\"sk-toggleable__label sk-toggleable__label-arrow\">GridSearchCV</label><div class=\"sk-toggleable__content\"><pre>GridSearchCV(cv=5,\n",
       "             estimator=Pipeline(steps=[(&#x27;cvec&#x27;, CountVectorizer()),\n",
       "                                       (&#x27;multi&#x27;, MultinomialNB())]),\n",
       "             param_grid={&#x27;cvec__max_df&#x27;: [0.85, 0.9],\n",
       "                         &#x27;cvec__max_features&#x27;: [1500, 3000, 5000],\n",
       "                         &#x27;cvec__min_df&#x27;: [0.03, 0.05],\n",
       "                         &#x27;cvec__ngram_range&#x27;: [(1, 1), (1, 2)],\n",
       "                         &#x27;cvec__stop_words&#x27;: [[&#x27;people&#x27;, &#x27;like&#x27;, &#x27;life&#x27;, &#x27;one&#x27;,\n",
       "                                               &#x27;get&#x27;, &#x27;never&#x27;, &#x27;anyone&#x27;, &#x27;day&#x27;,\n",
       "                                               &#x27;make&#x27;, &#x27;else&#x27;]]})</pre></div></div></div><div class=\"sk-parallel\"><div class=\"sk-parallel-item\"><div class=\"sk-item\"><div class=\"sk-label-container\"><div class=\"sk-label sk-toggleable\"><input class=\"sk-toggleable__control sk-hidden--visually\" id=\"sk-estimator-id-14\" type=\"checkbox\" ><label for=\"sk-estimator-id-14\" class=\"sk-toggleable__label sk-toggleable__label-arrow\">estimator: Pipeline</label><div class=\"sk-toggleable__content\"><pre>Pipeline(steps=[(&#x27;cvec&#x27;, CountVectorizer()), (&#x27;multi&#x27;, MultinomialNB())])</pre></div></div></div><div class=\"sk-serial\"><div class=\"sk-item\"><div class=\"sk-serial\"><div class=\"sk-item\"><div class=\"sk-estimator sk-toggleable\"><input class=\"sk-toggleable__control sk-hidden--visually\" id=\"sk-estimator-id-15\" type=\"checkbox\" ><label for=\"sk-estimator-id-15\" class=\"sk-toggleable__label sk-toggleable__label-arrow\">CountVectorizer</label><div class=\"sk-toggleable__content\"><pre>CountVectorizer()</pre></div></div></div><div class=\"sk-item\"><div class=\"sk-estimator sk-toggleable\"><input class=\"sk-toggleable__control sk-hidden--visually\" id=\"sk-estimator-id-16\" type=\"checkbox\" ><label for=\"sk-estimator-id-16\" class=\"sk-toggleable__label sk-toggleable__label-arrow\">MultinomialNB</label><div class=\"sk-toggleable__content\"><pre>MultinomialNB()</pre></div></div></div></div></div></div></div></div></div></div></div></div>"
      ],
      "text/plain": [
       "GridSearchCV(cv=5,\n",
       "             estimator=Pipeline(steps=[('cvec', CountVectorizer()),\n",
       "                                       ('multi', MultinomialNB())]),\n",
       "             param_grid={'cvec__max_df': [0.85, 0.9],\n",
       "                         'cvec__max_features': [1500, 3000, 5000],\n",
       "                         'cvec__min_df': [0.03, 0.05],\n",
       "                         'cvec__ngram_range': [(1, 1), (1, 2)],\n",
       "                         'cvec__stop_words': [['people', 'like', 'life', 'one',\n",
       "                                               'get', 'never', 'anyone', 'day',\n",
       "                                               'make', 'else']]})"
      ]
     },
     "execution_count": 73,
     "metadata": {},
     "output_type": "execute_result"
    }
   ],
   "source": [
    "# Fit our model!\n",
    "\n",
    "gs.fit(X_train, y_train)"
   ]
  },
  {
   "cell_type": "code",
   "execution_count": 74,
   "id": "33ec06c2",
   "metadata": {},
   "outputs": [
    {
     "name": "stdout",
     "output_type": "stream",
     "text": [
      "0.707815707806159\n"
     ]
    }
   ],
   "source": [
    "# the best score\n",
    "# from cross validation\n",
    "print(gs.best_score_)"
   ]
  },
  {
   "cell_type": "code",
   "execution_count": 75,
   "id": "990a1eaa",
   "metadata": {},
   "outputs": [
    {
     "name": "stdout",
     "output_type": "stream",
     "text": [
      "{'cvec__max_df': 0.85, 'cvec__max_features': 1500, 'cvec__min_df': 0.03, 'cvec__ngram_range': (1, 1), 'cvec__stop_words': ['people', 'like', 'life', 'one', 'get', 'never', 'anyone', 'day', 'make', 'else']}\n"
     ]
    }
   ],
   "source": [
    "# best parameters for COUNTVector\n",
    "print(gs.best_params_)"
   ]
  },
  {
   "cell_type": "code",
   "execution_count": 76,
   "id": "165f6939",
   "metadata": {},
   "outputs": [],
   "source": [
    "gs_model = gs.best_estimator_"
   ]
  },
  {
   "cell_type": "code",
   "execution_count": 77,
   "id": "c63d9a49",
   "metadata": {},
   "outputs": [
    {
     "name": "stdout",
     "output_type": "stream",
     "text": [
      "Pipeline(steps=[('cvec',\n",
      "                 CountVectorizer(max_df=0.85, max_features=1500, min_df=0.03,\n",
      "                                 stop_words=['people', 'like', 'life', 'one',\n",
      "                                             'get', 'never', 'anyone', 'day',\n",
      "                                             'make', 'else'])),\n",
      "                ('multi', MultinomialNB())])\n"
     ]
    }
   ],
   "source": [
    "print(gs_model)"
   ]
  },
  {
   "cell_type": "code",
   "execution_count": 78,
   "id": "20f666a6",
   "metadata": {},
   "outputs": [
    {
     "data": {
      "text/plain": [
       "0.7078398195149465"
      ]
     },
     "execution_count": 78,
     "metadata": {},
     "output_type": "execute_result"
    }
   ],
   "source": [
    "# Score model on train set.\n",
    "gs_model.score(X_train, y_train)"
   ]
  },
  {
   "cell_type": "code",
   "execution_count": 79,
   "id": "d4295b1a",
   "metadata": {},
   "outputs": [
    {
     "data": {
      "text/plain": [
       "0.6942567567567568"
      ]
     },
     "execution_count": 79,
     "metadata": {},
     "output_type": "execute_result"
    }
   ],
   "source": [
    "# Score model on test set.\n",
    "gs_model.score(X_test, y_test)"
   ]
  },
  {
   "cell_type": "markdown",
   "id": "1d7c3c09",
   "metadata": {},
   "source": [
    "## Train and Test Score Interpretation for Underfit/Overfit from Multinomial Model with Countervectorizer\n",
    "____\n",
    "\n",
    "After implementing gridsearch and best parameter of 'cvec__max_df': 0.85, 'cvec__max_features': 1500, 'cvec__min_df': 0.03, 'cvec__ngram_range': (1, 1), 'cvec__stop_words':[cust_stop_words], the train score returns as roughly 71 percent while the test score returns as 69 percent.\n",
    "\n",
    "Because the train score is higher than the test score, there is indication of overfitting. In other words, the model seems to be doing well in fitting the training data but is not generalizing well to new, unseen data. Another aspect of this model is that its overall performance dropped compared to the Bernoulli model's performance.\n",
    "\n",
    "For next steps, the plan is to reduce the model's overfitting by investigating the model's hyperparameters and experimenting with specific parameters such as increasing alpha to reduce the model's complexity and observe if the model reduces overfitting and improve the test score."
   ]
  },
  {
   "cell_type": "code",
   "execution_count": 80,
   "id": "d2e02d10",
   "metadata": {},
   "outputs": [],
   "source": [
    "# Get predictions\n",
    "preds = gs_model.predict(X_test)"
   ]
  },
  {
   "cell_type": "code",
   "execution_count": 81,
   "id": "5fcaf9cc",
   "metadata": {},
   "outputs": [
    {
     "data": {
      "text/plain": [
       "0.6911549707602339"
      ]
     },
     "execution_count": 81,
     "metadata": {},
     "output_type": "execute_result"
    }
   ],
   "source": [
    "# ROC-AUC score of Multinomial with Hypertuned CountVectorizer \n",
    "roc_auc_score(y_test, preds)"
   ]
  },
  {
   "cell_type": "markdown",
   "id": "37800310",
   "metadata": {},
   "source": [
    "# ROC-AUC Score Interpretation of Multinomial with Hypertuned COUNTVectorizer\n",
    "_______\n",
    "\n",
    "To summarize from the ROC-AUC score, the model is doing a moderate job in differentiating between Showerthoughts and CasualConversation 69 percent of the time."
   ]
  },
  {
   "cell_type": "code",
   "execution_count": 82,
   "id": "13bbedfa",
   "metadata": {},
   "outputs": [
    {
     "data": {
      "image/png": "[encoded data removed]",
      "text/plain": [
       "<Figure size 640x480 with 2 Axes>"
      ]
     },
     "metadata": {},
     "output_type": "display_data"
    }
   ],
   "source": [
    "# View confusion matrix\n",
    "ConfusionMatrixDisplay.from_estimator(gs_model, X_test, y_test, cmap='Blues')\n",
    "\n",
    "# Get the axis of the plot\n",
    "ax = plt.gca()\n",
    "\n",
    "# Set the title\n",
    "ax.set_title('Confusion Matrix of Multinomial with Hypertuned CountVectorizer');"
   ]
  },
  {
   "cell_type": "code",
   "execution_count": 83,
   "id": "e4f7e494",
   "metadata": {},
   "outputs": [],
   "source": [
    "# Generate a confusion matrix.\n",
    "def find_cm(y_test, preds):\n",
    "    tn, fp, fn, tp = confusion_matrix(y_test, preds).ravel()\n",
    "    \n",
    "    print(f\"TN: {tn}\\nFP: {fp}\\nFN: {fn}\\nTP: {tp}\")\n",
    "    \n",
    "    print(f\"Sensitivity: {tp/(tp+fn)}\\nSpecificity: {tn/(tn+fp)}\")"
   ]
  },
  {
   "cell_type": "code",
   "execution_count": 84,
   "id": "7633ceec",
   "metadata": {},
   "outputs": [
    {
     "name": "stdout",
     "output_type": "stream",
     "text": [
      "TN: 166\n",
      "FP: 122\n",
      "FN: 59\n",
      "TP: 245\n",
      "Sensitivity: 0.805921052631579\n",
      "Specificity: 0.5763888888888888\n"
     ]
    }
   ],
   "source": [
    "find_cm(y_test, preds)"
   ]
  },
  {
   "cell_type": "markdown",
   "id": "543ec419",
   "metadata": {},
   "source": [
    "### Confusion Matrix Interpretation from Multinomial Model with Hypertuned CountVectorizer\n",
    "____\n",
    "\n",
    "Showerthoughts as our target / positive outcome:\n",
    "\n",
    "* Our model has true negatives of 166 titles from Casual Conversations correctly classified\n",
    "* Our model has false positives of 122 titles from Showerthoughts incorrectly classified\n",
    "* Our model has false negatives of 59 titles from Casual Conversations incorrectly classified\n",
    "* Our model has true positives of 245 titles from Showerthoughts correctly classified\n",
    "\n",
    "* Our model has a sensitivity of 0.81 with 245 of 304 titles from Showerthoughts correctly classified\n",
    "* Our model has a specificity of roughly 0.58 with 166 of 288 titles from Casual Conversations correctly classified\n",
    "\n",
    "Our model seems to perform better at identifying our positive class (Showerthoughts) than our negative class (Casual Conversation)."
   ]
  },
  {
   "cell_type": "markdown",
   "id": "67214c06",
   "metadata": {},
   "source": [
    "# Bernoulli Model with Hypertuned TFIDFVectorizer\n",
    "\n",
    "Hyperparameter setting for TFIDVectorizer after using gridsearch: 'tvec__max_df': 0.85, 'tvec__max_features': 1500, 'tvec__min_df': 0.03, 'tvec__ngram_range': (1, 2), 'tvec__stop_words':['people', 'like', 'life', 'one', 'get', 'never', 'anyone', 'day', 'make', 'else']\n",
    "_____"
   ]
  },
  {
   "cell_type": "code",
   "execution_count": 85,
   "id": "3dc8a743",
   "metadata": {},
   "outputs": [],
   "source": [
    "# creating our X and y\n",
    "X = casualconshower['title']\n",
    "y = casualconshower['subreddit']"
   ]
  },
  {
   "cell_type": "code",
   "execution_count": 86,
   "id": "316e2be9",
   "metadata": {},
   "outputs": [],
   "source": [
    "X_train, X_test, y_train, y_test = train_test_split(X,\n",
    "                                                    y,\n",
    "                                                    test_size=0.25,\n",
    "                                                    random_state=42,\n",
    "                                                    stratify=y)"
   ]
  },
  {
   "cell_type": "code",
   "execution_count": 87,
   "id": "27c8c41d",
   "metadata": {},
   "outputs": [],
   "source": [
    "# Set a pipeline up with two stages:\n",
    "# 1. TfidfVectorizer (transformer)\n",
    "# 2. Bernoulli\n",
    "pipe = Pipeline([\n",
    "    ('tvec', TfidfVectorizer()),\n",
    "    ('bnb', BernoulliNB())\n",
    "])\n"
   ]
  },
  {
   "cell_type": "code",
   "execution_count": 88,
   "id": "28581e88",
   "metadata": {},
   "outputs": [],
   "source": [
    "# custom stop words based on the bar chart of most frequent words\n",
    "cust_stop_words = [\"people\", \"like\", \"life\", \"one\", \"get\",\n",
    "   \"never\", \"anyone\", \"day\", \"make\", \"else\"\n",
    "]"
   ]
  },
  {
   "cell_type": "code",
   "execution_count": 89,
   "id": "1716e12e",
   "metadata": {},
   "outputs": [],
   "source": [
    "# Search over the following values of hyperparameters:\n",
    "# Maximum number of features fit: 2000, 3000, 4000, 5000\n",
    "# Minimum number of documents needed to include token: 2, 3\n",
    "# Maximum number of documents needed to include token: 90%, 95%\n",
    "# Check (individual tokens) and also check (individual tokens and 2-grams).\n",
    "\n",
    "pipe_params = {'tvec__stop_words': [cust_stop_words],\n",
    "               'tvec__max_features' : [1500, 3000, 5000],\n",
    "              'tvec__min_df' : [0.03, 0.05],\n",
    "               'tvec__max_df': [0.85, 0.9],\n",
    "               'tvec__ngram_range' : [(1, 1), (1, 2)]\n",
    "              }"
   ]
  },
  {
   "cell_type": "code",
   "execution_count": 90,
   "id": "4239ac6f",
   "metadata": {},
   "outputs": [],
   "source": [
    "# Instantiate GridSearchCV.\n",
    "\n",
    "gs = GridSearchCV(pipe, # what object are we optimizing?\n",
    "                  param_grid=pipe_params, # what parameters values are we searching?\n",
    "                  cv = 5) # 5-fold cross-validation."
   ]
  },
  {
   "cell_type": "code",
   "execution_count": 91,
   "id": "cfa021a1",
   "metadata": {},
   "outputs": [
    {
     "data": {
      "text/html": [
       "<style>#sk-container-id-5 {color: black;}#sk-container-id-5 pre{padding: 0;}#sk-container-id-5 div.sk-toggleable {background-color: white;}#sk-container-id-5 label.sk-toggleable__label {cursor: pointer;display: block;width: 100%;margin-bottom: 0;padding: 0.3em;box-sizing: border-box;text-align: center;}#sk-container-id-5 label.sk-toggleable__label-arrow:before {content: \"▸\";float: left;margin-right: 0.25em;color: #696969;}#sk-container-id-5 label.sk-toggleable__label-arrow:hover:before {color: black;}#sk-container-id-5 div.sk-estimator:hover label.sk-toggleable__label-arrow:before {color: black;}#sk-container-id-5 div.sk-toggleable__content {max-height: 0;max-width: 0;overflow: hidden;text-align: left;background-color: #f0f8ff;}#sk-container-id-5 div.sk-toggleable__content pre {margin: 0.2em;color: black;border-radius: 0.25em;background-color: #f0f8ff;}#sk-container-id-5 input.sk-toggleable__control:checked~div.sk-toggleable__content {max-height: 200px;max-width: 100%;overflow: auto;}#sk-container-id-5 input.sk-toggleable__control:checked~label.sk-toggleable__label-arrow:before {content: \"▾\";}#sk-container-id-5 div.sk-estimator input.sk-toggleable__control:checked~label.sk-toggleable__label {background-color: #d4ebff;}#sk-container-id-5 div.sk-label input.sk-toggleable__control:checked~label.sk-toggleable__label {background-color: #d4ebff;}#sk-container-id-5 input.sk-hidden--visually {border: 0;clip: rect(1px 1px 1px 1px);clip: rect(1px, 1px, 1px, 1px);height: 1px;margin: -1px;overflow: hidden;padding: 0;position: absolute;width: 1px;}#sk-container-id-5 div.sk-estimator {font-family: monospace;background-color: #f0f8ff;border: 1px dotted black;border-radius: 0.25em;box-sizing: border-box;margin-bottom: 0.5em;}#sk-container-id-5 div.sk-estimator:hover {background-color: #d4ebff;}#sk-container-id-5 div.sk-parallel-item::after {content: \"\";width: 100%;border-bottom: 1px solid gray;flex-grow: 1;}#sk-container-id-5 div.sk-label:hover label.sk-toggleable__label {background-color: #d4ebff;}#sk-container-id-5 div.sk-serial::before {content: \"\";position: absolute;border-left: 1px solid gray;box-sizing: border-box;top: 0;bottom: 0;left: 50%;z-index: 0;}#sk-container-id-5 div.sk-serial {display: flex;flex-direction: column;align-items: center;background-color: white;padding-right: 0.2em;padding-left: 0.2em;position: relative;}#sk-container-id-5 div.sk-item {position: relative;z-index: 1;}#sk-container-id-5 div.sk-parallel {display: flex;align-items: stretch;justify-content: center;background-color: white;position: relative;}#sk-container-id-5 div.sk-item::before, #sk-container-id-5 div.sk-parallel-item::before {content: \"\";position: absolute;border-left: 1px solid gray;box-sizing: border-box;top: 0;bottom: 0;left: 50%;z-index: -1;}#sk-container-id-5 div.sk-parallel-item {display: flex;flex-direction: column;z-index: 1;position: relative;background-color: white;}#sk-container-id-5 div.sk-parallel-item:first-child::after {align-self: flex-end;width: 50%;}#sk-container-id-5 div.sk-parallel-item:last-child::after {align-self: flex-start;width: 50%;}#sk-container-id-5 div.sk-parallel-item:only-child::after {width: 0;}#sk-container-id-5 div.sk-dashed-wrapped {border: 1px dashed gray;margin: 0 0.4em 0.5em 0.4em;box-sizing: border-box;padding-bottom: 0.4em;background-color: white;}#sk-container-id-5 div.sk-label label {font-family: monospace;font-weight: bold;display: inline-block;line-height: 1.2em;}#sk-container-id-5 div.sk-label-container {text-align: center;}#sk-container-id-5 div.sk-container {/* jupyter's `normalize.less` sets `[hidden] { display: none; }` but bootstrap.min.css set `[hidden] { display: none !important; }` so we also need the `!important` here to be able to override the default hidden behavior on the sphinx rendered scikit-learn.org. See: https://github.com/scikit-learn/scikit-learn/issues/21755 */display: inline-block !important;position: relative;}#sk-container-id-5 div.sk-text-repr-fallback {display: none;}</style><div id=\"sk-container-id-5\" class=\"sk-top-container\"><div class=\"sk-text-repr-fallback\"><pre>GridSearchCV(cv=5,\n",
       "             estimator=Pipeline(steps=[(&#x27;tvec&#x27;, TfidfVectorizer()),\n",
       "                                       (&#x27;bnb&#x27;, BernoulliNB())]),\n",
       "             param_grid={&#x27;tvec__max_df&#x27;: [0.85, 0.9],\n",
       "                         &#x27;tvec__max_features&#x27;: [1500, 3000, 5000],\n",
       "                         &#x27;tvec__min_df&#x27;: [0.03, 0.05],\n",
       "                         &#x27;tvec__ngram_range&#x27;: [(1, 1), (1, 2)],\n",
       "                         &#x27;tvec__stop_words&#x27;: [[&#x27;people&#x27;, &#x27;like&#x27;, &#x27;life&#x27;, &#x27;one&#x27;,\n",
       "                                               &#x27;get&#x27;, &#x27;never&#x27;, &#x27;anyone&#x27;, &#x27;day&#x27;,\n",
       "                                               &#x27;make&#x27;, &#x27;else&#x27;]]})</pre><b>In a Jupyter environment, please rerun this cell to show the HTML representation or trust the notebook. <br />On GitHub, the HTML representation is unable to render, please try loading this page with nbviewer.org.</b></div><div class=\"sk-container\" hidden><div class=\"sk-item sk-dashed-wrapped\"><div class=\"sk-label-container\"><div class=\"sk-label sk-toggleable\"><input class=\"sk-toggleable__control sk-hidden--visually\" id=\"sk-estimator-id-17\" type=\"checkbox\" ><label for=\"sk-estimator-id-17\" class=\"sk-toggleable__label sk-toggleable__label-arrow\">GridSearchCV</label><div class=\"sk-toggleable__content\"><pre>GridSearchCV(cv=5,\n",
       "             estimator=Pipeline(steps=[(&#x27;tvec&#x27;, TfidfVectorizer()),\n",
       "                                       (&#x27;bnb&#x27;, BernoulliNB())]),\n",
       "             param_grid={&#x27;tvec__max_df&#x27;: [0.85, 0.9],\n",
       "                         &#x27;tvec__max_features&#x27;: [1500, 3000, 5000],\n",
       "                         &#x27;tvec__min_df&#x27;: [0.03, 0.05],\n",
       "                         &#x27;tvec__ngram_range&#x27;: [(1, 1), (1, 2)],\n",
       "                         &#x27;tvec__stop_words&#x27;: [[&#x27;people&#x27;, &#x27;like&#x27;, &#x27;life&#x27;, &#x27;one&#x27;,\n",
       "                                               &#x27;get&#x27;, &#x27;never&#x27;, &#x27;anyone&#x27;, &#x27;day&#x27;,\n",
       "                                               &#x27;make&#x27;, &#x27;else&#x27;]]})</pre></div></div></div><div class=\"sk-parallel\"><div class=\"sk-parallel-item\"><div class=\"sk-item\"><div class=\"sk-label-container\"><div class=\"sk-label sk-toggleable\"><input class=\"sk-toggleable__control sk-hidden--visually\" id=\"sk-estimator-id-18\" type=\"checkbox\" ><label for=\"sk-estimator-id-18\" class=\"sk-toggleable__label sk-toggleable__label-arrow\">estimator: Pipeline</label><div class=\"sk-toggleable__content\"><pre>Pipeline(steps=[(&#x27;tvec&#x27;, TfidfVectorizer()), (&#x27;bnb&#x27;, BernoulliNB())])</pre></div></div></div><div class=\"sk-serial\"><div class=\"sk-item\"><div class=\"sk-serial\"><div class=\"sk-item\"><div class=\"sk-estimator sk-toggleable\"><input class=\"sk-toggleable__control sk-hidden--visually\" id=\"sk-estimator-id-19\" type=\"checkbox\" ><label for=\"sk-estimator-id-19\" class=\"sk-toggleable__label sk-toggleable__label-arrow\">TfidfVectorizer</label><div class=\"sk-toggleable__content\"><pre>TfidfVectorizer()</pre></div></div></div><div class=\"sk-item\"><div class=\"sk-estimator sk-toggleable\"><input class=\"sk-toggleable__control sk-hidden--visually\" id=\"sk-estimator-id-20\" type=\"checkbox\" ><label for=\"sk-estimator-id-20\" class=\"sk-toggleable__label sk-toggleable__label-arrow\">BernoulliNB</label><div class=\"sk-toggleable__content\"><pre>BernoulliNB()</pre></div></div></div></div></div></div></div></div></div></div></div></div>"
      ],
      "text/plain": [
       "GridSearchCV(cv=5,\n",
       "             estimator=Pipeline(steps=[('tvec', TfidfVectorizer()),\n",
       "                                       ('bnb', BernoulliNB())]),\n",
       "             param_grid={'tvec__max_df': [0.85, 0.9],\n",
       "                         'tvec__max_features': [1500, 3000, 5000],\n",
       "                         'tvec__min_df': [0.03, 0.05],\n",
       "                         'tvec__ngram_range': [(1, 1), (1, 2)],\n",
       "                         'tvec__stop_words': [['people', 'like', 'life', 'one',\n",
       "                                               'get', 'never', 'anyone', 'day',\n",
       "                                               'make', 'else']]})"
      ]
     },
     "execution_count": 91,
     "metadata": {},
     "output_type": "execute_result"
    }
   ],
   "source": [
    "# Fit our model!\n",
    "\n",
    "gs.fit(X_train, y_train)"
   ]
  },
  {
   "cell_type": "code",
   "execution_count": 92,
   "id": "8bc09429",
   "metadata": {},
   "outputs": [
    {
     "name": "stdout",
     "output_type": "stream",
     "text": [
      "0.7817410678761837\n"
     ]
    }
   ],
   "source": [
    "# the best score\n",
    "# from cross validation\n",
    "print(gs.best_score_)"
   ]
  },
  {
   "cell_type": "code",
   "execution_count": 93,
   "id": "fd449fd3",
   "metadata": {},
   "outputs": [
    {
     "name": "stdout",
     "output_type": "stream",
     "text": [
      "{'tvec__max_df': 0.85, 'tvec__max_features': 1500, 'tvec__min_df': 0.03, 'tvec__ngram_range': (1, 2), 'tvec__stop_words': ['people', 'like', 'life', 'one', 'get', 'never', 'anyone', 'day', 'make', 'else']}\n"
     ]
    }
   ],
   "source": [
    "# best parameters for TfidfVectorizer\n",
    "print(gs.best_params_)"
   ]
  },
  {
   "cell_type": "code",
   "execution_count": 94,
   "id": "8dfffefd",
   "metadata": {},
   "outputs": [],
   "source": [
    "gs_model = gs.best_estimator_"
   ]
  },
  {
   "cell_type": "code",
   "execution_count": 95,
   "id": "b8878cd9",
   "metadata": {},
   "outputs": [
    {
     "name": "stdout",
     "output_type": "stream",
     "text": [
      "Pipeline(steps=[('tvec',\n",
      "                 TfidfVectorizer(max_df=0.85, max_features=1500, min_df=0.03,\n",
      "                                 ngram_range=(1, 2),\n",
      "                                 stop_words=['people', 'like', 'life', 'one',\n",
      "                                             'get', 'never', 'anyone', 'day',\n",
      "                                             'make', 'else'])),\n",
      "                ('bnb', BernoulliNB())])\n"
     ]
    }
   ],
   "source": [
    "print(gs_model)"
   ]
  },
  {
   "cell_type": "code",
   "execution_count": 96,
   "id": "98c2c86b",
   "metadata": {},
   "outputs": [
    {
     "data": {
      "text/plain": [
       "0.7879300620417372"
      ]
     },
     "execution_count": 96,
     "metadata": {},
     "output_type": "execute_result"
    }
   ],
   "source": [
    "# Score model on train set.\n",
    "gs_model.score(X_train, y_train)"
   ]
  },
  {
   "cell_type": "code",
   "execution_count": 97,
   "id": "6c0cb583",
   "metadata": {},
   "outputs": [
    {
     "data": {
      "text/plain": [
       "0.7432432432432432"
      ]
     },
     "execution_count": 97,
     "metadata": {},
     "output_type": "execute_result"
    }
   ],
   "source": [
    "# Score model on test set.\n",
    "gs_model.score(X_test, y_test)"
   ]
  },
  {
   "cell_type": "markdown",
   "id": "6871e60e",
   "metadata": {},
   "source": [
    "## Train and Test Score Interpretation for Underfit/Overfit from Bernoulli Model with TFIDFVectorizer\n",
    "____\n",
    "\n",
    "After utilizing gridsearch and returning the best parameter, 'tvec__max_df': 0.85, 'tvec__max_features': 1500, 'tvec__min_df': 0.03, 'tvec__ngram_range': (1, 2), 'tvec__stop_words':[cust_stop_words], the train score returns as roughly 79 percent while the test score returns as 74 percent.\n",
    "\n",
    "Because the train score is slightly higher than the test score, there is indication of some overfitting. In other words, the model seems to be doing well in fitting the training data but is not generalizing well to new, unseen data.\n",
    "\n",
    "For next steps, the plan is to reduce the model's overfitting by investigating Bernoulli's hyperparameters and experimenting with specific parameters such as increasing alpha to reduce the model's complexity and observe if the model reduces overfitting and improve the test score."
   ]
  },
  {
   "cell_type": "code",
   "execution_count": 98,
   "id": "19a7b1b6",
   "metadata": {},
   "outputs": [],
   "source": [
    "# Get predictions\n",
    "preds = gs_model.predict(X_test)"
   ]
  },
  {
   "cell_type": "code",
   "execution_count": 99,
   "id": "fc99b437",
   "metadata": {},
   "outputs": [
    {
     "data": {
      "text/plain": [
       "0.744517543859649"
      ]
     },
     "execution_count": 99,
     "metadata": {},
     "output_type": "execute_result"
    }
   ],
   "source": [
    "# ROC-AUC score of Bernoulli with Hypertuned TfidfVectorizer \n",
    "roc_auc_score(y_test, preds)"
   ]
  },
  {
   "cell_type": "markdown",
   "id": "05f35615",
   "metadata": {},
   "source": [
    "# ROC-AUC Score Interpretation of Bernoulli with Hypertuned TfidfVectorizer\n",
    "_______\n",
    "\n",
    "To summarize from the ROC-AUC score, the model is doing a decent job in differentiating between Showerthoughts and CasualConversation 74 percent of the time. "
   ]
  },
  {
   "cell_type": "code",
   "execution_count": 100,
   "id": "3ca70613",
   "metadata": {},
   "outputs": [
    {
     "data": {
      "image/png": "[encoded data removed]",
      "text/plain": [
       "<Figure size 640x480 with 2 Axes>"
      ]
     },
     "metadata": {},
     "output_type": "display_data"
    }
   ],
   "source": [
    "# View confusion matrix\n",
    "ConfusionMatrixDisplay.from_estimator(gs_model, X_test, y_test, cmap='Blues')\n",
    "\n",
    "# Get the axis of the plot\n",
    "ax = plt.gca()\n",
    "\n",
    "# Set the title\n",
    "ax.set_title('Confusion Matrix of Bernoulli with Hypertuned TfidfVectorizer');"
   ]
  },
  {
   "cell_type": "code",
   "execution_count": 101,
   "id": "8967a489",
   "metadata": {},
   "outputs": [],
   "source": [
    "# Generate a confusion matrix.\n",
    "def find_cm(y_test, preds):\n",
    "    tn, fp, fn, tp = confusion_matrix(y_test, preds).ravel()\n",
    "    \n",
    "    print(f\"TN: {tn}\\nFP: {fp}\\nFN: {fn}\\nTP: {tp}\")\n",
    "    \n",
    "    print(f\"Sensitivity: {tp/(tp+fn)}\\nSpecificity: {tn/(tn+fp)}\")"
   ]
  },
  {
   "cell_type": "code",
   "execution_count": 102,
   "id": "52e0b1b6",
   "metadata": {},
   "outputs": [
    {
     "name": "stdout",
     "output_type": "stream",
     "text": [
      "TN: 228\n",
      "FP: 60\n",
      "FN: 92\n",
      "TP: 212\n",
      "Sensitivity: 0.6973684210526315\n",
      "Specificity: 0.7916666666666666\n"
     ]
    }
   ],
   "source": [
    "find_cm(y_test, preds)"
   ]
  },
  {
   "cell_type": "markdown",
   "id": "82bb7784",
   "metadata": {},
   "source": [
    "### Confusion Matrix Interpretation from Bernoulli Model with Hypertuned TFIDFVectorizer\n",
    "____\n",
    "\n",
    "Showerthoughts as our target / positive outcome:\n",
    "\n",
    "* Our model has true negatives of 228 titles from Casual Conversations correctly classified\n",
    "* Our model has false positives of 60 titles from Showerthoughts incorrectly classified\n",
    "* Our model has false negatives of 92 titles from Casual Conversations incorrectly classified\n",
    "* Our model has true positives of 212 titles from Showerthoughts correctly classified\n",
    "\n",
    "* Our model has a sensitivity of roughly 0.70 with 212 of 304 titles from Showerthoughts correctly classified\n",
    "* Our model has a specificity of roughly 0.80 with 228 of 288 titles from Casual Conversations correctly classified\n",
    "\n",
    "Our model seems to perform better at identifying our negative class (CasualConversation) than our positive class (Showerthoughts)."
   ]
  },
  {
   "cell_type": "markdown",
   "id": "04e451fe",
   "metadata": {},
   "source": [
    "# Multinomial Model with Hypertuned TFIDFVectorizer\n",
    "\n",
    "Hyperparameter setting for TFIDFVectorizer after using gridsearch:  'tvec__max_df': 0.85, 'tvec__max_features': 1500, 'tvec__min_df': 0.03, 'tvec__ngram_range': (1, 2), 'tvec__stop_words':[cust_stop_words]\n",
    "_____"
   ]
  },
  {
   "cell_type": "code",
   "execution_count": 103,
   "id": "1eb5042d",
   "metadata": {},
   "outputs": [],
   "source": [
    "# Set a pipeline up with two stages:\n",
    "# 1. CountVectorizer (transformer)\n",
    "# 2. Multinomial\n",
    "pipe = Pipeline([\n",
    "    ('tvec', TfidfVectorizer()),\n",
    "    ('multi', MultinomialNB())\n",
    "])\n"
   ]
  },
  {
   "cell_type": "code",
   "execution_count": 104,
   "id": "89ec4362",
   "metadata": {},
   "outputs": [],
   "source": [
    "# custom stop words based on the bar chart of most frequent words\n",
    "cust_stop_words = [\"people\", \"like\", \"life\", \"one\", \"get\",\n",
    "   \"never\", \"anyone\", \"day\", \"make\", \"else\"\n",
    "]"
   ]
  },
  {
   "cell_type": "code",
   "execution_count": 105,
   "id": "f4968852",
   "metadata": {},
   "outputs": [],
   "source": [
    "pipe_params = {'tvec__stop_words': [cust_stop_words],\n",
    "               'tvec__max_features' : [1500, 3000, 5000],\n",
    "              'tvec__min_df' : [0.03, 0.05],\n",
    "               'tvec__max_df': [0.85, 0.9],\n",
    "               'tvec__ngram_range' : [(1, 1), (1, 2)]\n",
    "              }"
   ]
  },
  {
   "cell_type": "code",
   "execution_count": 106,
   "id": "826468b3",
   "metadata": {},
   "outputs": [],
   "source": [
    "# Instantiate GridSearchCV.\n",
    "\n",
    "gs = GridSearchCV(pipe, # what object are we optimizing?\n",
    "                  param_grid=pipe_params, # what parameters values are we searching?\n",
    "                  cv = 5) # 5-fold cross-validation."
   ]
  },
  {
   "cell_type": "code",
   "execution_count": 107,
   "id": "f9f972b8",
   "metadata": {},
   "outputs": [
    {
     "data": {
      "text/html": [
       "<style>#sk-container-id-6 {color: black;}#sk-container-id-6 pre{padding: 0;}#sk-container-id-6 div.sk-toggleable {background-color: white;}#sk-container-id-6 label.sk-toggleable__label {cursor: pointer;display: block;width: 100%;margin-bottom: 0;padding: 0.3em;box-sizing: border-box;text-align: center;}#sk-container-id-6 label.sk-toggleable__label-arrow:before {content: \"▸\";float: left;margin-right: 0.25em;color: #696969;}#sk-container-id-6 label.sk-toggleable__label-arrow:hover:before {color: black;}#sk-container-id-6 div.sk-estimator:hover label.sk-toggleable__label-arrow:before {color: black;}#sk-container-id-6 div.sk-toggleable__content {max-height: 0;max-width: 0;overflow: hidden;text-align: left;background-color: #f0f8ff;}#sk-container-id-6 div.sk-toggleable__content pre {margin: 0.2em;color: black;border-radius: 0.25em;background-color: #f0f8ff;}#sk-container-id-6 input.sk-toggleable__control:checked~div.sk-toggleable__content {max-height: 200px;max-width: 100%;overflow: auto;}#sk-container-id-6 input.sk-toggleable__control:checked~label.sk-toggleable__label-arrow:before {content: \"▾\";}#sk-container-id-6 div.sk-estimator input.sk-toggleable__control:checked~label.sk-toggleable__label {background-color: #d4ebff;}#sk-container-id-6 div.sk-label input.sk-toggleable__control:checked~label.sk-toggleable__label {background-color: #d4ebff;}#sk-container-id-6 input.sk-hidden--visually {border: 0;clip: rect(1px 1px 1px 1px);clip: rect(1px, 1px, 1px, 1px);height: 1px;margin: -1px;overflow: hidden;padding: 0;position: absolute;width: 1px;}#sk-container-id-6 div.sk-estimator {font-family: monospace;background-color: #f0f8ff;border: 1px dotted black;border-radius: 0.25em;box-sizing: border-box;margin-bottom: 0.5em;}#sk-container-id-6 div.sk-estimator:hover {background-color: #d4ebff;}#sk-container-id-6 div.sk-parallel-item::after {content: \"\";width: 100%;border-bottom: 1px solid gray;flex-grow: 1;}#sk-container-id-6 div.sk-label:hover label.sk-toggleable__label {background-color: #d4ebff;}#sk-container-id-6 div.sk-serial::before {content: \"\";position: absolute;border-left: 1px solid gray;box-sizing: border-box;top: 0;bottom: 0;left: 50%;z-index: 0;}#sk-container-id-6 div.sk-serial {display: flex;flex-direction: column;align-items: center;background-color: white;padding-right: 0.2em;padding-left: 0.2em;position: relative;}#sk-container-id-6 div.sk-item {position: relative;z-index: 1;}#sk-container-id-6 div.sk-parallel {display: flex;align-items: stretch;justify-content: center;background-color: white;position: relative;}#sk-container-id-6 div.sk-item::before, #sk-container-id-6 div.sk-parallel-item::before {content: \"\";position: absolute;border-left: 1px solid gray;box-sizing: border-box;top: 0;bottom: 0;left: 50%;z-index: -1;}#sk-container-id-6 div.sk-parallel-item {display: flex;flex-direction: column;z-index: 1;position: relative;background-color: white;}#sk-container-id-6 div.sk-parallel-item:first-child::after {align-self: flex-end;width: 50%;}#sk-container-id-6 div.sk-parallel-item:last-child::after {align-self: flex-start;width: 50%;}#sk-container-id-6 div.sk-parallel-item:only-child::after {width: 0;}#sk-container-id-6 div.sk-dashed-wrapped {border: 1px dashed gray;margin: 0 0.4em 0.5em 0.4em;box-sizing: border-box;padding-bottom: 0.4em;background-color: white;}#sk-container-id-6 div.sk-label label {font-family: monospace;font-weight: bold;display: inline-block;line-height: 1.2em;}#sk-container-id-6 div.sk-label-container {text-align: center;}#sk-container-id-6 div.sk-container {/* jupyter's `normalize.less` sets `[hidden] { display: none; }` but bootstrap.min.css set `[hidden] { display: none !important; }` so we also need the `!important` here to be able to override the default hidden behavior on the sphinx rendered scikit-learn.org. See: https://github.com/scikit-learn/scikit-learn/issues/21755 */display: inline-block !important;position: relative;}#sk-container-id-6 div.sk-text-repr-fallback {display: none;}</style><div id=\"sk-container-id-6\" class=\"sk-top-container\"><div class=\"sk-text-repr-fallback\"><pre>GridSearchCV(cv=5,\n",
       "             estimator=Pipeline(steps=[(&#x27;tvec&#x27;, TfidfVectorizer()),\n",
       "                                       (&#x27;multi&#x27;, MultinomialNB())]),\n",
       "             param_grid={&#x27;tvec__max_df&#x27;: [0.85, 0.9],\n",
       "                         &#x27;tvec__max_features&#x27;: [1500, 3000, 5000],\n",
       "                         &#x27;tvec__min_df&#x27;: [0.03, 0.05],\n",
       "                         &#x27;tvec__ngram_range&#x27;: [(1, 1), (1, 2)],\n",
       "                         &#x27;tvec__stop_words&#x27;: [[&#x27;people&#x27;, &#x27;like&#x27;, &#x27;life&#x27;, &#x27;one&#x27;,\n",
       "                                               &#x27;get&#x27;, &#x27;never&#x27;, &#x27;anyone&#x27;, &#x27;day&#x27;,\n",
       "                                               &#x27;make&#x27;, &#x27;else&#x27;]]})</pre><b>In a Jupyter environment, please rerun this cell to show the HTML representation or trust the notebook. <br />On GitHub, the HTML representation is unable to render, please try loading this page with nbviewer.org.</b></div><div class=\"sk-container\" hidden><div class=\"sk-item sk-dashed-wrapped\"><div class=\"sk-label-container\"><div class=\"sk-label sk-toggleable\"><input class=\"sk-toggleable__control sk-hidden--visually\" id=\"sk-estimator-id-21\" type=\"checkbox\" ><label for=\"sk-estimator-id-21\" class=\"sk-toggleable__label sk-toggleable__label-arrow\">GridSearchCV</label><div class=\"sk-toggleable__content\"><pre>GridSearchCV(cv=5,\n",
       "             estimator=Pipeline(steps=[(&#x27;tvec&#x27;, TfidfVectorizer()),\n",
       "                                       (&#x27;multi&#x27;, MultinomialNB())]),\n",
       "             param_grid={&#x27;tvec__max_df&#x27;: [0.85, 0.9],\n",
       "                         &#x27;tvec__max_features&#x27;: [1500, 3000, 5000],\n",
       "                         &#x27;tvec__min_df&#x27;: [0.03, 0.05],\n",
       "                         &#x27;tvec__ngram_range&#x27;: [(1, 1), (1, 2)],\n",
       "                         &#x27;tvec__stop_words&#x27;: [[&#x27;people&#x27;, &#x27;like&#x27;, &#x27;life&#x27;, &#x27;one&#x27;,\n",
       "                                               &#x27;get&#x27;, &#x27;never&#x27;, &#x27;anyone&#x27;, &#x27;day&#x27;,\n",
       "                                               &#x27;make&#x27;, &#x27;else&#x27;]]})</pre></div></div></div><div class=\"sk-parallel\"><div class=\"sk-parallel-item\"><div class=\"sk-item\"><div class=\"sk-label-container\"><div class=\"sk-label sk-toggleable\"><input class=\"sk-toggleable__control sk-hidden--visually\" id=\"sk-estimator-id-22\" type=\"checkbox\" ><label for=\"sk-estimator-id-22\" class=\"sk-toggleable__label sk-toggleable__label-arrow\">estimator: Pipeline</label><div class=\"sk-toggleable__content\"><pre>Pipeline(steps=[(&#x27;tvec&#x27;, TfidfVectorizer()), (&#x27;multi&#x27;, MultinomialNB())])</pre></div></div></div><div class=\"sk-serial\"><div class=\"sk-item\"><div class=\"sk-serial\"><div class=\"sk-item\"><div class=\"sk-estimator sk-toggleable\"><input class=\"sk-toggleable__control sk-hidden--visually\" id=\"sk-estimator-id-23\" type=\"checkbox\" ><label for=\"sk-estimator-id-23\" class=\"sk-toggleable__label sk-toggleable__label-arrow\">TfidfVectorizer</label><div class=\"sk-toggleable__content\"><pre>TfidfVectorizer()</pre></div></div></div><div class=\"sk-item\"><div class=\"sk-estimator sk-toggleable\"><input class=\"sk-toggleable__control sk-hidden--visually\" id=\"sk-estimator-id-24\" type=\"checkbox\" ><label for=\"sk-estimator-id-24\" class=\"sk-toggleable__label sk-toggleable__label-arrow\">MultinomialNB</label><div class=\"sk-toggleable__content\"><pre>MultinomialNB()</pre></div></div></div></div></div></div></div></div></div></div></div></div>"
      ],
      "text/plain": [
       "GridSearchCV(cv=5,\n",
       "             estimator=Pipeline(steps=[('tvec', TfidfVectorizer()),\n",
       "                                       ('multi', MultinomialNB())]),\n",
       "             param_grid={'tvec__max_df': [0.85, 0.9],\n",
       "                         'tvec__max_features': [1500, 3000, 5000],\n",
       "                         'tvec__min_df': [0.03, 0.05],\n",
       "                         'tvec__ngram_range': [(1, 1), (1, 2)],\n",
       "                         'tvec__stop_words': [['people', 'like', 'life', 'one',\n",
       "                                               'get', 'never', 'anyone', 'day',\n",
       "                                               'make', 'else']]})"
      ]
     },
     "execution_count": 107,
     "metadata": {},
     "output_type": "execute_result"
    }
   ],
   "source": [
    "# Fit our model!\n",
    "\n",
    "gs.fit(X_train, y_train)"
   ]
  },
  {
   "cell_type": "code",
   "execution_count": 108,
   "id": "d81a3b98",
   "metadata": {},
   "outputs": [
    {
     "name": "stdout",
     "output_type": "stream",
     "text": [
      "0.7083759051484046\n"
     ]
    }
   ],
   "source": [
    "# the best score\n",
    "# from cross validation\n",
    "print(gs.best_score_)"
   ]
  },
  {
   "cell_type": "code",
   "execution_count": 109,
   "id": "9398c73a",
   "metadata": {},
   "outputs": [
    {
     "name": "stdout",
     "output_type": "stream",
     "text": [
      "{'tvec__max_df': 0.85, 'tvec__max_features': 1500, 'tvec__min_df': 0.03, 'tvec__ngram_range': (1, 2), 'tvec__stop_words': ['people', 'like', 'life', 'one', 'get', 'never', 'anyone', 'day', 'make', 'else']}\n"
     ]
    }
   ],
   "source": [
    "# best parameters for TfidfVectorizer\n",
    "print(gs.best_params_)"
   ]
  },
  {
   "cell_type": "code",
   "execution_count": 110,
   "id": "dcd3f43a",
   "metadata": {},
   "outputs": [],
   "source": [
    "gs_model = gs.best_estimator_"
   ]
  },
  {
   "cell_type": "code",
   "execution_count": 111,
   "id": "5a91f939",
   "metadata": {},
   "outputs": [
    {
     "name": "stdout",
     "output_type": "stream",
     "text": [
      "Pipeline(steps=[('tvec',\n",
      "                 TfidfVectorizer(max_df=0.85, max_features=1500, min_df=0.03,\n",
      "                                 ngram_range=(1, 2),\n",
      "                                 stop_words=['people', 'like', 'life', 'one',\n",
      "                                             'get', 'never', 'anyone', 'day',\n",
      "                                             'make', 'else'])),\n",
      "                ('multi', MultinomialNB())])\n"
     ]
    }
   ],
   "source": [
    "print(gs_model)"
   ]
  },
  {
   "cell_type": "code",
   "execution_count": 112,
   "id": "b5e3e020",
   "metadata": {},
   "outputs": [
    {
     "data": {
      "text/plain": [
       "0.7179921037789058"
      ]
     },
     "execution_count": 112,
     "metadata": {},
     "output_type": "execute_result"
    }
   ],
   "source": [
    "# Score model on train set.\n",
    "gs_model.score(X_train, y_train)"
   ]
  },
  {
   "cell_type": "code",
   "execution_count": 113,
   "id": "a1a53327",
   "metadata": {},
   "outputs": [
    {
     "data": {
      "text/plain": [
       "0.6976351351351351"
      ]
     },
     "execution_count": 113,
     "metadata": {},
     "output_type": "execute_result"
    }
   ],
   "source": [
    "# Score model on test set.\n",
    "gs_model.score(X_test, y_test)"
   ]
  },
  {
   "cell_type": "markdown",
   "id": "90612492",
   "metadata": {},
   "source": [
    "## Train and Test Score Interpretation for Underfit/Overfit from Multinomial Model with TFIDFVectorizer\n",
    "____\n",
    "\n",
    "After utilizing gridsearch and returning the best parameter, 'tvec__max_df': 0.85, 'tvec__max_features': 1500, 'tvec__min_df': 0.03, 'tvec__ngram_range': (1, 2), 'tvec__stop_words':[cust_stop_words], the train score returns as roughly 72 percent while the test score returns as roughly 70 percent.\n",
    "\n",
    "Because the train score is slightly higher than the test score, there is indication of some overfitting. In other words, the model seems to be doing well in fitting the training data but is not generalizing well to new, unseen data.\n",
    "\n",
    "For next steps, the plan is to reduce the model's overfitting by investigating model's hyperparameters and experimenting with specific parameters such as increasing alpha to reduce the model's complexity and observe if the model reduces overfitting and improve the test score."
   ]
  },
  {
   "cell_type": "code",
   "execution_count": 114,
   "id": "a4a6761d",
   "metadata": {},
   "outputs": [],
   "source": [
    "# Get predictions\n",
    "preds = gs_model.predict(X_test)"
   ]
  },
  {
   "cell_type": "code",
   "execution_count": 115,
   "id": "437df498",
   "metadata": {},
   "outputs": [
    {
     "data": {
      "text/plain": [
       "0.6937134502923976"
      ]
     },
     "execution_count": 115,
     "metadata": {},
     "output_type": "execute_result"
    }
   ],
   "source": [
    "# ROC-AUC score of Multinomial with Hypertuned TfidfVectorizer \n",
    "roc_auc_score(y_test, preds)"
   ]
  },
  {
   "cell_type": "markdown",
   "id": "d3cd11e0",
   "metadata": {},
   "source": [
    "# ROC-AUC Score Interpretation of Multinomial with Hypertuned TfidfVectorizer\n",
    "_______\n",
    "\n",
    "To summarize from the ROC-AUC score, the model is doing a moderate job in differentiating between Showerthoughts and CasualConversation 69 percent of the time. "
   ]
  },
  {
   "cell_type": "code",
   "execution_count": 116,
   "id": "12a5a294",
   "metadata": {},
   "outputs": [
    {
     "data": {
      "image/png": "[encoded data removed]",
      "text/plain": [
       "<Figure size 640x480 with 2 Axes>"
      ]
     },
     "metadata": {},
     "output_type": "display_data"
    }
   ],
   "source": [
    "# View confusion matrix\n",
    "ConfusionMatrixDisplay.from_estimator(gs_model, X_test, y_test, cmap='Blues')\n",
    "\n",
    "# Get the axis of the plot\n",
    "ax = plt.gca()\n",
    "\n",
    "# Set the title\n",
    "ax.set_title('Confusion Matrix of Multinomial with Hypertuned TfidfVectorizer');"
   ]
  },
  {
   "cell_type": "code",
   "execution_count": 117,
   "id": "cfeaa666",
   "metadata": {},
   "outputs": [],
   "source": [
    "# Generate a confusion matrix.\n",
    "def find_cm(y_test, preds):\n",
    "    tn, fp, fn, tp = confusion_matrix(y_test, preds).ravel()\n",
    "    \n",
    "    print(f\"TN: {tn}\\nFP: {fp}\\nFN: {fn}\\nTP: {tp}\")\n",
    "    \n",
    "    print(f\"Sensitivity: {tp/(tp+fn)}\\nSpecificity: {tn/(tn+fp)}\")"
   ]
  },
  {
   "cell_type": "code",
   "execution_count": 118,
   "id": "db6117b8",
   "metadata": {},
   "outputs": [
    {
     "name": "stdout",
     "output_type": "stream",
     "text": [
      "TN: 158\n",
      "FP: 130\n",
      "FN: 49\n",
      "TP: 255\n",
      "Sensitivity: 0.8388157894736842\n",
      "Specificity: 0.5486111111111112\n"
     ]
    }
   ],
   "source": [
    "find_cm(y_test, preds)"
   ]
  },
  {
   "cell_type": "markdown",
   "id": "14727724",
   "metadata": {},
   "source": [
    "### Confusion Matrix Interpretation from Multinomial Model with TFIDFVectorizer\n",
    "____\n",
    "\n",
    "Showerthoughts as our target / positive outcome:\n",
    "\n",
    "* Our model has true negatives of 158 titles from Casual Conversations correctly classified\n",
    "* Our model has false positives of 130 titles from Showerthoughts incorrectly classified\n",
    "* Our model has false negatives of 49 titles from Casual Conversations incorrectly classified\n",
    "* Our model has true positives of 255 titles from Showerthoughts correctly classified\n",
    "\n",
    "* Our model has a sensitivity of roughly 0.84 with 255 of 304 titles from Showerthoughts correctly classified\n",
    "* Our model has a specificity of roughly 0.55 with 158 of 288 titles from Casual Conversations correctly classified\n",
    "\n",
    "\n",
    "Our model seems to perform better at identifying our positive class (Showerthoughts) than our negative class (CasualConversation)."
   ]
  },
  {
   "cell_type": "markdown",
   "id": "e1ad5883",
   "metadata": {},
   "source": [
    "# Random Forest Model with Hypertuned CountVectorizer\n",
    "\n",
    "With gridsearch to find the best parameter for CountVecotrizer, here it is: 'cvec__max_df': 0.85, 'cvec__max_features': 3000, 'cvec__min_df': 0.03, 'cvec__ngram_range': (1, 1), 'cvec__stop_words':cust_stop_words\n",
    "______"
   ]
  },
  {
   "cell_type": "code",
   "execution_count": 119,
   "id": "214b4ee1",
   "metadata": {},
   "outputs": [],
   "source": [
    "# creating our X and y\n",
    "X = casualconshower['title']\n",
    "y = casualconshower['subreddit']"
   ]
  },
  {
   "cell_type": "code",
   "execution_count": 120,
   "id": "c46619fd",
   "metadata": {},
   "outputs": [],
   "source": [
    "X_train, X_test, y_train, y_test = train_test_split(X,\n",
    "                                                    y,\n",
    "                                                    test_size=0.25,\n",
    "                                                    random_state=42,\n",
    "                                                    stratify=y)"
   ]
  },
  {
   "cell_type": "code",
   "execution_count": 121,
   "id": "5c8223da",
   "metadata": {},
   "outputs": [],
   "source": [
    "# Set a pipeline up with two stages:\n",
    "# 1. CountVectorizer (transformer)\n",
    "# 2. RandomForestClassifier\n",
    "pipe = Pipeline([\n",
    "    ('cvec', CountVectorizer()),\n",
    "    ('rf', RandomForestClassifier())\n",
    "])"
   ]
  },
  {
   "cell_type": "code",
   "execution_count": 122,
   "id": "f814fdcc",
   "metadata": {},
   "outputs": [],
   "source": [
    "# custom stop words based on the bar chart of most frequent words\n",
    "cust_stop_words = [\"people\", \"like\", \"life\", \"one\", \"get\",\n",
    "   \"never\", \"anyone\", \"day\", \"make\", \"else\"\n",
    "]"
   ]
  },
  {
   "cell_type": "code",
   "execution_count": 123,
   "id": "ab460b99",
   "metadata": {},
   "outputs": [],
   "source": [
    "# Search over the following values of hyperparameters:\n",
    "# Maximum number of features fit: 1500, 3000, 5000\n",
    "# Minimum number of documents needed to include token: 0.03, 0.05\n",
    "# Maximum number of documents needed to include token: 0.85, 0.9\n",
    "# ngram_range (1, 1), (1, 2)\n",
    "\n",
    "pipe_params = {'cvec__stop_words': [cust_stop_words],\n",
    "               'cvec__max_features' : [1500, 3000, 5000],\n",
    "              'cvec__min_df' : [0.03, 0.05],\n",
    "               'cvec__max_df': [0.85, 0.9],\n",
    "               'cvec__ngram_range' : [(1, 1), (1, 2)]\n",
    "              }"
   ]
  },
  {
   "cell_type": "code",
   "execution_count": 124,
   "id": "9e4f01d9",
   "metadata": {},
   "outputs": [],
   "source": [
    "# Instantiate GridSearchCV.\n",
    "\n",
    "gs = GridSearchCV(pipe, # what object are we optimizing?\n",
    "                  param_grid=pipe_params, # what parameters values are we searching?\n",
    "                  cv = 5) # 5-fold cross-validation."
   ]
  },
  {
   "cell_type": "code",
   "execution_count": 125,
   "id": "40278a84",
   "metadata": {},
   "outputs": [
    {
     "data": {
      "text/html": [
       "<style>#sk-container-id-7 {color: black;}#sk-container-id-7 pre{padding: 0;}#sk-container-id-7 div.sk-toggleable {background-color: white;}#sk-container-id-7 label.sk-toggleable__label {cursor: pointer;display: block;width: 100%;margin-bottom: 0;padding: 0.3em;box-sizing: border-box;text-align: center;}#sk-container-id-7 label.sk-toggleable__label-arrow:before {content: \"▸\";float: left;margin-right: 0.25em;color: #696969;}#sk-container-id-7 label.sk-toggleable__label-arrow:hover:before {color: black;}#sk-container-id-7 div.sk-estimator:hover label.sk-toggleable__label-arrow:before {color: black;}#sk-container-id-7 div.sk-toggleable__content {max-height: 0;max-width: 0;overflow: hidden;text-align: left;background-color: #f0f8ff;}#sk-container-id-7 div.sk-toggleable__content pre {margin: 0.2em;color: black;border-radius: 0.25em;background-color: #f0f8ff;}#sk-container-id-7 input.sk-toggleable__control:checked~div.sk-toggleable__content {max-height: 200px;max-width: 100%;overflow: auto;}#sk-container-id-7 input.sk-toggleable__control:checked~label.sk-toggleable__label-arrow:before {content: \"▾\";}#sk-container-id-7 div.sk-estimator input.sk-toggleable__control:checked~label.sk-toggleable__label {background-color: #d4ebff;}#sk-container-id-7 div.sk-label input.sk-toggleable__control:checked~label.sk-toggleable__label {background-color: #d4ebff;}#sk-container-id-7 input.sk-hidden--visually {border: 0;clip: rect(1px 1px 1px 1px);clip: rect(1px, 1px, 1px, 1px);height: 1px;margin: -1px;overflow: hidden;padding: 0;position: absolute;width: 1px;}#sk-container-id-7 div.sk-estimator {font-family: monospace;background-color: #f0f8ff;border: 1px dotted black;border-radius: 0.25em;box-sizing: border-box;margin-bottom: 0.5em;}#sk-container-id-7 div.sk-estimator:hover {background-color: #d4ebff;}#sk-container-id-7 div.sk-parallel-item::after {content: \"\";width: 100%;border-bottom: 1px solid gray;flex-grow: 1;}#sk-container-id-7 div.sk-label:hover label.sk-toggleable__label {background-color: #d4ebff;}#sk-container-id-7 div.sk-serial::before {content: \"\";position: absolute;border-left: 1px solid gray;box-sizing: border-box;top: 0;bottom: 0;left: 50%;z-index: 0;}#sk-container-id-7 div.sk-serial {display: flex;flex-direction: column;align-items: center;background-color: white;padding-right: 0.2em;padding-left: 0.2em;position: relative;}#sk-container-id-7 div.sk-item {position: relative;z-index: 1;}#sk-container-id-7 div.sk-parallel {display: flex;align-items: stretch;justify-content: center;background-color: white;position: relative;}#sk-container-id-7 div.sk-item::before, #sk-container-id-7 div.sk-parallel-item::before {content: \"\";position: absolute;border-left: 1px solid gray;box-sizing: border-box;top: 0;bottom: 0;left: 50%;z-index: -1;}#sk-container-id-7 div.sk-parallel-item {display: flex;flex-direction: column;z-index: 1;position: relative;background-color: white;}#sk-container-id-7 div.sk-parallel-item:first-child::after {align-self: flex-end;width: 50%;}#sk-container-id-7 div.sk-parallel-item:last-child::after {align-self: flex-start;width: 50%;}#sk-container-id-7 div.sk-parallel-item:only-child::after {width: 0;}#sk-container-id-7 div.sk-dashed-wrapped {border: 1px dashed gray;margin: 0 0.4em 0.5em 0.4em;box-sizing: border-box;padding-bottom: 0.4em;background-color: white;}#sk-container-id-7 div.sk-label label {font-family: monospace;font-weight: bold;display: inline-block;line-height: 1.2em;}#sk-container-id-7 div.sk-label-container {text-align: center;}#sk-container-id-7 div.sk-container {/* jupyter's `normalize.less` sets `[hidden] { display: none; }` but bootstrap.min.css set `[hidden] { display: none !important; }` so we also need the `!important` here to be able to override the default hidden behavior on the sphinx rendered scikit-learn.org. See: https://github.com/scikit-learn/scikit-learn/issues/21755 */display: inline-block !important;position: relative;}#sk-container-id-7 div.sk-text-repr-fallback {display: none;}</style><div id=\"sk-container-id-7\" class=\"sk-top-container\"><div class=\"sk-text-repr-fallback\"><pre>GridSearchCV(cv=5,\n",
       "             estimator=Pipeline(steps=[(&#x27;cvec&#x27;, CountVectorizer()),\n",
       "                                       (&#x27;rf&#x27;, RandomForestClassifier())]),\n",
       "             param_grid={&#x27;cvec__max_df&#x27;: [0.85, 0.9],\n",
       "                         &#x27;cvec__max_features&#x27;: [1500, 3000, 5000],\n",
       "                         &#x27;cvec__min_df&#x27;: [0.03, 0.05],\n",
       "                         &#x27;cvec__ngram_range&#x27;: [(1, 1), (1, 2)],\n",
       "                         &#x27;cvec__stop_words&#x27;: [[&#x27;people&#x27;, &#x27;like&#x27;, &#x27;life&#x27;, &#x27;one&#x27;,\n",
       "                                               &#x27;get&#x27;, &#x27;never&#x27;, &#x27;anyone&#x27;, &#x27;day&#x27;,\n",
       "                                               &#x27;make&#x27;, &#x27;else&#x27;]]})</pre><b>In a Jupyter environment, please rerun this cell to show the HTML representation or trust the notebook. <br />On GitHub, the HTML representation is unable to render, please try loading this page with nbviewer.org.</b></div><div class=\"sk-container\" hidden><div class=\"sk-item sk-dashed-wrapped\"><div class=\"sk-label-container\"><div class=\"sk-label sk-toggleable\"><input class=\"sk-toggleable__control sk-hidden--visually\" id=\"sk-estimator-id-25\" type=\"checkbox\" ><label for=\"sk-estimator-id-25\" class=\"sk-toggleable__label sk-toggleable__label-arrow\">GridSearchCV</label><div class=\"sk-toggleable__content\"><pre>GridSearchCV(cv=5,\n",
       "             estimator=Pipeline(steps=[(&#x27;cvec&#x27;, CountVectorizer()),\n",
       "                                       (&#x27;rf&#x27;, RandomForestClassifier())]),\n",
       "             param_grid={&#x27;cvec__max_df&#x27;: [0.85, 0.9],\n",
       "                         &#x27;cvec__max_features&#x27;: [1500, 3000, 5000],\n",
       "                         &#x27;cvec__min_df&#x27;: [0.03, 0.05],\n",
       "                         &#x27;cvec__ngram_range&#x27;: [(1, 1), (1, 2)],\n",
       "                         &#x27;cvec__stop_words&#x27;: [[&#x27;people&#x27;, &#x27;like&#x27;, &#x27;life&#x27;, &#x27;one&#x27;,\n",
       "                                               &#x27;get&#x27;, &#x27;never&#x27;, &#x27;anyone&#x27;, &#x27;day&#x27;,\n",
       "                                               &#x27;make&#x27;, &#x27;else&#x27;]]})</pre></div></div></div><div class=\"sk-parallel\"><div class=\"sk-parallel-item\"><div class=\"sk-item\"><div class=\"sk-label-container\"><div class=\"sk-label sk-toggleable\"><input class=\"sk-toggleable__control sk-hidden--visually\" id=\"sk-estimator-id-26\" type=\"checkbox\" ><label for=\"sk-estimator-id-26\" class=\"sk-toggleable__label sk-toggleable__label-arrow\">estimator: Pipeline</label><div class=\"sk-toggleable__content\"><pre>Pipeline(steps=[(&#x27;cvec&#x27;, CountVectorizer()), (&#x27;rf&#x27;, RandomForestClassifier())])</pre></div></div></div><div class=\"sk-serial\"><div class=\"sk-item\"><div class=\"sk-serial\"><div class=\"sk-item\"><div class=\"sk-estimator sk-toggleable\"><input class=\"sk-toggleable__control sk-hidden--visually\" id=\"sk-estimator-id-27\" type=\"checkbox\" ><label for=\"sk-estimator-id-27\" class=\"sk-toggleable__label sk-toggleable__label-arrow\">CountVectorizer</label><div class=\"sk-toggleable__content\"><pre>CountVectorizer()</pre></div></div></div><div class=\"sk-item\"><div class=\"sk-estimator sk-toggleable\"><input class=\"sk-toggleable__control sk-hidden--visually\" id=\"sk-estimator-id-28\" type=\"checkbox\" ><label for=\"sk-estimator-id-28\" class=\"sk-toggleable__label sk-toggleable__label-arrow\">RandomForestClassifier</label><div class=\"sk-toggleable__content\"><pre>RandomForestClassifier()</pre></div></div></div></div></div></div></div></div></div></div></div></div>"
      ],
      "text/plain": [
       "GridSearchCV(cv=5,\n",
       "             estimator=Pipeline(steps=[('cvec', CountVectorizer()),\n",
       "                                       ('rf', RandomForestClassifier())]),\n",
       "             param_grid={'cvec__max_df': [0.85, 0.9],\n",
       "                         'cvec__max_features': [1500, 3000, 5000],\n",
       "                         'cvec__min_df': [0.03, 0.05],\n",
       "                         'cvec__ngram_range': [(1, 1), (1, 2)],\n",
       "                         'cvec__stop_words': [['people', 'like', 'life', 'one',\n",
       "                                               'get', 'never', 'anyone', 'day',\n",
       "                                               'make', 'else']]})"
      ]
     },
     "execution_count": 125,
     "metadata": {},
     "output_type": "execute_result"
    }
   ],
   "source": [
    "# Fit our model!\n",
    "\n",
    "gs.fit(X_train, y_train)"
   ]
  },
  {
   "cell_type": "code",
   "execution_count": 126,
   "id": "43eb5430",
   "metadata": {},
   "outputs": [
    {
     "name": "stdout",
     "output_type": "stream",
     "text": [
      "0.8048619400015914\n"
     ]
    }
   ],
   "source": [
    "# the best score\n",
    "# from cross validation\n",
    "print(gs.best_score_)"
   ]
  },
  {
   "cell_type": "code",
   "execution_count": 127,
   "id": "a030e3d1",
   "metadata": {},
   "outputs": [
    {
     "name": "stdout",
     "output_type": "stream",
     "text": [
      "{'cvec__max_df': 0.85, 'cvec__max_features': 3000, 'cvec__min_df': 0.03, 'cvec__ngram_range': (1, 1), 'cvec__stop_words': ['people', 'like', 'life', 'one', 'get', 'never', 'anyone', 'day', 'make', 'else']}\n"
     ]
    }
   ],
   "source": [
    "# best parameters for CountVectorizer\n",
    "print(gs.best_params_)"
   ]
  },
  {
   "cell_type": "code",
   "execution_count": 128,
   "id": "c551e6f0",
   "metadata": {},
   "outputs": [],
   "source": [
    "gs_model = gs.best_estimator_"
   ]
  },
  {
   "cell_type": "code",
   "execution_count": 129,
   "id": "d130bc49",
   "metadata": {},
   "outputs": [
    {
     "name": "stdout",
     "output_type": "stream",
     "text": [
      "Pipeline(steps=[('cvec',\n",
      "                 CountVectorizer(max_df=0.85, max_features=3000, min_df=0.03,\n",
      "                                 stop_words=['people', 'like', 'life', 'one',\n",
      "                                             'get', 'never', 'anyone', 'day',\n",
      "                                             'make', 'else'])),\n",
      "                ('rf', RandomForestClassifier())])\n"
     ]
    }
   ],
   "source": [
    "print(gs_model)"
   ]
  },
  {
   "cell_type": "code",
   "execution_count": 130,
   "id": "2bdc1617",
   "metadata": {},
   "outputs": [
    {
     "data": {
      "text/plain": [
       "0.9531866892272983"
      ]
     },
     "execution_count": 130,
     "metadata": {},
     "output_type": "execute_result"
    }
   ],
   "source": [
    "# Score model on train set.\n",
    "gs_model.score(X_train, y_train)"
   ]
  },
  {
   "cell_type": "code",
   "execution_count": 131,
   "id": "986c6357",
   "metadata": {},
   "outputs": [
    {
     "data": {
      "text/plain": [
       "0.7820945945945946"
      ]
     },
     "execution_count": 131,
     "metadata": {},
     "output_type": "execute_result"
    }
   ],
   "source": [
    "# Score model on test set.\n",
    "gs_model.score(X_test, y_test)"
   ]
  },
  {
   "cell_type": "markdown",
   "id": "45be7da8",
   "metadata": {},
   "source": [
    "## Train and Test Score Interpretation for Underfit/Overfit from Random Forest Model with Hypertuned CountVectorizer\n",
    "____________\n",
    "\n",
    "After utilizing gridsearch and returning the best parameter, 'tvec__max_df': 0.85, 'tvec__max_features': 1500, 'tvec__min_df': 0.03, 'tvec__ngram_range': (1, 2), 'tvec__stop_words':[cust_stop_words], the train score returns as 95 percent while the test score returns as 78 percent.\n",
    "\n",
    "Because the train score is sigificantly higher than the test score, there is a significant indication of overfitting. In other words, the model seems to be doing extremely well in fitting the training data but is not generalizing poorly to new, unseen data.\n",
    "\n",
    "For next steps, the plan is to reduce the model's overfitting by investigating model's hyperparameters and experimenting with specific parameters such as limiting max_depth, reducing min_samples_split and min_samples_leaf, and perhaps even utilizing out of bag score assess model performance during training and observe if the model reduces overfitting and improve the test score."
   ]
  },
  {
   "cell_type": "code",
   "execution_count": 132,
   "id": "36280663",
   "metadata": {},
   "outputs": [],
   "source": [
    "# Get predictions\n",
    "preds = gs_model.predict(X_test)"
   ]
  },
  {
   "cell_type": "code",
   "execution_count": 133,
   "id": "6359de07",
   "metadata": {},
   "outputs": [
    {
     "data": {
      "text/plain": [
       "0.7813413742690059"
      ]
     },
     "execution_count": 133,
     "metadata": {},
     "output_type": "execute_result"
    }
   ],
   "source": [
    "# ROC-AUC score of Random Forest with Hypertuned CountVectorizer \n",
    "roc_auc_score(y_test, preds)"
   ]
  },
  {
   "cell_type": "markdown",
   "id": "a6b0a131",
   "metadata": {},
   "source": [
    "# ROC-AUC Score Interpretation of Random Forest with Hypertuned CountVectorizer\n",
    "_______\n",
    "\n",
    "To summarize from the ROC-AUC score, the model is doing a moderate job in differentiating between Showerthoughts and CasualConversation 78 percent of the time. "
   ]
  },
  {
   "cell_type": "code",
   "execution_count": 134,
   "id": "a43c93b5",
   "metadata": {},
   "outputs": [
    {
     "data": {
      "image/png": "[encoded data removed]",
      "text/plain": [
       "<Figure size 640x480 with 2 Axes>"
      ]
     },
     "metadata": {},
     "output_type": "display_data"
    }
   ],
   "source": [
    "# View confusion matrix\n",
    "ConfusionMatrixDisplay.from_estimator(gs_model, X_test, y_test, cmap='Blues')\n",
    "\n",
    "# Get the axis of the plot\n",
    "ax = plt.gca()\n",
    "\n",
    "# Set the title\n",
    "ax.set_title('Confusion Matrix of Random Forest with Hypertuned CountVectorizer');"
   ]
  },
  {
   "cell_type": "code",
   "execution_count": 135,
   "id": "819b2bce",
   "metadata": {},
   "outputs": [
    {
     "name": "stdout",
     "output_type": "stream",
     "text": [
      "TN: 217\n",
      "FP: 71\n",
      "FN: 58\n",
      "TP: 246\n",
      "Sensitivity: 0.8092105263157895\n",
      "Specificity: 0.7534722222222222\n"
     ]
    }
   ],
   "source": [
    "find_cm(y_test, preds)"
   ]
  },
  {
   "cell_type": "markdown",
   "id": "eac24e40",
   "metadata": {},
   "source": [
    "### Confusion Matrix Interpretation from Random Forest Model with Hypertuned CountVectorizer\n",
    "____\n",
    "\n",
    "Showerthoughts as our target / positive outcome:\n",
    "\n",
    "* Our model has true negatives of 217 titles from Casual Conversations correctly classified\n",
    "* Our model has false positives of 71 titles from Showerthoughts incorrectly classified\n",
    "* Our model has false negatives of 58 titles from Casual Conversations incorrectly classified\n",
    "* Our model has true positives of 246 titles from Showerthoughts correctly classified\n",
    "\n",
    "* Our model has a sensitivity of roughly 0.81 with 246 of 304 titles from Showerthoughts correctly classified\n",
    "* Our model has a specificity of roughly 0.75 with 217 of 288 titles from Casual Conversations correctly classified\n",
    "\n",
    "\n",
    "Our model seems to perform better at identifying our positive class (Showerthoughts) than our negative class (CasualConversation)."
   ]
  },
  {
   "cell_type": "markdown",
   "id": "9478b61e",
   "metadata": {},
   "source": [
    "# Random Forest Model with Hypertuned TfidVectorizer\n",
    "_______\n",
    "\n",
    "Utilized gridsearch to find the best parameter for TfidVectorizer: 'tvec__max_df': 0.9, 'tvec__max_features': 1500, 'tvec__min_df': 0.03, 'tvec__ngram_range': (1, 2)"
   ]
  },
  {
   "cell_type": "code",
   "execution_count": 136,
   "id": "7f941bbc",
   "metadata": {},
   "outputs": [],
   "source": [
    "# creating our X and y\n",
    "X = casualconshower['title']\n",
    "y = casualconshower['subreddit']"
   ]
  },
  {
   "cell_type": "code",
   "execution_count": 137,
   "id": "97ed44a7",
   "metadata": {},
   "outputs": [],
   "source": [
    "X_train, X_test, y_train, y_test = train_test_split(X,\n",
    "                                                    y,\n",
    "                                                    test_size=0.25,\n",
    "                                                    random_state=42,\n",
    "                                                    stratify=y)"
   ]
  },
  {
   "cell_type": "code",
   "execution_count": 138,
   "id": "2e5dc554",
   "metadata": {},
   "outputs": [],
   "source": [
    "# Set a pipeline up with two stages:\n",
    "# 1. TfidVectorizer (transformer)\n",
    "# 2. Random Forest\n",
    "pipe = Pipeline([\n",
    "    ('tvec', TfidfVectorizer()),\n",
    "    ('rf', RandomForestClassifier())\n",
    "])"
   ]
  },
  {
   "cell_type": "code",
   "execution_count": 139,
   "id": "d9b1e52b",
   "metadata": {},
   "outputs": [],
   "source": [
    "# custom stop words based on the bar chart of most frequent words\n",
    "cust_stop_words = [\"people\", \"like\", \"life\", \"one\", \"get\",\n",
    "   \"never\", \"anyone\", \"day\", \"make\", \"else\"\n",
    "]"
   ]
  },
  {
   "cell_type": "code",
   "execution_count": 140,
   "id": "cba7da2c",
   "metadata": {},
   "outputs": [],
   "source": [
    "# Search over the following values of hyperparameters:\n",
    "# Maximum number of features fit: 1500, 3000, 5000\n",
    "# Minimum number of documents needed to include token: 0.03, 0.05\n",
    "# Maximum number of documents needed to include token: 0.85, 0.9\n",
    "# ngram_range (1, 1), (1, 2)\n",
    "\n",
    "pipe_params = {'tvec__stop_words': [cust_stop_words],\n",
    "               'tvec__max_features' : [1500, 3000, 5000],\n",
    "              'tvec__min_df' : [0.03, 0.05],\n",
    "               'tvec__max_df': [0.85, 0.9],\n",
    "               'tvec__ngram_range' : [(1, 1), (1, 2)]\n",
    "              }"
   ]
  },
  {
   "cell_type": "code",
   "execution_count": 141,
   "id": "a7c7824d",
   "metadata": {},
   "outputs": [],
   "source": [
    "# Instantiate GridSearchCV.\n",
    "\n",
    "gs = GridSearchCV(pipe, # what object are we optimizing?\n",
    "                  param_grid=pipe_params, # what parameters values are we searching?\n",
    "                  cv = 5) # 5-fold cross-validation."
   ]
  },
  {
   "cell_type": "code",
   "execution_count": 142,
   "id": "ef741c7d",
   "metadata": {},
   "outputs": [
    {
     "data": {
      "text/html": [
       "<style>#sk-container-id-8 {color: black;}#sk-container-id-8 pre{padding: 0;}#sk-container-id-8 div.sk-toggleable {background-color: white;}#sk-container-id-8 label.sk-toggleable__label {cursor: pointer;display: block;width: 100%;margin-bottom: 0;padding: 0.3em;box-sizing: border-box;text-align: center;}#sk-container-id-8 label.sk-toggleable__label-arrow:before {content: \"▸\";float: left;margin-right: 0.25em;color: #696969;}#sk-container-id-8 label.sk-toggleable__label-arrow:hover:before {color: black;}#sk-container-id-8 div.sk-estimator:hover label.sk-toggleable__label-arrow:before {color: black;}#sk-container-id-8 div.sk-toggleable__content {max-height: 0;max-width: 0;overflow: hidden;text-align: left;background-color: #f0f8ff;}#sk-container-id-8 div.sk-toggleable__content pre {margin: 0.2em;color: black;border-radius: 0.25em;background-color: #f0f8ff;}#sk-container-id-8 input.sk-toggleable__control:checked~div.sk-toggleable__content {max-height: 200px;max-width: 100%;overflow: auto;}#sk-container-id-8 input.sk-toggleable__control:checked~label.sk-toggleable__label-arrow:before {content: \"▾\";}#sk-container-id-8 div.sk-estimator input.sk-toggleable__control:checked~label.sk-toggleable__label {background-color: #d4ebff;}#sk-container-id-8 div.sk-label input.sk-toggleable__control:checked~label.sk-toggleable__label {background-color: #d4ebff;}#sk-container-id-8 input.sk-hidden--visually {border: 0;clip: rect(1px 1px 1px 1px);clip: rect(1px, 1px, 1px, 1px);height: 1px;margin: -1px;overflow: hidden;padding: 0;position: absolute;width: 1px;}#sk-container-id-8 div.sk-estimator {font-family: monospace;background-color: #f0f8ff;border: 1px dotted black;border-radius: 0.25em;box-sizing: border-box;margin-bottom: 0.5em;}#sk-container-id-8 div.sk-estimator:hover {background-color: #d4ebff;}#sk-container-id-8 div.sk-parallel-item::after {content: \"\";width: 100%;border-bottom: 1px solid gray;flex-grow: 1;}#sk-container-id-8 div.sk-label:hover label.sk-toggleable__label {background-color: #d4ebff;}#sk-container-id-8 div.sk-serial::before {content: \"\";position: absolute;border-left: 1px solid gray;box-sizing: border-box;top: 0;bottom: 0;left: 50%;z-index: 0;}#sk-container-id-8 div.sk-serial {display: flex;flex-direction: column;align-items: center;background-color: white;padding-right: 0.2em;padding-left: 0.2em;position: relative;}#sk-container-id-8 div.sk-item {position: relative;z-index: 1;}#sk-container-id-8 div.sk-parallel {display: flex;align-items: stretch;justify-content: center;background-color: white;position: relative;}#sk-container-id-8 div.sk-item::before, #sk-container-id-8 div.sk-parallel-item::before {content: \"\";position: absolute;border-left: 1px solid gray;box-sizing: border-box;top: 0;bottom: 0;left: 50%;z-index: -1;}#sk-container-id-8 div.sk-parallel-item {display: flex;flex-direction: column;z-index: 1;position: relative;background-color: white;}#sk-container-id-8 div.sk-parallel-item:first-child::after {align-self: flex-end;width: 50%;}#sk-container-id-8 div.sk-parallel-item:last-child::after {align-self: flex-start;width: 50%;}#sk-container-id-8 div.sk-parallel-item:only-child::after {width: 0;}#sk-container-id-8 div.sk-dashed-wrapped {border: 1px dashed gray;margin: 0 0.4em 0.5em 0.4em;box-sizing: border-box;padding-bottom: 0.4em;background-color: white;}#sk-container-id-8 div.sk-label label {font-family: monospace;font-weight: bold;display: inline-block;line-height: 1.2em;}#sk-container-id-8 div.sk-label-container {text-align: center;}#sk-container-id-8 div.sk-container {/* jupyter's `normalize.less` sets `[hidden] { display: none; }` but bootstrap.min.css set `[hidden] { display: none !important; }` so we also need the `!important` here to be able to override the default hidden behavior on the sphinx rendered scikit-learn.org. See: https://github.com/scikit-learn/scikit-learn/issues/21755 */display: inline-block !important;position: relative;}#sk-container-id-8 div.sk-text-repr-fallback {display: none;}</style><div id=\"sk-container-id-8\" class=\"sk-top-container\"><div class=\"sk-text-repr-fallback\"><pre>GridSearchCV(cv=5,\n",
       "             estimator=Pipeline(steps=[(&#x27;tvec&#x27;, TfidfVectorizer()),\n",
       "                                       (&#x27;rf&#x27;, RandomForestClassifier())]),\n",
       "             param_grid={&#x27;tvec__max_df&#x27;: [0.85, 0.9],\n",
       "                         &#x27;tvec__max_features&#x27;: [1500, 3000, 5000],\n",
       "                         &#x27;tvec__min_df&#x27;: [0.03, 0.05],\n",
       "                         &#x27;tvec__ngram_range&#x27;: [(1, 1), (1, 2)],\n",
       "                         &#x27;tvec__stop_words&#x27;: [[&#x27;people&#x27;, &#x27;like&#x27;, &#x27;life&#x27;, &#x27;one&#x27;,\n",
       "                                               &#x27;get&#x27;, &#x27;never&#x27;, &#x27;anyone&#x27;, &#x27;day&#x27;,\n",
       "                                               &#x27;make&#x27;, &#x27;else&#x27;]]})</pre><b>In a Jupyter environment, please rerun this cell to show the HTML representation or trust the notebook. <br />On GitHub, the HTML representation is unable to render, please try loading this page with nbviewer.org.</b></div><div class=\"sk-container\" hidden><div class=\"sk-item sk-dashed-wrapped\"><div class=\"sk-label-container\"><div class=\"sk-label sk-toggleable\"><input class=\"sk-toggleable__control sk-hidden--visually\" id=\"sk-estimator-id-29\" type=\"checkbox\" ><label for=\"sk-estimator-id-29\" class=\"sk-toggleable__label sk-toggleable__label-arrow\">GridSearchCV</label><div class=\"sk-toggleable__content\"><pre>GridSearchCV(cv=5,\n",
       "             estimator=Pipeline(steps=[(&#x27;tvec&#x27;, TfidfVectorizer()),\n",
       "                                       (&#x27;rf&#x27;, RandomForestClassifier())]),\n",
       "             param_grid={&#x27;tvec__max_df&#x27;: [0.85, 0.9],\n",
       "                         &#x27;tvec__max_features&#x27;: [1500, 3000, 5000],\n",
       "                         &#x27;tvec__min_df&#x27;: [0.03, 0.05],\n",
       "                         &#x27;tvec__ngram_range&#x27;: [(1, 1), (1, 2)],\n",
       "                         &#x27;tvec__stop_words&#x27;: [[&#x27;people&#x27;, &#x27;like&#x27;, &#x27;life&#x27;, &#x27;one&#x27;,\n",
       "                                               &#x27;get&#x27;, &#x27;never&#x27;, &#x27;anyone&#x27;, &#x27;day&#x27;,\n",
       "                                               &#x27;make&#x27;, &#x27;else&#x27;]]})</pre></div></div></div><div class=\"sk-parallel\"><div class=\"sk-parallel-item\"><div class=\"sk-item\"><div class=\"sk-label-container\"><div class=\"sk-label sk-toggleable\"><input class=\"sk-toggleable__control sk-hidden--visually\" id=\"sk-estimator-id-30\" type=\"checkbox\" ><label for=\"sk-estimator-id-30\" class=\"sk-toggleable__label sk-toggleable__label-arrow\">estimator: Pipeline</label><div class=\"sk-toggleable__content\"><pre>Pipeline(steps=[(&#x27;tvec&#x27;, TfidfVectorizer()), (&#x27;rf&#x27;, RandomForestClassifier())])</pre></div></div></div><div class=\"sk-serial\"><div class=\"sk-item\"><div class=\"sk-serial\"><div class=\"sk-item\"><div class=\"sk-estimator sk-toggleable\"><input class=\"sk-toggleable__control sk-hidden--visually\" id=\"sk-estimator-id-31\" type=\"checkbox\" ><label for=\"sk-estimator-id-31\" class=\"sk-toggleable__label sk-toggleable__label-arrow\">TfidfVectorizer</label><div class=\"sk-toggleable__content\"><pre>TfidfVectorizer()</pre></div></div></div><div class=\"sk-item\"><div class=\"sk-estimator sk-toggleable\"><input class=\"sk-toggleable__control sk-hidden--visually\" id=\"sk-estimator-id-32\" type=\"checkbox\" ><label for=\"sk-estimator-id-32\" class=\"sk-toggleable__label sk-toggleable__label-arrow\">RandomForestClassifier</label><div class=\"sk-toggleable__content\"><pre>RandomForestClassifier()</pre></div></div></div></div></div></div></div></div></div></div></div></div>"
      ],
      "text/plain": [
       "GridSearchCV(cv=5,\n",
       "             estimator=Pipeline(steps=[('tvec', TfidfVectorizer()),\n",
       "                                       ('rf', RandomForestClassifier())]),\n",
       "             param_grid={'tvec__max_df': [0.85, 0.9],\n",
       "                         'tvec__max_features': [1500, 3000, 5000],\n",
       "                         'tvec__min_df': [0.03, 0.05],\n",
       "                         'tvec__ngram_range': [(1, 1), (1, 2)],\n",
       "                         'tvec__stop_words': [['people', 'like', 'life', 'one',\n",
       "                                               'get', 'never', 'anyone', 'day',\n",
       "                                               'make', 'else']]})"
      ]
     },
     "execution_count": 142,
     "metadata": {},
     "output_type": "execute_result"
    }
   ],
   "source": [
    "# Fit our model!\n",
    "\n",
    "gs.fit(X_train, y_train)"
   ]
  },
  {
   "cell_type": "code",
   "execution_count": 143,
   "id": "7aa6812d",
   "metadata": {},
   "outputs": [
    {
     "name": "stdout",
     "output_type": "stream",
     "text": [
      "0.80767724994032\n"
     ]
    }
   ],
   "source": [
    "# the best score\n",
    "# from cross validation\n",
    "print(gs.best_score_)"
   ]
  },
  {
   "cell_type": "code",
   "execution_count": 144,
   "id": "a92da7fd",
   "metadata": {},
   "outputs": [
    {
     "name": "stdout",
     "output_type": "stream",
     "text": [
      "{'tvec__max_df': 0.85, 'tvec__max_features': 1500, 'tvec__min_df': 0.03, 'tvec__ngram_range': (1, 2), 'tvec__stop_words': ['people', 'like', 'life', 'one', 'get', 'never', 'anyone', 'day', 'make', 'else']}\n"
     ]
    }
   ],
   "source": [
    "# best parameters for CountVectorizer\n",
    "print(gs.best_params_)"
   ]
  },
  {
   "cell_type": "code",
   "execution_count": 145,
   "id": "5368ada1",
   "metadata": {},
   "outputs": [],
   "source": [
    "gs_model = gs.best_estimator_"
   ]
  },
  {
   "cell_type": "code",
   "execution_count": 146,
   "id": "c35a834f",
   "metadata": {},
   "outputs": [
    {
     "name": "stdout",
     "output_type": "stream",
     "text": [
      "Pipeline(steps=[('tvec',\n",
      "                 TfidfVectorizer(max_df=0.85, max_features=1500, min_df=0.03,\n",
      "                                 ngram_range=(1, 2),\n",
      "                                 stop_words=['people', 'like', 'life', 'one',\n",
      "                                             'get', 'never', 'anyone', 'day',\n",
      "                                             'make', 'else'])),\n",
      "                ('rf', RandomForestClassifier())])\n"
     ]
    }
   ],
   "source": [
    "print(gs_model)"
   ]
  },
  {
   "cell_type": "code",
   "execution_count": 147,
   "id": "b58948dd",
   "metadata": {},
   "outputs": [
    {
     "data": {
      "text/plain": [
       "0.9514946418499718"
      ]
     },
     "execution_count": 147,
     "metadata": {},
     "output_type": "execute_result"
    }
   ],
   "source": [
    "# Score model on train set.\n",
    "gs_model.score(X_train, y_train)"
   ]
  },
  {
   "cell_type": "code",
   "execution_count": 148,
   "id": "d6c2e1a4",
   "metadata": {},
   "outputs": [
    {
     "data": {
      "text/plain": [
       "0.7736486486486487"
      ]
     },
     "execution_count": 148,
     "metadata": {},
     "output_type": "execute_result"
    }
   ],
   "source": [
    "# Score model on test set.\n",
    "gs_model.score(X_test, y_test)"
   ]
  },
  {
   "cell_type": "markdown",
   "id": "1f3a3aa2",
   "metadata": {},
   "source": [
    "## Train and Test Score Interpretation for Underfit/Overfit from Random Forest Model with Hypertuned TfidVectorizer\n",
    "_________\n",
    "\n",
    "After utilizing gridsearch and returning the best parameter, 'tvec__max_df': 0.85, 'tvec__max_features': 1500, 'tvec__min_df': 0.03, 'tvec__ngram_range': (1, 2), 'tvec__stop_words':[cust_stop_words], the train score returns as 95 percent while the test score returns as 77 percent.\n",
    "\n",
    "Because the train score is sigificantly higher than the test score, there is a significant indication of overfitting. In other words, the model seems to be doing extremely well in fitting the training data but is not generalizing poorly to new, unseen data.\n",
    "\n",
    "For next steps, the plan is to reduce the model's overfitting by investigating model's hyperparameters and experimenting with specific parameters such as limiting max_depth, reducing min_samples_split and min_samples_leaf, and perhaps even utilizing out of bag score assess model performance during training and observe if the model reduces overfitting and improve the test score."
   ]
  },
  {
   "cell_type": "code",
   "execution_count": 149,
   "id": "8e7ad0f5",
   "metadata": {},
   "outputs": [],
   "source": [
    "# Get predictions\n",
    "preds = gs_model.predict(X_test)"
   ]
  },
  {
   "cell_type": "code",
   "execution_count": 150,
   "id": "a7fe5962",
   "metadata": {},
   "outputs": [
    {
     "data": {
      "text/plain": [
       "0.7723866959064327"
      ]
     },
     "execution_count": 150,
     "metadata": {},
     "output_type": "execute_result"
    }
   ],
   "source": [
    "# ROC-AUC score of Random Forest with Hypertuned TfidVectorizer \n",
    "roc_auc_score(y_test, preds)"
   ]
  },
  {
   "cell_type": "markdown",
   "id": "df944a7f",
   "metadata": {},
   "source": [
    "# ROC-AUC Score Interpretation of Random Forest with Hypertuned TfidVectorizer\n",
    "_______\n",
    "\n",
    "To summarize from the ROC-AUC score, the model is doing a moderate job in differentiating between Showerthoughts and CasualConversation 77 percent of the time. "
   ]
  },
  {
   "cell_type": "code",
   "execution_count": 151,
   "id": "f1d5cdf4",
   "metadata": {},
   "outputs": [
    {
     "data": {
      "image/png": "[encoded data removed]",
      "text/plain": [
       "<Figure size 640x480 with 2 Axes>"
      ]
     },
     "metadata": {},
     "output_type": "display_data"
    }
   ],
   "source": [
    "# View confusion matrix\n",
    "ConfusionMatrixDisplay.from_estimator(gs_model, X_test, y_test, cmap='Blues')\n",
    "\n",
    "# Get the axis of the plot\n",
    "ax = plt.gca()\n",
    "\n",
    "# Set the title\n",
    "ax.set_title('Confusion Matrix of Random Forest with Hypertuned TfidVectorizer');"
   ]
  },
  {
   "cell_type": "code",
   "execution_count": 152,
   "id": "00184ce7",
   "metadata": {},
   "outputs": [
    {
     "name": "stdout",
     "output_type": "stream",
     "text": [
      "TN: 209\n",
      "FP: 79\n",
      "FN: 55\n",
      "TP: 249\n",
      "Sensitivity: 0.819078947368421\n",
      "Specificity: 0.7256944444444444\n"
     ]
    }
   ],
   "source": [
    "find_cm(y_test, preds)"
   ]
  },
  {
   "cell_type": "markdown",
   "id": "dbd62459",
   "metadata": {},
   "source": [
    "### Confusion Matrix Interpretation from Random Forest Model with Hypertuned TfidVectorizer\n",
    "____\n",
    "\n",
    "Showerthoughts as our target / positive outcome:\n",
    "\n",
    "* Our model has true negatives of 209 titles from Casual Conversations correctly classified\n",
    "* Our model has false positives of 79 titles from Showerthoughts incorrectly classified\n",
    "* Our model has false negatives of 55 titles from Casual Conversations incorrectly classified\n",
    "* Our model has true positives of 249 titles from Showerthoughts correctly classified\n",
    "\n",
    "* Our model has a sensitivity of roughly 0.82 with 249 of 304 titles from Showerthoughts correctly classified\n",
    "* Our model has a specificity of roughly 0.73 with 209 of 288 titles from Casual Conversations correctly classified\n",
    "\n",
    "Our model seems to perform better at identifying our positive class (Showerthoughts) than our negative class (CasualConversation)."
   ]
  },
  {
   "cell_type": "markdown",
   "id": "d0ffe780",
   "metadata": {},
   "source": [
    "# Conclusion and Next Steps\n",
    "______\n",
    "\n",
    "Summary of Test and ROC Scores for Each Model for second iteration:\n",
    "\n",
    "* CV stands for CountVectorizer\n",
    "* TV stands for TfidVectorizer\n",
    "\n",
    "\n",
    "| Model                | CV Test Score      | CV ROC Score       | TV Test Score       | TV ROC Score       |\n",
    "| -----------          | -----------------  |--------------      |--------------       |----------          |\n",
    "| Logistic Regression  | 0.785472972972973  | 0.785453216374269  | 0.7820945945945946  | 0.7811586257309941 |\n",
    "| Bernoulli            | 0.7432432432432432 | 0.744517543859649  | 0.7432432432432432  | 0.744517543859649  |\n",
    "| Multinomial          | 0.6942567567567568 | 0.6911549707602339 | 0.6976351351351351  | 0.6937134502923976 | \n",
    "| Random Forest        | 0.7820945945945946 | 0.7813413742690059 | 0.7736486486486487  | 0.7723866959064327 | \n",
    "\n",
    "Summary of Test and ROC Scores for each Model for first iteration:\n",
    "\n",
    "\n",
    "| Model                | CV Test Score      | CV ROC Score       | TV Test Score       | TV ROC Score       |\n",
    "| -----------          | -----------------  |--------------      |--------------       |----------          |\n",
    "| Logistic Regression  | 0.7905405405405406 | 0.7902046783625731 | 0.7820945945945946  | 0.7808845029239766 |\n",
    "| Bernoulli            | 0.7533783783783784 | 0.7546600877192983 | 0.7533783783783784  | 0.7546600877192983 |\n",
    "| Multinomial          | 0.7010135135135135 | 0.6977339181286549 | 0.6959459459459459  | 0.6921600877192982 | \n",
    "| Random Forest        | 0.785472972972973  | 0.7840826023391813 | 0.7804054054054054  | 0.7792397660818713 | \n",
    "\n",
    "\n",
    "Comparing the model's test and ROC scores to the first iteration, the second iteration models' overall performances slightly dropped, indicating that the custom made stop words from ten most frequently used words have some influence in the models' performances. However, we want to note that the Logistic Regression's test performance after utilizing TfidVectorizer transformer remained the same for the first and second iteration. Further investigated is recommended to seek why that is the case. \n",
    "\n",
    "That said, based on the highest ROC-AUC and test performances from the two iterations, we recommend the Logistic Regression model with the CountVectorizer transformer from the first iteration for social media startup's team to replicate and modify for their personality app, since the model was able to successfully distinguish between Showerthoughts and CasualConversation 79 percent of the time while the model was also able to correctly predict which new post will go to which subreddit 79 percent of the time as well. \n",
    "\n",
    "However, one drawback from this recommended model is that we observe case of overfitting since its training score was higher than test score. Overfitting in this context may mean that the model is overly confident in its predictions for this majority class, which is Showerthoughts, potentially making predictions that are overly specific to the training data and may not generalize well to new posts. Therefore, here are following next steps to continue to improve the recommended model and investigate other findings from the four models:\n",
    "\n",
    "* experiment with Logistic Regression's hyperparameters such as adjusting C to reduce model's overfitting\n",
    "* experiment with other models' respective hyperparameters such as increasing the penalty with alpha to reduce overfitting \n",
    "* investigate why overall, the test and ROC scores are generally similiar to one another \n",
    "* investigate why the Bernoulli model is the only one that was better at identifying CasualConversation than Showerthoughts\n",
    "* investigate why Logistic Regression's test scores with TfidVectorizer from both iterations remain the same\n",
    "* collect more unique subreddit posts to increase the diversity of words that our models can train on\n"
   ]
  }
 ],
 "metadata": {
  "kernelspec": {
   "display_name": "Python 3 (ipykernel)",
   "language": "python",
   "name": "python3"
  },
  "language_info": {
   "codemirror_mode": {
    "name": "ipython",
    "version": 3
   },
   "file_extension": ".py",
   "mimetype": "text/x-python",
   "name": "python",
   "nbconvert_exporter": "python",
   "pygments_lexer": "ipython3",
   "version": "3.11.5"
  }
 },
 "nbformat": 4,
 "nbformat_minor": 5
}
