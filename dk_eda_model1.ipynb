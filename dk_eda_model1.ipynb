{
 "cells": [
  {
   "cell_type": "markdown",
   "id": "fcfbdb35",
   "metadata": {},
   "source": [
    "# Situational Context\n",
    "______\n",
    "\n",
    "You are hired by a social media startup that is looking to create a personality app that can classify users to their respective personality to either being happy or sad based on their responses to selected questions. Your task is to create a model and methodology that the organization's team can replicate and adjust to fit their specific app's needs. To start, you turn towards Reddit for live data collection to feed your models. \n"
   ]
  },
  {
   "cell_type": "markdown",
   "id": "365c4a0a",
   "metadata": {},
   "source": [
    "# Problem Statement and Defining Success with Baseline\n",
    "_____\n",
    "\n",
    "This project's aim is to seek which model and its methodology will be the best one to accurately classify which new posts will be on either subreddit \"Showerthoughts\" or \"CasualConversation\" based on previous title posts alone from both subreddits. \n",
    "\n",
    "To accomplish this task, this project will utilize Logistic Regression, Bernoulli, Multinomial, and Random Forests models with CountVectorizer and TFIDVectorizer transfomers to convert the title's text data into numerical data. Once the models with their respective methodologies are employed and they produce their performance scores, this project will pick the best model and highlight that model and its methodology to accurately classify new posts for either \"Showerthoughts\" or \"CasualConversation.\"\n",
    "\n",
    "Because this project is seeking to select the best model that has the highest overall performance in differentiating titles between \"Showerthoughts\" and CasualConversation,\" we will use ROC-AUC score as the main success metric to compare the baseline accuracy in addition to test score. Given the slight class imbalance with this dataset, we will also observe sensitivity and specificity for more nuanced interpretations for each model's performance.\n",
    "\n",
    "For the baseline, the baseline accuracy will be 0.51 from the majority class \"Showerthoughts\" based on observing the target's distribution --- subreddit. "
   ]
  },
  {
   "cell_type": "markdown",
   "id": "74622ad0",
   "metadata": {},
   "source": [
    "# Table of Content for dk_eda_model1\n",
    "_________\n",
    "\n",
    "EDA\n",
    "\n",
    "- observed the shape of the dataset\n",
    "- checked for missing values in relevant variables for preprocessing and modeling\n",
    "- looked at the information within dataset\n",
    "- observed the summary statistics within title and selftext variables\n",
    "- observed number of counts for each title and selftext variables\n",
    "- tokenized and removed stopwords to visualize number of counts for common words in title variable\n",
    "- observed the total number and average of words after removing stopwords within title variable \n",
    "\n",
    "Preprocessing and Modeling\n",
    "\n",
    "* For all four models:\n",
    "\n",
    "- defined subreddit as target and title variable as X\n",
    "- defined the train_test_split: \n",
    "- X, y, test_size=0.25, \n",
    "- random_state=42, stratify=y \n",
    "- implemented pipes with CountVectorizer and TfidfVectorizer transfomers to respective models\n",
    "- defined the following parameter options for CountVectorizer and TfidfVectorizer: \n",
    "- 'cvec__max_features' : [1500, 3000, 5000],\n",
    "- 'cvec__min_df' : [0.03, 0.05],\n",
    "- 'cvec__max_df': [0.85, 0.9],\n",
    "- 'cvec__ngram_range' : [(1, 1), (1, 2)] \n",
    "- implemented GridSearchCV with 5 cross-validation to identify and select the best parameter option for each model\n",
    "- utilized best_estimator which contains the best parameter option from GridSearchCV to return train and test scores\n",
    "- utilized ROC-AUC to see models' overall performances in distinguishing between Showerthoughts and CasualConversation\n",
    "- utilized ConfusionMatrix to observe which model performed better in classifying titles to which subreddit\n",
    "\n",
    "*** Summary of Intent for Preprocessing\n",
    "\n",
    "For the purpose of creating a neutral setting to compare the scores of each model in this first iteration, I deliberately chose not to incorporate other conditions such as custom list of words including \"people\" from the bar chart in my EDA and finetuning hyperparameters for the CountVectorizer and TfidfVectorizer. \n",
    "\n",
    "However, the second iteration (dk_model2) will utilize custom list of words including \"people\"to observe for any potential changes in models' performances in distinguishing titles between Showerthoughts and CasualConversation.\n",
    "\n",
    "Summary of Models Results\n",
    "\n",
    "- summarize the ROC and test scores of each model\n",
    "- highlight the one model that performed the best out of the four based on ROC and test scores\n",
    "- highlight drawbacks of the chosen model"
   ]
  },
  {
   "cell_type": "markdown",
   "id": "98392ec3",
   "metadata": {},
   "source": [
    "# Data Dictionary\n",
    "________"
   ]
  },
  {
   "cell_type": "code",
   "execution_count": 22,
   "id": "5c173284",
   "metadata": {},
   "outputs": [
    {
     "data": {
      "text/html": [
       "<div>\n",
       "<style scoped>\n",
       "    .dataframe tbody tr th:only-of-type {\n",
       "        vertical-align: middle;\n",
       "    }\n",
       "\n",
       "    .dataframe tbody tr th {\n",
       "        vertical-align: top;\n",
       "    }\n",
       "\n",
       "    .dataframe thead th {\n",
       "        text-align: right;\n",
       "    }\n",
       "</style>\n",
       "<table border=\"1\" class=\"dataframe\">\n",
       "  <thead>\n",
       "    <tr style=\"text-align: right;\">\n",
       "      <th></th>\n",
       "      <th>Variable</th>\n",
       "      <th>Data Type</th>\n",
       "      <th>Description</th>\n",
       "    </tr>\n",
       "  </thead>\n",
       "  <tbody>\n",
       "    <tr>\n",
       "      <th>0</th>\n",
       "      <td>title</td>\n",
       "      <td>object</td>\n",
       "      <td>title of individual post in subreddit</td>\n",
       "    </tr>\n",
       "    <tr>\n",
       "      <th>1</th>\n",
       "      <td>selftext</td>\n",
       "      <td>object</td>\n",
       "      <td>text within individual post in subreddit</td>\n",
       "    </tr>\n",
       "    <tr>\n",
       "      <th>2</th>\n",
       "      <td>subreddit</td>\n",
       "      <td>int64</td>\n",
       "      <td>name of specific Reddit community</td>\n",
       "    </tr>\n",
       "    <tr>\n",
       "      <th>3</th>\n",
       "      <td>created_utc</td>\n",
       "      <td>float64</td>\n",
       "      <td>unix timestamp</td>\n",
       "    </tr>\n",
       "    <tr>\n",
       "      <th>4</th>\n",
       "      <td>name</td>\n",
       "      <td>object</td>\n",
       "      <td>username of individual in Reddit</td>\n",
       "    </tr>\n",
       "  </tbody>\n",
       "</table>\n",
       "</div>"
      ],
      "text/plain": [
       "      Variable Data Type                               Description\n",
       "0        title    object     title of individual post in subreddit\n",
       "1     selftext    object  text within individual post in subreddit\n",
       "2    subreddit     int64         name of specific Reddit community\n",
       "3  created_utc   float64                            unix timestamp\n",
       "4         name    object          username of individual in Reddit"
      ]
     },
     "execution_count": 22,
     "metadata": {},
     "output_type": "execute_result"
    }
   ],
   "source": [
    "#https://pandas.pydata.org/docs/reference/api/pandas.DataFrame.to_dict.html#pandas.DataFrame.to_dict\n",
    "reddit = pd.DataFrame([\n",
    "    {'Variable': 'title', 'Data Type': 'object', 'Description': 'title of individual post in subreddit'},\n",
    "    {'Variable': 'selftext', 'Data Type': 'object', 'Description': 'text within individual post in subreddit'},\n",
    "    {'Variable': 'subreddit', 'Data Type': 'int64', 'Description': 'name of specific Reddit community'},\n",
    "    {'Variable': 'created_utc', 'Data Type': 'float64', 'Description': 'unix timestamp'},\n",
    "    {'Variable': 'name', 'Data Type': 'object', 'Description': 'username of individual in Reddit'}\n",
    "])\n",
    "\n",
    "# Plot the DataFrame\n",
    "#fig, ax = plt.subplots(figsize=(35, 50))\n",
    "#ax.axis('tight')\n",
    "#ax.axis('off')\n",
    "#ax.table(cellText=reddit.values,\n",
    "#         colLabels=reddit.columns,\n",
    "#         cellLoc = 'center', \n",
    "#         loc='center')\n",
    "#\n",
    "## Save the figure as an image\n",
    "#fig.savefig('../project_3/images/data_dictionary.png')\n",
    "# convert panda dataframe to dictionary\n",
    "reddit"
   ]
  },
  {
   "cell_type": "code",
   "execution_count": 1,
   "id": "fec02511",
   "metadata": {},
   "outputs": [],
   "source": [
    "import pandas as pd\n",
    "import numpy as np\n",
    "import matplotlib.pyplot as plt\n",
    "from sklearn.model_selection import train_test_split, GridSearchCV\n",
    "from sklearn.pipeline import Pipeline\n",
    "\n",
    "from sklearn.linear_model import LogisticRegression\n",
    "from sklearn.naive_bayes import MultinomialNB, BernoulliNB\n",
    "from sklearn.ensemble import RandomForestClassifier\n",
    "\n",
    "# from sklearn.metrics import RocCurveDisplay\n",
    "from sklearn.metrics import roc_auc_score\n",
    "from sklearn.metrics import confusion_matrix, ConfusionMatrixDisplay\n",
    "\n",
    "from nltk.tokenize import word_tokenize\n",
    "from nltk.probability import FreqDist\n",
    "from nltk.corpus import stopwords\n",
    "\n",
    "# Import CountVectorizer and TFIDFVectorizer from feature_extraction.text.\n",
    "from sklearn.feature_extraction.text import CountVectorizer, TfidfVectorizer"
   ]
  },
  {
   "cell_type": "code",
   "execution_count": 2,
   "id": "39aa8f3a",
   "metadata": {},
   "outputs": [],
   "source": [
    "casualconshower = pd.read_csv('../project_3/datasets/casualconshower.csv')"
   ]
  },
  {
   "cell_type": "code",
   "execution_count": 3,
   "id": "7ee250d2",
   "metadata": {},
   "outputs": [
    {
     "data": {
      "text/html": [
       "<div>\n",
       "<style scoped>\n",
       "    .dataframe tbody tr th:only-of-type {\n",
       "        vertical-align: middle;\n",
       "    }\n",
       "\n",
       "    .dataframe tbody tr th {\n",
       "        vertical-align: top;\n",
       "    }\n",
       "\n",
       "    .dataframe thead th {\n",
       "        text-align: right;\n",
       "    }\n",
       "</style>\n",
       "<table border=\"1\" class=\"dataframe\">\n",
       "  <thead>\n",
       "    <tr style=\"text-align: right;\">\n",
       "      <th></th>\n",
       "      <th>title</th>\n",
       "      <th>selftext</th>\n",
       "      <th>subreddit</th>\n",
       "      <th>created_utc</th>\n",
       "      <th>name</th>\n",
       "    </tr>\n",
       "  </thead>\n",
       "  <tbody>\n",
       "    <tr>\n",
       "      <th>0</th>\n",
       "      <td>When all our mental effort is on things we don...</td>\n",
       "      <td>In other words, we develop a misplaced distast...</td>\n",
       "      <td>1</td>\n",
       "      <td>1.706234e+09</td>\n",
       "      <td>t3_1ab6sqt</td>\n",
       "    </tr>\n",
       "    <tr>\n",
       "      <th>1</th>\n",
       "      <td>The only part of your reflection you can lick ...</td>\n",
       "      <td>You might be able to lick your nose, but you w...</td>\n",
       "      <td>1</td>\n",
       "      <td>1.706234e+09</td>\n",
       "      <td>t3_1ab6ris</td>\n",
       "    </tr>\n",
       "    <tr>\n",
       "      <th>2</th>\n",
       "      <td>You will regularly hear people talk about dark...</td>\n",
       "      <td>NaN</td>\n",
       "      <td>1</td>\n",
       "      <td>1.706233e+09</td>\n",
       "      <td>t3_1ab6j10</td>\n",
       "    </tr>\n",
       "    <tr>\n",
       "      <th>3</th>\n",
       "      <td>Chickens live their entire lives not knowing h...</td>\n",
       "      <td>NaN</td>\n",
       "      <td>1</td>\n",
       "      <td>1.706233e+09</td>\n",
       "      <td>t3_1ab6i76</td>\n",
       "    </tr>\n",
       "    <tr>\n",
       "      <th>4</th>\n",
       "      <td>Everything is always in the last place you look.</td>\n",
       "      <td>Because once you find it you stop looking.</td>\n",
       "      <td>1</td>\n",
       "      <td>1.706231e+09</td>\n",
       "      <td>t3_1ab5pyx</td>\n",
       "    </tr>\n",
       "  </tbody>\n",
       "</table>\n",
       "</div>"
      ],
      "text/plain": [
       "                                               title  \\\n",
       "0  When all our mental effort is on things we don...   \n",
       "1  The only part of your reflection you can lick ...   \n",
       "2  You will regularly hear people talk about dark...   \n",
       "3  Chickens live their entire lives not knowing h...   \n",
       "4   Everything is always in the last place you look.   \n",
       "\n",
       "                                            selftext  subreddit   created_utc  \\\n",
       "0  In other words, we develop a misplaced distast...          1  1.706234e+09   \n",
       "1  You might be able to lick your nose, but you w...          1  1.706234e+09   \n",
       "2                                                NaN          1  1.706233e+09   \n",
       "3                                                NaN          1  1.706233e+09   \n",
       "4         Because once you find it you stop looking.          1  1.706231e+09   \n",
       "\n",
       "         name  \n",
       "0  t3_1ab6sqt  \n",
       "1  t3_1ab6ris  \n",
       "2  t3_1ab6j10  \n",
       "3  t3_1ab6i76  \n",
       "4  t3_1ab5pyx  "
      ]
     },
     "execution_count": 3,
     "metadata": {},
     "output_type": "execute_result"
    }
   ],
   "source": [
    "casualconshower.head()"
   ]
  },
  {
   "cell_type": "code",
   "execution_count": 4,
   "id": "a8a0b9c2",
   "metadata": {},
   "outputs": [
    {
     "data": {
      "text/plain": [
       "(2365, 5)"
      ]
     },
     "execution_count": 4,
     "metadata": {},
     "output_type": "execute_result"
    }
   ],
   "source": [
    "# In total so far, I have 2365 worth of data collected \n",
    "# from both Showerthoughts and CasualConversation.\n",
    "casualconshower.shape"
   ]
  },
  {
   "cell_type": "code",
   "execution_count": 5,
   "id": "95be0a17",
   "metadata": {},
   "outputs": [
    {
     "data": {
      "text/plain": [
       "title            0\n",
       "selftext       995\n",
       "subreddit        0\n",
       "created_utc      0\n",
       "name             0\n",
       "dtype: int64"
      ]
     },
     "execution_count": 5,
     "metadata": {},
     "output_type": "execute_result"
    }
   ],
   "source": [
    "# selftext has 837 missing values\n",
    "# because there are missing selftexts and \n",
    "# part of my project's aim is \n",
    "# to use both title and selftitle\n",
    "# to create classification models,\n",
    "# I am going to encode 1 as selftext that has text data\n",
    "# while 0 as selftext that has no text data\n",
    "casualconshower.isnull().sum()"
   ]
  },
  {
   "cell_type": "code",
   "execution_count": 6,
   "id": "928ec52c",
   "metadata": {},
   "outputs": [
    {
     "name": "stdout",
     "output_type": "stream",
     "text": [
      "<class 'pandas.core.frame.DataFrame'>\n",
      "RangeIndex: 2365 entries, 0 to 2364\n",
      "Data columns (total 5 columns):\n",
      " #   Column       Non-Null Count  Dtype  \n",
      "---  ------       --------------  -----  \n",
      " 0   title        2365 non-null   object \n",
      " 1   selftext     1370 non-null   object \n",
      " 2   subreddit    2365 non-null   int64  \n",
      " 3   created_utc  2365 non-null   float64\n",
      " 4   name         2365 non-null   object \n",
      "dtypes: float64(1), int64(1), object(3)\n",
      "memory usage: 92.5+ KB\n"
     ]
    }
   ],
   "source": [
    "# Because the title's data type is object and is not \n",
    "# missing any values, I will be using CountVectorizer \n",
    "# and TFIDVectorizer to change the title's text data to numerical\n",
    "# data to ensure I can classify which title falls under which subreddit, the target, \n",
    "# with the test data and models of my choice\n",
    "# the subreddit variable is not missing any values\n",
    "# and its data type is integer, therefore is ready\n",
    "# for preprocessing and modeling purposes such as Logistic Regression\n",
    "casualconshower.info()"
   ]
  },
  {
   "cell_type": "code",
   "execution_count": 7,
   "id": "d8b68744",
   "metadata": {},
   "outputs": [
    {
     "data": {
      "text/plain": [
       "count                                                  2365\n",
       "unique                                                 2365\n",
       "top       When all our mental effort is on things we don...\n",
       "freq                                                      1\n",
       "Name: title, dtype: object"
      ]
     },
     "execution_count": 7,
     "metadata": {},
     "output_type": "execute_result"
    }
   ],
   "source": [
    "# from observing the number of count and unique,\n",
    "# they both have the same number, which indicates\n",
    "# there is no duplicate in the title variable \n",
    "# and the most frequent value is 1 (Showerthoughts) \n",
    "# while 0 (CasualConversation) does not come up as most frequent.\n",
    "# I dummified the two values from subreddit in my PRAW notebook\n",
    "casualconshower['title'].describe()"
   ]
  },
  {
   "cell_type": "code",
   "execution_count": 8,
   "id": "ecb70daa",
   "metadata": {},
   "outputs": [
    {
     "data": {
      "text/plain": [
       "count                                                  1370\n",
       "unique                                                 1369\n",
       "top       Heyy! A little about me; I’m nineteen and I’m ...\n",
       "freq                                                      2\n",
       "Name: selftext, dtype: object"
      ]
     },
     "execution_count": 8,
     "metadata": {},
     "output_type": "execute_result"
    }
   ],
   "source": [
    "# Because the selftext has missing values when comparing\n",
    "# selftext to title and there is indication of 1 duplicate,\n",
    "# I plan not to use the selftext variable as part of my preprocessing\n",
    "# and modeling steps\n",
    "casualconshower['selftext'].describe()"
   ]
  },
  {
   "cell_type": "code",
   "execution_count": 9,
   "id": "3003d088",
   "metadata": {},
   "outputs": [
    {
     "data": {
      "text/plain": [
       "subreddit\n",
       "1    1215\n",
       "0    1150\n",
       "Name: count, dtype: int64"
      ]
     },
     "execution_count": 9,
     "metadata": {},
     "output_type": "execute_result"
    }
   ],
   "source": [
    "# Within subreddit\n",
    "# 1215 count falls under 1 (Showerthoughts) \n",
    "# 1150 count falls under 0 (CasualConversation) \n",
    "# there are more Showerthoughts than CasualConversations\n",
    "# which indicate that Showerthoughts is going to be the majority class\n",
    "# while CasualConversation is going to be the minority class\n",
    "casualconshower['subreddit'].value_counts()"
   ]
  },
  {
   "cell_type": "code",
   "execution_count": 10,
   "id": "75a7f690",
   "metadata": {},
   "outputs": [
    {
     "data": {
      "text/plain": [
       "subreddit\n",
       "1    0.513742\n",
       "0    0.486258\n",
       "Name: proportion, dtype: float64"
      ]
     },
     "execution_count": 10,
     "metadata": {},
     "output_type": "execute_result"
    }
   ],
   "source": [
    "# my baseline accuracy is 0.51 that I will be using to compare my models' test scores\n",
    "# majority class is 1 (Showerthoughts) with 0.51 \n",
    "# while the minority class is 0 (CasualConversation) with roughly 0.49\n",
    "casualconshower['subreddit'].value_counts(normalize=True)"
   ]
  },
  {
   "cell_type": "code",
   "execution_count": 11,
   "id": "62657990",
   "metadata": {},
   "outputs": [],
   "source": [
    "# Tokenize and remove stopwords to see common words within casualshower['title']\n",
    "stop_words = set(stopwords.words(\"english\"))\n",
    "all_words = [word.lower() for title in casualconshower['title'] for word in word_tokenize(title) if word.isalpha() and word.lower() not in stop_words]"
   ]
  },
  {
   "cell_type": "code",
   "execution_count": 12,
   "id": "6be5244f",
   "metadata": {},
   "outputs": [],
   "source": [
    "# Calculate word frequencies\n",
    "freq_dist = FreqDist(all_words)\n",
    "\n",
    "# Convert word frequencies to a DataFrame\n",
    "word_freq_df = pd.DataFrame(list(freq_dist.items()), columns=['Word', 'Frequency'])"
   ]
  },
  {
   "cell_type": "code",
   "execution_count": 13,
   "id": "0b453e85",
   "metadata": {},
   "outputs": [],
   "source": [
    "# Sort DataFrame by frequency and select the top words\n",
    "top_words = word_freq_df.sort_values(by='Frequency', ascending=False).head(10)"
   ]
  },
  {
   "cell_type": "code",
   "execution_count": 14,
   "id": "3a419c17",
   "metadata": {},
   "outputs": [
    {
     "data": {
      "image/png": "[encoded data removed]",
      "text/plain": [
       "<Figure size 1000x500 with 1 Axes>"
      ]
     },
     "metadata": {},
     "output_type": "display_data"
    }
   ],
   "source": [
    "# Bar Chart\n",
    "plt.figure(figsize=(10, 5))\n",
    "plt.barh(top_words['Word'], top_words['Frequency'])\n",
    "plt.title(\"Top 10 Common Words in Titles from 1 (ShowerThoughts) and 0 (CasualConversation)\")\n",
    "plt.xlabel(\"Frequency\")\n",
    "plt.ylabel(\"Words\")\n",
    "\n",
    "#save\n",
    "plt.savefig(\"Top 10 Common Words in Title from Subreddit.png\", dpi = 75);"
   ]
  },
  {
   "cell_type": "markdown",
   "id": "4b78bc99",
   "metadata": {},
   "source": [
    "# Bar Chart Interpretation\n",
    "____\n",
    "\n",
    "The word \"people\" has been repeated over 200 times from the title column. Because of the significant frequency coming from the word \"people,\" these ten words might have important impact on my models' performances when creating a list of customized words for CountVectorizer and TfidfVectorizer during preprocessing steps."
   ]
  },
  {
   "cell_type": "code",
   "execution_count": 15,
   "id": "e7a22efb",
   "metadata": {},
   "outputs": [
    {
     "data": {
      "text/plain": [
       "4973"
      ]
     },
     "execution_count": 15,
     "metadata": {},
     "output_type": "execute_result"
    }
   ],
   "source": [
    "# there are 4973 count of words\n",
    "# without stopwords in CasualConshower['title'] \n",
    "# from both 1 (Showerthoughts) and 0 (CasualConversation)\n",
    "len(word_freq_df['Word'])"
   ]
  },
  {
   "cell_type": "code",
   "execution_count": 16,
   "id": "962ddba6",
   "metadata": {},
   "outputs": [
    {
     "name": "stdout",
     "output_type": "stream",
     "text": [
      "Average Frequency: 2.918962396943495\n"
     ]
    }
   ],
   "source": [
    "# the average frequency for common words without stopwords in CasualConShower['title'] from \n",
    "# subreddit Showerthoughts (encoded as 1) and CasualConversation (encoded as 0)\n",
    "# this is telling me that on average, each common word appears about 3 times in my\n",
    "# dataset. Although the average is low, it is to be expected given my data\n",
    "# size of 4973 unique words \n",
    "average_frequency = sum(word_freq_df['Frequency']) / len(word_freq_df['Word'])\n",
    "print(\"Average Frequency:\", average_frequency)"
   ]
  },
  {
   "cell_type": "markdown",
   "id": "c13f9e91",
   "metadata": {},
   "source": [
    "# Data EDA Summary\n",
    "_____\n",
    "\n",
    "\n",
    "* After removing duplicates and concatenating data from both Showerthoughts and Casual Conversation to create a new variable, known as casualconshower, the new dataset has 2365 rows, subreddit, the target variable, and four features: title, selftext, created_utc, and name. Out of the four features, this project will utilize title to answer the problem statement's question.\n",
    "\n",
    "* After observing the distribution of the target variable, subreddit, the majority class is 1, represented as Showerthoughts, with 0.51. On the other hand, the other class is 0, represented as CasualConversation, with 0.48. \n",
    "\n",
    "* From the bar chart, the word \"people\" from the title feature has been counted over 200 times followed by \"like\", \"life\", \"one\", \"get\", \"never\", \"anyone\", \"day\", \"make\", and \"else.\" \n",
    "\n",
    "* Given that each common word appears about 3 times in my dataset of 4973 words after removing stopwords, the words with the highest frequency, as shown in the bar chart, are important features I may have to consider in creating my custom word list when tuning my CountVectorizer and TFIDVectorizer during my preprocessing step.\n",
    "\n",
    "* Because my problem statement's aim is to create a successful model that can accurately predict which new titles will fall under either Showerthoughts and CasualConversations subreddits, I converted \"Showerthoughts\" to 1 and \"CasualConversation\" to 0 with hot-one encode method. After cleaning and conducting exploratory data analysis, the dataset is prepared to undergo preprocessing and modeling.\n"
   ]
  },
  {
   "cell_type": "markdown",
   "id": "f38211fb",
   "metadata": {},
   "source": [
    "# Logistic Regression with Hypertuned CountVectorizer\n",
    "\n",
    "after utilizing gridsearch to search for the best parameter, here is the hyperparameter setting for CountVectorizer: {'cvec__max_df': 0.85, 'cvec__max_features': 1500, 'cvec__min_df': 0.03, 'cvec__ngram_range': (1, 2)}\n",
    "______"
   ]
  },
  {
   "cell_type": "code",
   "execution_count": 17,
   "id": "5b258dd3",
   "metadata": {},
   "outputs": [],
   "source": [
    "# creating our X and y\n",
    "X = casualconshower['title']\n",
    "y = casualconshower['subreddit']"
   ]
  },
  {
   "cell_type": "code",
   "execution_count": 18,
   "id": "33a4f8ca",
   "metadata": {},
   "outputs": [],
   "source": [
    "# Import train_test_split.\n",
    "from sklearn.model_selection import train_test_split\n",
    "\n",
    "# Create train_test_split.\n",
    "X_train, X_test, y_train, y_test = train_test_split(X,\n",
    "                                                    y,\n",
    "                                                    test_size=0.25,\n",
    "                                                    random_state=42,\n",
    "                                                    stratify=y)"
   ]
  },
  {
   "cell_type": "code",
   "execution_count": 19,
   "id": "d343a5e8",
   "metadata": {},
   "outputs": [],
   "source": [
    "# Set a pipeline up with two stages:\n",
    "# 1. CountVectorizer (transformer)\n",
    "# 2. Standard Scaler to ensure normalize scale of variable title before putting Logistic Regression\n",
    "# 3. Logistic Regression\n",
    "pipe = Pipeline([\n",
    "    ('cvec', CountVectorizer()),\n",
    "    ('lr', LogisticRegression())\n",
    "])"
   ]
  },
  {
   "cell_type": "code",
   "execution_count": 20,
   "id": "bf29508b",
   "metadata": {},
   "outputs": [],
   "source": [
    "# Search over the following values of hyperparameters:\n",
    "# Maximum number of features fit: 1500, 3000, 5000\n",
    "# Minimum number of documents needed to include token: 0.03, 0.05\n",
    "# Maximum number of documents needed to include token: 0.85, 0.9\n",
    "# Check (individual tokens) and also check (individual tokens and 2-grams).\n",
    "\n",
    "pipe_params = {'cvec__max_features' : [1500, 3000, 5000],\n",
    "              'cvec__min_df' : [0.03, 0.05],\n",
    "               'cvec__max_df': [0.85, 0.9],\n",
    "               'cvec__ngram_range' : [(1, 1), (1, 2)]                               \n",
    "              }"
   ]
  },
  {
   "cell_type": "code",
   "execution_count": 21,
   "id": "8f2047e7",
   "metadata": {},
   "outputs": [],
   "source": [
    "# Instantiate GridSearchCV.\n",
    "\n",
    "gs = GridSearchCV(pipe, # what object are we optimizing?\n",
    "                  param_grid=pipe_params, # what parameters values are we searching?\n",
    "                  cv = 5) # 5-fold cross-validation."
   ]
  },
  {
   "cell_type": "code",
   "execution_count": 22,
   "id": "4e885278",
   "metadata": {},
   "outputs": [
    {
     "data": {
      "text/html": [
       "<style>#sk-container-id-1 {color: black;}#sk-container-id-1 pre{padding: 0;}#sk-container-id-1 div.sk-toggleable {background-color: white;}#sk-container-id-1 label.sk-toggleable__label {cursor: pointer;display: block;width: 100%;margin-bottom: 0;padding: 0.3em;box-sizing: border-box;text-align: center;}#sk-container-id-1 label.sk-toggleable__label-arrow:before {content: \"▸\";float: left;margin-right: 0.25em;color: #696969;}#sk-container-id-1 label.sk-toggleable__label-arrow:hover:before {color: black;}#sk-container-id-1 div.sk-estimator:hover label.sk-toggleable__label-arrow:before {color: black;}#sk-container-id-1 div.sk-toggleable__content {max-height: 0;max-width: 0;overflow: hidden;text-align: left;background-color: #f0f8ff;}#sk-container-id-1 div.sk-toggleable__content pre {margin: 0.2em;color: black;border-radius: 0.25em;background-color: #f0f8ff;}#sk-container-id-1 input.sk-toggleable__control:checked~div.sk-toggleable__content {max-height: 200px;max-width: 100%;overflow: auto;}#sk-container-id-1 input.sk-toggleable__control:checked~label.sk-toggleable__label-arrow:before {content: \"▾\";}#sk-container-id-1 div.sk-estimator input.sk-toggleable__control:checked~label.sk-toggleable__label {background-color: #d4ebff;}#sk-container-id-1 div.sk-label input.sk-toggleable__control:checked~label.sk-toggleable__label {background-color: #d4ebff;}#sk-container-id-1 input.sk-hidden--visually {border: 0;clip: rect(1px 1px 1px 1px);clip: rect(1px, 1px, 1px, 1px);height: 1px;margin: -1px;overflow: hidden;padding: 0;position: absolute;width: 1px;}#sk-container-id-1 div.sk-estimator {font-family: monospace;background-color: #f0f8ff;border: 1px dotted black;border-radius: 0.25em;box-sizing: border-box;margin-bottom: 0.5em;}#sk-container-id-1 div.sk-estimator:hover {background-color: #d4ebff;}#sk-container-id-1 div.sk-parallel-item::after {content: \"\";width: 100%;border-bottom: 1px solid gray;flex-grow: 1;}#sk-container-id-1 div.sk-label:hover label.sk-toggleable__label {background-color: #d4ebff;}#sk-container-id-1 div.sk-serial::before {content: \"\";position: absolute;border-left: 1px solid gray;box-sizing: border-box;top: 0;bottom: 0;left: 50%;z-index: 0;}#sk-container-id-1 div.sk-serial {display: flex;flex-direction: column;align-items: center;background-color: white;padding-right: 0.2em;padding-left: 0.2em;position: relative;}#sk-container-id-1 div.sk-item {position: relative;z-index: 1;}#sk-container-id-1 div.sk-parallel {display: flex;align-items: stretch;justify-content: center;background-color: white;position: relative;}#sk-container-id-1 div.sk-item::before, #sk-container-id-1 div.sk-parallel-item::before {content: \"\";position: absolute;border-left: 1px solid gray;box-sizing: border-box;top: 0;bottom: 0;left: 50%;z-index: -1;}#sk-container-id-1 div.sk-parallel-item {display: flex;flex-direction: column;z-index: 1;position: relative;background-color: white;}#sk-container-id-1 div.sk-parallel-item:first-child::after {align-self: flex-end;width: 50%;}#sk-container-id-1 div.sk-parallel-item:last-child::after {align-self: flex-start;width: 50%;}#sk-container-id-1 div.sk-parallel-item:only-child::after {width: 0;}#sk-container-id-1 div.sk-dashed-wrapped {border: 1px dashed gray;margin: 0 0.4em 0.5em 0.4em;box-sizing: border-box;padding-bottom: 0.4em;background-color: white;}#sk-container-id-1 div.sk-label label {font-family: monospace;font-weight: bold;display: inline-block;line-height: 1.2em;}#sk-container-id-1 div.sk-label-container {text-align: center;}#sk-container-id-1 div.sk-container {/* jupyter's `normalize.less` sets `[hidden] { display: none; }` but bootstrap.min.css set `[hidden] { display: none !important; }` so we also need the `!important` here to be able to override the default hidden behavior on the sphinx rendered scikit-learn.org. See: https://github.com/scikit-learn/scikit-learn/issues/21755 */display: inline-block !important;position: relative;}#sk-container-id-1 div.sk-text-repr-fallback {display: none;}</style><div id=\"sk-container-id-1\" class=\"sk-top-container\"><div class=\"sk-text-repr-fallback\"><pre>GridSearchCV(cv=5,\n",
       "             estimator=Pipeline(steps=[(&#x27;cvec&#x27;, CountVectorizer()),\n",
       "                                       (&#x27;lr&#x27;, LogisticRegression())]),\n",
       "             param_grid={&#x27;cvec__max_df&#x27;: [0.85, 0.9],\n",
       "                         &#x27;cvec__max_features&#x27;: [1500, 3000, 5000],\n",
       "                         &#x27;cvec__min_df&#x27;: [0.03, 0.05],\n",
       "                         &#x27;cvec__ngram_range&#x27;: [(1, 1), (1, 2)]})</pre><b>In a Jupyter environment, please rerun this cell to show the HTML representation or trust the notebook. <br />On GitHub, the HTML representation is unable to render, please try loading this page with nbviewer.org.</b></div><div class=\"sk-container\" hidden><div class=\"sk-item sk-dashed-wrapped\"><div class=\"sk-label-container\"><div class=\"sk-label sk-toggleable\"><input class=\"sk-toggleable__control sk-hidden--visually\" id=\"sk-estimator-id-1\" type=\"checkbox\" ><label for=\"sk-estimator-id-1\" class=\"sk-toggleable__label sk-toggleable__label-arrow\">GridSearchCV</label><div class=\"sk-toggleable__content\"><pre>GridSearchCV(cv=5,\n",
       "             estimator=Pipeline(steps=[(&#x27;cvec&#x27;, CountVectorizer()),\n",
       "                                       (&#x27;lr&#x27;, LogisticRegression())]),\n",
       "             param_grid={&#x27;cvec__max_df&#x27;: [0.85, 0.9],\n",
       "                         &#x27;cvec__max_features&#x27;: [1500, 3000, 5000],\n",
       "                         &#x27;cvec__min_df&#x27;: [0.03, 0.05],\n",
       "                         &#x27;cvec__ngram_range&#x27;: [(1, 1), (1, 2)]})</pre></div></div></div><div class=\"sk-parallel\"><div class=\"sk-parallel-item\"><div class=\"sk-item\"><div class=\"sk-label-container\"><div class=\"sk-label sk-toggleable\"><input class=\"sk-toggleable__control sk-hidden--visually\" id=\"sk-estimator-id-2\" type=\"checkbox\" ><label for=\"sk-estimator-id-2\" class=\"sk-toggleable__label sk-toggleable__label-arrow\">estimator: Pipeline</label><div class=\"sk-toggleable__content\"><pre>Pipeline(steps=[(&#x27;cvec&#x27;, CountVectorizer()), (&#x27;lr&#x27;, LogisticRegression())])</pre></div></div></div><div class=\"sk-serial\"><div class=\"sk-item\"><div class=\"sk-serial\"><div class=\"sk-item\"><div class=\"sk-estimator sk-toggleable\"><input class=\"sk-toggleable__control sk-hidden--visually\" id=\"sk-estimator-id-3\" type=\"checkbox\" ><label for=\"sk-estimator-id-3\" class=\"sk-toggleable__label sk-toggleable__label-arrow\">CountVectorizer</label><div class=\"sk-toggleable__content\"><pre>CountVectorizer()</pre></div></div></div><div class=\"sk-item\"><div class=\"sk-estimator sk-toggleable\"><input class=\"sk-toggleable__control sk-hidden--visually\" id=\"sk-estimator-id-4\" type=\"checkbox\" ><label for=\"sk-estimator-id-4\" class=\"sk-toggleable__label sk-toggleable__label-arrow\">LogisticRegression</label><div class=\"sk-toggleable__content\"><pre>LogisticRegression()</pre></div></div></div></div></div></div></div></div></div></div></div></div>"
      ],
      "text/plain": [
       "GridSearchCV(cv=5,\n",
       "             estimator=Pipeline(steps=[('cvec', CountVectorizer()),\n",
       "                                       ('lr', LogisticRegression())]),\n",
       "             param_grid={'cvec__max_df': [0.85, 0.9],\n",
       "                         'cvec__max_features': [1500, 3000, 5000],\n",
       "                         'cvec__min_df': [0.03, 0.05],\n",
       "                         'cvec__ngram_range': [(1, 1), (1, 2)]})"
      ]
     },
     "execution_count": 22,
     "metadata": {},
     "output_type": "execute_result"
    }
   ],
   "source": [
    "# Fit GridSearch to training data.\n",
    "gs.fit(X_train, y_train)"
   ]
  },
  {
   "cell_type": "code",
   "execution_count": 23,
   "id": "6440144e",
   "metadata": {},
   "outputs": [
    {
     "name": "stdout",
     "output_type": "stream",
     "text": [
      "0.8285350521206333\n"
     ]
    }
   ],
   "source": [
    "# the best score\n",
    "# from cross validation\n",
    "print(gs.best_score_)"
   ]
  },
  {
   "cell_type": "code",
   "execution_count": 24,
   "id": "ebdb9300",
   "metadata": {},
   "outputs": [
    {
     "name": "stdout",
     "output_type": "stream",
     "text": [
      "{'cvec__max_df': 0.85, 'cvec__max_features': 1500, 'cvec__min_df': 0.03, 'cvec__ngram_range': (1, 2)}\n"
     ]
    }
   ],
   "source": [
    "# getting the best parameters for the CountVectorizer\n",
    "print(gs.best_params_)"
   ]
  },
  {
   "cell_type": "code",
   "execution_count": 25,
   "id": "093c6c26",
   "metadata": {},
   "outputs": [],
   "source": [
    "# the best estimator\n",
    "gs_model = gs.best_estimator_"
   ]
  },
  {
   "cell_type": "code",
   "execution_count": 26,
   "id": "6670ef02",
   "metadata": {},
   "outputs": [
    {
     "name": "stdout",
     "output_type": "stream",
     "text": [
      "Pipeline(steps=[('cvec',\n",
      "                 CountVectorizer(max_df=0.85, max_features=1500, min_df=0.03,\n",
      "                                 ngram_range=(1, 2))),\n",
      "                ('lr', LogisticRegression())])\n"
     ]
    }
   ],
   "source": [
    "print(gs_model)"
   ]
  },
  {
   "cell_type": "code",
   "execution_count": 27,
   "id": "80a50d9a",
   "metadata": {},
   "outputs": [
    {
     "data": {
      "text/plain": [
       "0.8420755781161873"
      ]
     },
     "execution_count": 27,
     "metadata": {},
     "output_type": "execute_result"
    }
   ],
   "source": [
    "# Score model on train set.\n",
    "gs_model.score(X_train, y_train)"
   ]
  },
  {
   "cell_type": "code",
   "execution_count": 28,
   "id": "cdff6f61",
   "metadata": {},
   "outputs": [
    {
     "data": {
      "text/plain": [
       "0.7905405405405406"
      ]
     },
     "execution_count": 28,
     "metadata": {},
     "output_type": "execute_result"
    }
   ],
   "source": [
    "# Score model on test set.\n",
    "gs_model.score(X_test, y_test)"
   ]
  },
  {
   "cell_type": "markdown",
   "id": "928f40f4",
   "metadata": {},
   "source": [
    "## Train and Test Score Interpretation for Underfit/Overfit from Logistic Regression with Hypertuned Countervectorizer\n",
    "____\n",
    "\n",
    "After implementing gridsearch and best parameter of {'cvec__max_df': 0.85, 'cvec__max_features': 1500, 'cvec__min_df': 0.03, 'cvec__ngram_range': (1, 2)}, the train score turns out to be 84 percent while the test score is 79 percent.\n",
    "\n",
    "Because the train score is higher than the test score, there is indication of overfitting. In other words, the model seems to be doing well in fitting the training data but is not generalizing well to new, unseen data.\n",
    "\n",
    "For next steps, the plan is to use the 10 common words to create my custom word list, as discovered by earlier exploratory data analysis, to observe if the model reduces overfitting and improve the test score.  "
   ]
  },
  {
   "cell_type": "code",
   "execution_count": 29,
   "id": "c4bb112b",
   "metadata": {},
   "outputs": [],
   "source": [
    "# Get predictions\n",
    "preds = gs_model.predict(X_test)"
   ]
  },
  {
   "cell_type": "code",
   "execution_count": 30,
   "id": "26b070c9",
   "metadata": {},
   "outputs": [
    {
     "data": {
      "text/plain": [
       "0.7902046783625731"
      ]
     },
     "execution_count": 30,
     "metadata": {},
     "output_type": "execute_result"
    }
   ],
   "source": [
    "# ROC-AUC score of Logistic Regression with Hypertuned CountVectorizer\n",
    "roc_auc_score(y_test, preds)"
   ]
  },
  {
   "cell_type": "markdown",
   "id": "6ab29f55",
   "metadata": {},
   "source": [
    "# ROC-AUC Score Interpretation of Logistic Regression with Hypertuned CountVectorizer\n",
    "_______\n",
    "\n",
    "To summarize from the ROC-AUC score, the model is doing a decent job in differentiating between Showerthoughts and CasualConversation since its score is almost 80 percent."
   ]
  },
  {
   "cell_type": "code",
   "execution_count": 31,
   "id": "98be0245",
   "metadata": {},
   "outputs": [],
   "source": [
    "# Save confusion matrix values\n",
    "tn, fp, fn, tp = confusion_matrix(y_test, preds).ravel()"
   ]
  },
  {
   "cell_type": "code",
   "execution_count": 38,
   "id": "0c84b150",
   "metadata": {},
   "outputs": [
    {
     "data": {
      "image/png": "[encoded data removed]",
      "text/plain": [
       "<Figure size 640x480 with 2 Axes>"
      ]
     },
     "metadata": {},
     "output_type": "display_data"
    }
   ],
   "source": [
    "# View confusion matrix\n",
    "ConfusionMatrixDisplay.from_estimator(gs_model, X_test, y_test, cmap='Blues')\n",
    "\n",
    "# Get the axis of the plot\n",
    "ax = plt.gca()\n",
    "\n",
    "# Set the title\n",
    "ax.set_title('CM of Logistic Regression with Hypertuned CountVectorizer: 1')\n",
    "\n",
    "#save\n",
    "plt.savefig(\"Confusion Matrix of Logistic Regression with Hypertuned CountVectorizer.png\", dpi = 75);"
   ]
  },
  {
   "cell_type": "code",
   "execution_count": 34,
   "id": "0aecfc36",
   "metadata": {},
   "outputs": [],
   "source": [
    "# Generate a confusion matrix.\n",
    "def find_cm(y_test, preds):\n",
    "    tn, fp, fn, tp = confusion_matrix(y_test, preds).ravel()\n",
    "    \n",
    "    print(f\"TN: {tn}\\nFP: {fp}\\nFN: {fn}\\nTP: {tp}\")\n",
    "    \n",
    "    print(f\"Sensitivity: {tp/(tp+fn)}\\nSpecificity: {tn/(tn+fp)}\")"
   ]
  },
  {
   "cell_type": "code",
   "execution_count": 35,
   "id": "9bc846a1",
   "metadata": {},
   "outputs": [
    {
     "name": "stdout",
     "output_type": "stream",
     "text": [
      "TN: 224\n",
      "FP: 64\n",
      "FN: 60\n",
      "TP: 244\n",
      "Sensitivity: 0.8026315789473685\n",
      "Specificity: 0.7777777777777778\n"
     ]
    }
   ],
   "source": [
    "find_cm(y_test, preds)"
   ]
  },
  {
   "cell_type": "markdown",
   "id": "55e4fb33",
   "metadata": {},
   "source": [
    "### Confusion Matrix Interpretation from Logistic Regression Model with HyperTuned CountVectorizer\n",
    "_____\n",
    "\n",
    "Showerthoughts as our target / positive outcome:\n",
    "\n",
    "* Our model has true negatives of 224 titles from Casual Conversations correctly classified\n",
    "\n",
    "* Our model has false positives of 64 titles from Showerthoughts incorrectly classified\n",
    "\n",
    "* Our model has false negatives of 60 titles from Casual Conversations incorrectly classified\n",
    "\n",
    "* Our model has true positives of 244 titles from Showerthoughts correctly classified\n",
    "\n",
    "\n",
    "* Our model has a sensitivity of 0.80 with 244 of 304 titles from Showerthoughts correctly classified\n",
    "\n",
    "* Our model has a specificity of roughly 0.78 with 224 of 288 titles from Casual Conversations correctly classified\n",
    "\n",
    "Our model seems to perform better at identifying our positive class (Showerthoughts) than our negative class (CasualConversation)."
   ]
  },
  {
   "cell_type": "markdown",
   "id": "54263277",
   "metadata": {},
   "source": [
    "# Logistic Regression with Hypertuned TFIDFVectorizer\n",
    "\n",
    "using best parameter option, hyperparameter setting for TFIDVectorizer: 'cvec__max_df': 0.85, 'cvec__max_features': 1500, 'cvec__min_df': 0.03, 'cvec__ngram_range': (1, 1)\n",
    "______"
   ]
  },
  {
   "cell_type": "code",
   "execution_count": 39,
   "id": "8b337f45",
   "metadata": {},
   "outputs": [],
   "source": [
    "# creating our X and y\n",
    "X = casualconshower['title']\n",
    "y = casualconshower['subreddit']"
   ]
  },
  {
   "cell_type": "code",
   "execution_count": 40,
   "id": "1e8e535c",
   "metadata": {},
   "outputs": [],
   "source": [
    "# Import train_test_split.\n",
    "from sklearn.model_selection import train_test_split\n",
    "\n",
    "# Create train_test_split.\n",
    "X_train, X_test, y_train, y_test = train_test_split(X,\n",
    "                                                    y,\n",
    "                                                    test_size=0.25,\n",
    "                                                    random_state=42,\n",
    "                                                    stratify=y)"
   ]
  },
  {
   "cell_type": "code",
   "execution_count": 41,
   "id": "3c0c4f86",
   "metadata": {},
   "outputs": [],
   "source": [
    "# Set a pipeline up with two stages:\n",
    "# 1. TfidfVectorizer (transformer)\n",
    "# 2. Logistic Regression\n",
    "pipe = Pipeline([\n",
    "    ('tvec', TfidfVectorizer()),\n",
    "    ('lr', LogisticRegression())\n",
    "])"
   ]
  },
  {
   "cell_type": "code",
   "execution_count": 42,
   "id": "a72d5097",
   "metadata": {},
   "outputs": [],
   "source": [
    "# Search over the following values of hyperparameters:\n",
    "# Maximum number of features fit: 2000, 3000, 4000, 5000\n",
    "# Minimum number of documents needed to include token: 2, 3\n",
    "# Maximum number of documents needed to include token: 90%, 95%\n",
    "# Check (individual tokens) and also check (individual tokens and 2-grams).\n",
    "\n",
    "pipe_params = {'tvec__max_features' : [1500, 3000, 5000],\n",
    "              'tvec__min_df' : [0.03, 0.05],\n",
    "               'tvec__max_df': [0.85, 0.9],\n",
    "               'tvec__ngram_range' : [(1, 1), (1, 2)]\n",
    "              }"
   ]
  },
  {
   "cell_type": "code",
   "execution_count": 43,
   "id": "8b0efc6a",
   "metadata": {},
   "outputs": [],
   "source": [
    "# Instantiate GridSearchCV.\n",
    "\n",
    "gs_tv = GridSearchCV(pipe, # what object are we optimizing?\n",
    "                  param_grid=pipe_params, # what parameters values are we searching?\n",
    "                  cv = 5) # 5-fold cross-validation."
   ]
  },
  {
   "cell_type": "code",
   "execution_count": 44,
   "id": "4c165ee4",
   "metadata": {},
   "outputs": [
    {
     "data": {
      "text/html": [
       "<style>#sk-container-id-2 {color: black;}#sk-container-id-2 pre{padding: 0;}#sk-container-id-2 div.sk-toggleable {background-color: white;}#sk-container-id-2 label.sk-toggleable__label {cursor: pointer;display: block;width: 100%;margin-bottom: 0;padding: 0.3em;box-sizing: border-box;text-align: center;}#sk-container-id-2 label.sk-toggleable__label-arrow:before {content: \"▸\";float: left;margin-right: 0.25em;color: #696969;}#sk-container-id-2 label.sk-toggleable__label-arrow:hover:before {color: black;}#sk-container-id-2 div.sk-estimator:hover label.sk-toggleable__label-arrow:before {color: black;}#sk-container-id-2 div.sk-toggleable__content {max-height: 0;max-width: 0;overflow: hidden;text-align: left;background-color: #f0f8ff;}#sk-container-id-2 div.sk-toggleable__content pre {margin: 0.2em;color: black;border-radius: 0.25em;background-color: #f0f8ff;}#sk-container-id-2 input.sk-toggleable__control:checked~div.sk-toggleable__content {max-height: 200px;max-width: 100%;overflow: auto;}#sk-container-id-2 input.sk-toggleable__control:checked~label.sk-toggleable__label-arrow:before {content: \"▾\";}#sk-container-id-2 div.sk-estimator input.sk-toggleable__control:checked~label.sk-toggleable__label {background-color: #d4ebff;}#sk-container-id-2 div.sk-label input.sk-toggleable__control:checked~label.sk-toggleable__label {background-color: #d4ebff;}#sk-container-id-2 input.sk-hidden--visually {border: 0;clip: rect(1px 1px 1px 1px);clip: rect(1px, 1px, 1px, 1px);height: 1px;margin: -1px;overflow: hidden;padding: 0;position: absolute;width: 1px;}#sk-container-id-2 div.sk-estimator {font-family: monospace;background-color: #f0f8ff;border: 1px dotted black;border-radius: 0.25em;box-sizing: border-box;margin-bottom: 0.5em;}#sk-container-id-2 div.sk-estimator:hover {background-color: #d4ebff;}#sk-container-id-2 div.sk-parallel-item::after {content: \"\";width: 100%;border-bottom: 1px solid gray;flex-grow: 1;}#sk-container-id-2 div.sk-label:hover label.sk-toggleable__label {background-color: #d4ebff;}#sk-container-id-2 div.sk-serial::before {content: \"\";position: absolute;border-left: 1px solid gray;box-sizing: border-box;top: 0;bottom: 0;left: 50%;z-index: 0;}#sk-container-id-2 div.sk-serial {display: flex;flex-direction: column;align-items: center;background-color: white;padding-right: 0.2em;padding-left: 0.2em;position: relative;}#sk-container-id-2 div.sk-item {position: relative;z-index: 1;}#sk-container-id-2 div.sk-parallel {display: flex;align-items: stretch;justify-content: center;background-color: white;position: relative;}#sk-container-id-2 div.sk-item::before, #sk-container-id-2 div.sk-parallel-item::before {content: \"\";position: absolute;border-left: 1px solid gray;box-sizing: border-box;top: 0;bottom: 0;left: 50%;z-index: -1;}#sk-container-id-2 div.sk-parallel-item {display: flex;flex-direction: column;z-index: 1;position: relative;background-color: white;}#sk-container-id-2 div.sk-parallel-item:first-child::after {align-self: flex-end;width: 50%;}#sk-container-id-2 div.sk-parallel-item:last-child::after {align-self: flex-start;width: 50%;}#sk-container-id-2 div.sk-parallel-item:only-child::after {width: 0;}#sk-container-id-2 div.sk-dashed-wrapped {border: 1px dashed gray;margin: 0 0.4em 0.5em 0.4em;box-sizing: border-box;padding-bottom: 0.4em;background-color: white;}#sk-container-id-2 div.sk-label label {font-family: monospace;font-weight: bold;display: inline-block;line-height: 1.2em;}#sk-container-id-2 div.sk-label-container {text-align: center;}#sk-container-id-2 div.sk-container {/* jupyter's `normalize.less` sets `[hidden] { display: none; }` but bootstrap.min.css set `[hidden] { display: none !important; }` so we also need the `!important` here to be able to override the default hidden behavior on the sphinx rendered scikit-learn.org. See: https://github.com/scikit-learn/scikit-learn/issues/21755 */display: inline-block !important;position: relative;}#sk-container-id-2 div.sk-text-repr-fallback {display: none;}</style><div id=\"sk-container-id-2\" class=\"sk-top-container\"><div class=\"sk-text-repr-fallback\"><pre>GridSearchCV(cv=5,\n",
       "             estimator=Pipeline(steps=[(&#x27;tvec&#x27;, TfidfVectorizer()),\n",
       "                                       (&#x27;lr&#x27;, LogisticRegression())]),\n",
       "             param_grid={&#x27;tvec__max_df&#x27;: [0.85, 0.9],\n",
       "                         &#x27;tvec__max_features&#x27;: [1500, 3000, 5000],\n",
       "                         &#x27;tvec__min_df&#x27;: [0.03, 0.05],\n",
       "                         &#x27;tvec__ngram_range&#x27;: [(1, 1), (1, 2)]})</pre><b>In a Jupyter environment, please rerun this cell to show the HTML representation or trust the notebook. <br />On GitHub, the HTML representation is unable to render, please try loading this page with nbviewer.org.</b></div><div class=\"sk-container\" hidden><div class=\"sk-item sk-dashed-wrapped\"><div class=\"sk-label-container\"><div class=\"sk-label sk-toggleable\"><input class=\"sk-toggleable__control sk-hidden--visually\" id=\"sk-estimator-id-5\" type=\"checkbox\" ><label for=\"sk-estimator-id-5\" class=\"sk-toggleable__label sk-toggleable__label-arrow\">GridSearchCV</label><div class=\"sk-toggleable__content\"><pre>GridSearchCV(cv=5,\n",
       "             estimator=Pipeline(steps=[(&#x27;tvec&#x27;, TfidfVectorizer()),\n",
       "                                       (&#x27;lr&#x27;, LogisticRegression())]),\n",
       "             param_grid={&#x27;tvec__max_df&#x27;: [0.85, 0.9],\n",
       "                         &#x27;tvec__max_features&#x27;: [1500, 3000, 5000],\n",
       "                         &#x27;tvec__min_df&#x27;: [0.03, 0.05],\n",
       "                         &#x27;tvec__ngram_range&#x27;: [(1, 1), (1, 2)]})</pre></div></div></div><div class=\"sk-parallel\"><div class=\"sk-parallel-item\"><div class=\"sk-item\"><div class=\"sk-label-container\"><div class=\"sk-label sk-toggleable\"><input class=\"sk-toggleable__control sk-hidden--visually\" id=\"sk-estimator-id-6\" type=\"checkbox\" ><label for=\"sk-estimator-id-6\" class=\"sk-toggleable__label sk-toggleable__label-arrow\">estimator: Pipeline</label><div class=\"sk-toggleable__content\"><pre>Pipeline(steps=[(&#x27;tvec&#x27;, TfidfVectorizer()), (&#x27;lr&#x27;, LogisticRegression())])</pre></div></div></div><div class=\"sk-serial\"><div class=\"sk-item\"><div class=\"sk-serial\"><div class=\"sk-item\"><div class=\"sk-estimator sk-toggleable\"><input class=\"sk-toggleable__control sk-hidden--visually\" id=\"sk-estimator-id-7\" type=\"checkbox\" ><label for=\"sk-estimator-id-7\" class=\"sk-toggleable__label sk-toggleable__label-arrow\">TfidfVectorizer</label><div class=\"sk-toggleable__content\"><pre>TfidfVectorizer()</pre></div></div></div><div class=\"sk-item\"><div class=\"sk-estimator sk-toggleable\"><input class=\"sk-toggleable__control sk-hidden--visually\" id=\"sk-estimator-id-8\" type=\"checkbox\" ><label for=\"sk-estimator-id-8\" class=\"sk-toggleable__label sk-toggleable__label-arrow\">LogisticRegression</label><div class=\"sk-toggleable__content\"><pre>LogisticRegression()</pre></div></div></div></div></div></div></div></div></div></div></div></div>"
      ],
      "text/plain": [
       "GridSearchCV(cv=5,\n",
       "             estimator=Pipeline(steps=[('tvec', TfidfVectorizer()),\n",
       "                                       ('lr', LogisticRegression())]),\n",
       "             param_grid={'tvec__max_df': [0.85, 0.9],\n",
       "                         'tvec__max_features': [1500, 3000, 5000],\n",
       "                         'tvec__min_df': [0.03, 0.05],\n",
       "                         'tvec__ngram_range': [(1, 1), (1, 2)]})"
      ]
     },
     "execution_count": 44,
     "metadata": {},
     "output_type": "execute_result"
    }
   ],
   "source": [
    "# Fit GridSearch to training data.\n",
    "gs_tv.fit(X_train, y_train)"
   ]
  },
  {
   "cell_type": "code",
   "execution_count": 45,
   "id": "f01e751d",
   "metadata": {},
   "outputs": [
    {
     "name": "stdout",
     "output_type": "stream",
     "text": [
      "0.8240232354579454\n"
     ]
    }
   ],
   "source": [
    "# best score\n",
    "# from cross validation\n",
    "print(gs_tv.best_score_)"
   ]
  },
  {
   "cell_type": "code",
   "execution_count": 46,
   "id": "1a5cbd35",
   "metadata": {},
   "outputs": [
    {
     "name": "stdout",
     "output_type": "stream",
     "text": [
      "{'tvec__max_df': 0.85, 'tvec__max_features': 1500, 'tvec__min_df': 0.03, 'tvec__ngram_range': (1, 2)}\n"
     ]
    }
   ],
   "source": [
    "# best parameters for TFIDVector\n",
    "print(gs_tv.best_params_)"
   ]
  },
  {
   "cell_type": "code",
   "execution_count": 47,
   "id": "b68a1320",
   "metadata": {},
   "outputs": [],
   "source": [
    "#grid search model after \n",
    "gs_model = gs_tv.best_estimator_"
   ]
  },
  {
   "cell_type": "code",
   "execution_count": 48,
   "id": "b14253ee",
   "metadata": {},
   "outputs": [
    {
     "name": "stdout",
     "output_type": "stream",
     "text": [
      "Pipeline(steps=[('tvec',\n",
      "                 TfidfVectorizer(max_df=0.85, max_features=1500, min_df=0.03,\n",
      "                                 ngram_range=(1, 2))),\n",
      "                ('lr', LogisticRegression())])\n"
     ]
    }
   ],
   "source": [
    "print(gs_model)"
   ]
  },
  {
   "cell_type": "code",
   "execution_count": 49,
   "id": "67129772",
   "metadata": {},
   "outputs": [
    {
     "data": {
      "text/plain": [
       "0.835307388606881"
      ]
     },
     "execution_count": 49,
     "metadata": {},
     "output_type": "execute_result"
    }
   ],
   "source": [
    "# Score model on train set.\n",
    "gs_model.score(X_train, y_train)"
   ]
  },
  {
   "cell_type": "code",
   "execution_count": 50,
   "id": "79042f59",
   "metadata": {},
   "outputs": [
    {
     "data": {
      "text/plain": [
       "0.7820945945945946"
      ]
     },
     "execution_count": 50,
     "metadata": {},
     "output_type": "execute_result"
    }
   ],
   "source": [
    "# Score model on test set.\n",
    "gs_model.score(X_test, y_test)"
   ]
  },
  {
   "cell_type": "markdown",
   "id": "56c6c634",
   "metadata": {},
   "source": [
    "## Train and Test Score Interpretation for Underfit/Overfit from Logistic Regression with Hypertuned TFIDFVectorizer\n",
    "____\n",
    "\n",
    "After implementing gridsearch and best parameter of {'tvec__max_df': 0.85, 'tvec__max_features': 1500, 'tvec__min_df': 0.03, 'tvec__ngram_range': (1, 2)}, the train score turns out to be 83 percent while the test score is 78 percent.\n",
    "\n",
    "Because the train score is higher than the test score, there is indication of overfitting. In other words, the model seems to be doing well in fitting the training data but is not generalizing well to new, unseen data.\n",
    "\n",
    "For next steps, the plan is to use the 10 common words to create my custom word list, as discovered by earlier exploratory data analysis, to observe if the model reduces overfitting and improve the test score."
   ]
  },
  {
   "cell_type": "code",
   "execution_count": 51,
   "id": "33839374",
   "metadata": {},
   "outputs": [],
   "source": [
    "# Get predictions\n",
    "preds = gs_model.predict(X_test)"
   ]
  },
  {
   "cell_type": "code",
   "execution_count": 52,
   "id": "81a5b6c7",
   "metadata": {},
   "outputs": [
    {
     "data": {
      "text/plain": [
       "0.7808845029239766"
      ]
     },
     "execution_count": 52,
     "metadata": {},
     "output_type": "execute_result"
    }
   ],
   "source": [
    "# ROC-AUC score of Logistic Regression with Hypertuned TFIDVectorizer \n",
    "roc_auc_score(y_test, preds)"
   ]
  },
  {
   "cell_type": "markdown",
   "id": "8ad49288",
   "metadata": {},
   "source": [
    "# ROC-AUC Score Interpretation of Logistic Regression with Hypertuned TFIDFVectorizer\n",
    "_______\n",
    "\n",
    "To summarize from the ROC-AUC score, the model is doing a decent job in differentiating between Showerthoughts and CasualConversation since its score is 0.78.\n"
   ]
  },
  {
   "cell_type": "code",
   "execution_count": 53,
   "id": "f9cbeaa1",
   "metadata": {},
   "outputs": [],
   "source": [
    "# Save confusion matrix values\n",
    "tn, fp, fn, tp = confusion_matrix(y_test, preds).ravel()"
   ]
  },
  {
   "cell_type": "code",
   "execution_count": 54,
   "id": "5dda2340",
   "metadata": {},
   "outputs": [
    {
     "data": {
      "image/png": "[encoded data removed]",
      "text/plain": [
       "<Figure size 640x480 with 2 Axes>"
      ]
     },
     "metadata": {},
     "output_type": "display_data"
    }
   ],
   "source": [
    "# View confusion matrix\n",
    "ConfusionMatrixDisplay.from_estimator(gs_model, X_test, y_test, cmap='Blues')\n",
    "\n",
    "# Get the axis of the plot\n",
    "ax = plt.gca()\n",
    "\n",
    "# Set the title\n",
    "ax.set_title('CM of Logistic Regression with Hypertuned TFIDVectorizer: 1')\n",
    "\n",
    "#save\n",
    "plt.savefig(\"Confusion Matrix of Logistic Regression with Hypertuned TFIDVectorizer.png\", dpi = 75);"
   ]
  },
  {
   "cell_type": "code",
   "execution_count": 119,
   "id": "b2233dc0",
   "metadata": {},
   "outputs": [],
   "source": [
    "# Generate a confusion matrix.\n",
    "def find_cm(y_test, preds):\n",
    "    tn, fp, fn, tp = confusion_matrix(y_test, preds).ravel()\n",
    "    \n",
    "    print(f\"TN: {tn}\\nFP: {fp}\\nFN: {fn}\\nTP: {tp}\")\n",
    "    \n",
    "    print(f\"Sensitivity: {tp/(tp+fn)}\\nSpecificity: {tn/(tn+fp)}\")"
   ]
  },
  {
   "cell_type": "code",
   "execution_count": 120,
   "id": "c47ff839",
   "metadata": {},
   "outputs": [
    {
     "name": "stdout",
     "output_type": "stream",
     "text": [
      "TN: 212\n",
      "FP: 76\n",
      "FN: 53\n",
      "TP: 251\n",
      "Sensitivity: 0.8256578947368421\n",
      "Specificity: 0.7361111111111112\n"
     ]
    }
   ],
   "source": [
    "find_cm(y_test, preds)"
   ]
  },
  {
   "cell_type": "markdown",
   "id": "c4be237a",
   "metadata": {},
   "source": [
    "### Confusion Matrix Interpretation from Logistic Regression Model with HyperTuned TFIDFVectorizer\n",
    "_____\n",
    "\n",
    "Showerthoughts as our target / positive outcome:\n",
    "\n",
    "* Our model has true negatives of 212 titles from Casual Conversations correctly classified\n",
    "* Our model has false positives of 76 titles from Showerthoughts incorrectly classified\n",
    "* Our model has false negatives of 53 titles from Casual Conversations incorrectly classified\n",
    "* Our model has true positives of 251 titles from Showerthoughts correctly classified\n",
    "\n",
    "* Our model has a sensitivity of roughly 0.83 with 251 of 304 titles from Showerthoughts correctly classified\n",
    "* Our model has a specificity of roughly 0.74 with 212 of 288 titles from Casual Conversations correctly classified\n",
    "\n",
    "Our model seems to perform better at identifying our positive class (Showerthoughts) than our negative class (CasualConversation)."
   ]
  },
  {
   "cell_type": "markdown",
   "id": "e5036280",
   "metadata": {},
   "source": [
    "# Bernoulli Model with Hypertuned CountVectorizer\n",
    "\n",
    "Hyperparameter setting for CountVectorizer with Bernoulli models after implementing gridsearch: 'cvec__max_df': 0.85, 'cvec__max_features': 1500, 'cvec__min_df': 0.03, 'cvec__ngram_range': (1, 2) \n",
    "_____"
   ]
  },
  {
   "cell_type": "code",
   "execution_count": 55,
   "id": "4326fbe2",
   "metadata": {},
   "outputs": [],
   "source": [
    "# creating our X and y\n",
    "X = casualconshower['title']\n",
    "y = casualconshower['subreddit']"
   ]
  },
  {
   "cell_type": "code",
   "execution_count": 56,
   "id": "f48611ad",
   "metadata": {},
   "outputs": [],
   "source": [
    "\n",
    "\n",
    "X_train, X_test, y_train, y_test = train_test_split(X,\n",
    "                                                    y,\n",
    "                                                    test_size=0.25,\n",
    "                                                    random_state=42,\n",
    "                                                    stratify=y)"
   ]
  },
  {
   "cell_type": "code",
   "execution_count": 57,
   "id": "38da75f8",
   "metadata": {},
   "outputs": [],
   "source": [
    "# Set a pipeline up with two stages:\n",
    "# 1. CountVectorizer (transformer)\n",
    "# 2. Bernoulli\n",
    "pipe = Pipeline([\n",
    "    ('cvec', CountVectorizer()),\n",
    "    ('bnb', BernoulliNB())\n",
    "])"
   ]
  },
  {
   "cell_type": "code",
   "execution_count": 58,
   "id": "22a5dd05",
   "metadata": {},
   "outputs": [],
   "source": [
    "# Search over the following values of hyperparameters:\n",
    "# Maximum number of features fit: 1500, 3000, 5000\n",
    "# Minimum number of documents needed to include token: 0.03, 0.05\n",
    "# Maximum number of documents needed to include token: 0.85, 0.9\n",
    "# ngram_range (1, 1), (1, 2)\n",
    "\n",
    "pipe_params = {'cvec__max_features' : [1500, 3000, 5000],\n",
    "              'cvec__min_df' : [0.03, 0.05],\n",
    "               'cvec__max_df': [0.85, 0.9],\n",
    "               'cvec__ngram_range' : [(1, 1), (1, 2)]\n",
    "              }"
   ]
  },
  {
   "cell_type": "code",
   "execution_count": 59,
   "id": "e36c3a73",
   "metadata": {},
   "outputs": [],
   "source": [
    "# Instantiate GridSearchCV.\n",
    "\n",
    "gs = GridSearchCV(pipe, # what object are we optimizing?\n",
    "                  param_grid=pipe_params, # what parameters values are we searching?\n",
    "                  cv = 5) # 5-fold cross-validation."
   ]
  },
  {
   "cell_type": "code",
   "execution_count": 60,
   "id": "936404d4",
   "metadata": {},
   "outputs": [
    {
     "data": {
      "text/html": [
       "<style>#sk-container-id-3 {color: black;}#sk-container-id-3 pre{padding: 0;}#sk-container-id-3 div.sk-toggleable {background-color: white;}#sk-container-id-3 label.sk-toggleable__label {cursor: pointer;display: block;width: 100%;margin-bottom: 0;padding: 0.3em;box-sizing: border-box;text-align: center;}#sk-container-id-3 label.sk-toggleable__label-arrow:before {content: \"▸\";float: left;margin-right: 0.25em;color: #696969;}#sk-container-id-3 label.sk-toggleable__label-arrow:hover:before {color: black;}#sk-container-id-3 div.sk-estimator:hover label.sk-toggleable__label-arrow:before {color: black;}#sk-container-id-3 div.sk-toggleable__content {max-height: 0;max-width: 0;overflow: hidden;text-align: left;background-color: #f0f8ff;}#sk-container-id-3 div.sk-toggleable__content pre {margin: 0.2em;color: black;border-radius: 0.25em;background-color: #f0f8ff;}#sk-container-id-3 input.sk-toggleable__control:checked~div.sk-toggleable__content {max-height: 200px;max-width: 100%;overflow: auto;}#sk-container-id-3 input.sk-toggleable__control:checked~label.sk-toggleable__label-arrow:before {content: \"▾\";}#sk-container-id-3 div.sk-estimator input.sk-toggleable__control:checked~label.sk-toggleable__label {background-color: #d4ebff;}#sk-container-id-3 div.sk-label input.sk-toggleable__control:checked~label.sk-toggleable__label {background-color: #d4ebff;}#sk-container-id-3 input.sk-hidden--visually {border: 0;clip: rect(1px 1px 1px 1px);clip: rect(1px, 1px, 1px, 1px);height: 1px;margin: -1px;overflow: hidden;padding: 0;position: absolute;width: 1px;}#sk-container-id-3 div.sk-estimator {font-family: monospace;background-color: #f0f8ff;border: 1px dotted black;border-radius: 0.25em;box-sizing: border-box;margin-bottom: 0.5em;}#sk-container-id-3 div.sk-estimator:hover {background-color: #d4ebff;}#sk-container-id-3 div.sk-parallel-item::after {content: \"\";width: 100%;border-bottom: 1px solid gray;flex-grow: 1;}#sk-container-id-3 div.sk-label:hover label.sk-toggleable__label {background-color: #d4ebff;}#sk-container-id-3 div.sk-serial::before {content: \"\";position: absolute;border-left: 1px solid gray;box-sizing: border-box;top: 0;bottom: 0;left: 50%;z-index: 0;}#sk-container-id-3 div.sk-serial {display: flex;flex-direction: column;align-items: center;background-color: white;padding-right: 0.2em;padding-left: 0.2em;position: relative;}#sk-container-id-3 div.sk-item {position: relative;z-index: 1;}#sk-container-id-3 div.sk-parallel {display: flex;align-items: stretch;justify-content: center;background-color: white;position: relative;}#sk-container-id-3 div.sk-item::before, #sk-container-id-3 div.sk-parallel-item::before {content: \"\";position: absolute;border-left: 1px solid gray;box-sizing: border-box;top: 0;bottom: 0;left: 50%;z-index: -1;}#sk-container-id-3 div.sk-parallel-item {display: flex;flex-direction: column;z-index: 1;position: relative;background-color: white;}#sk-container-id-3 div.sk-parallel-item:first-child::after {align-self: flex-end;width: 50%;}#sk-container-id-3 div.sk-parallel-item:last-child::after {align-self: flex-start;width: 50%;}#sk-container-id-3 div.sk-parallel-item:only-child::after {width: 0;}#sk-container-id-3 div.sk-dashed-wrapped {border: 1px dashed gray;margin: 0 0.4em 0.5em 0.4em;box-sizing: border-box;padding-bottom: 0.4em;background-color: white;}#sk-container-id-3 div.sk-label label {font-family: monospace;font-weight: bold;display: inline-block;line-height: 1.2em;}#sk-container-id-3 div.sk-label-container {text-align: center;}#sk-container-id-3 div.sk-container {/* jupyter's `normalize.less` sets `[hidden] { display: none; }` but bootstrap.min.css set `[hidden] { display: none !important; }` so we also need the `!important` here to be able to override the default hidden behavior on the sphinx rendered scikit-learn.org. See: https://github.com/scikit-learn/scikit-learn/issues/21755 */display: inline-block !important;position: relative;}#sk-container-id-3 div.sk-text-repr-fallback {display: none;}</style><div id=\"sk-container-id-3\" class=\"sk-top-container\"><div class=\"sk-text-repr-fallback\"><pre>GridSearchCV(cv=5,\n",
       "             estimator=Pipeline(steps=[(&#x27;cvec&#x27;, CountVectorizer()),\n",
       "                                       (&#x27;bnb&#x27;, BernoulliNB())]),\n",
       "             param_grid={&#x27;cvec__max_df&#x27;: [0.85, 0.9],\n",
       "                         &#x27;cvec__max_features&#x27;: [1500, 3000, 5000],\n",
       "                         &#x27;cvec__min_df&#x27;: [0.03, 0.05],\n",
       "                         &#x27;cvec__ngram_range&#x27;: [(1, 1), (1, 2)]})</pre><b>In a Jupyter environment, please rerun this cell to show the HTML representation or trust the notebook. <br />On GitHub, the HTML representation is unable to render, please try loading this page with nbviewer.org.</b></div><div class=\"sk-container\" hidden><div class=\"sk-item sk-dashed-wrapped\"><div class=\"sk-label-container\"><div class=\"sk-label sk-toggleable\"><input class=\"sk-toggleable__control sk-hidden--visually\" id=\"sk-estimator-id-9\" type=\"checkbox\" ><label for=\"sk-estimator-id-9\" class=\"sk-toggleable__label sk-toggleable__label-arrow\">GridSearchCV</label><div class=\"sk-toggleable__content\"><pre>GridSearchCV(cv=5,\n",
       "             estimator=Pipeline(steps=[(&#x27;cvec&#x27;, CountVectorizer()),\n",
       "                                       (&#x27;bnb&#x27;, BernoulliNB())]),\n",
       "             param_grid={&#x27;cvec__max_df&#x27;: [0.85, 0.9],\n",
       "                         &#x27;cvec__max_features&#x27;: [1500, 3000, 5000],\n",
       "                         &#x27;cvec__min_df&#x27;: [0.03, 0.05],\n",
       "                         &#x27;cvec__ngram_range&#x27;: [(1, 1), (1, 2)]})</pre></div></div></div><div class=\"sk-parallel\"><div class=\"sk-parallel-item\"><div class=\"sk-item\"><div class=\"sk-label-container\"><div class=\"sk-label sk-toggleable\"><input class=\"sk-toggleable__control sk-hidden--visually\" id=\"sk-estimator-id-10\" type=\"checkbox\" ><label for=\"sk-estimator-id-10\" class=\"sk-toggleable__label sk-toggleable__label-arrow\">estimator: Pipeline</label><div class=\"sk-toggleable__content\"><pre>Pipeline(steps=[(&#x27;cvec&#x27;, CountVectorizer()), (&#x27;bnb&#x27;, BernoulliNB())])</pre></div></div></div><div class=\"sk-serial\"><div class=\"sk-item\"><div class=\"sk-serial\"><div class=\"sk-item\"><div class=\"sk-estimator sk-toggleable\"><input class=\"sk-toggleable__control sk-hidden--visually\" id=\"sk-estimator-id-11\" type=\"checkbox\" ><label for=\"sk-estimator-id-11\" class=\"sk-toggleable__label sk-toggleable__label-arrow\">CountVectorizer</label><div class=\"sk-toggleable__content\"><pre>CountVectorizer()</pre></div></div></div><div class=\"sk-item\"><div class=\"sk-estimator sk-toggleable\"><input class=\"sk-toggleable__control sk-hidden--visually\" id=\"sk-estimator-id-12\" type=\"checkbox\" ><label for=\"sk-estimator-id-12\" class=\"sk-toggleable__label sk-toggleable__label-arrow\">BernoulliNB</label><div class=\"sk-toggleable__content\"><pre>BernoulliNB()</pre></div></div></div></div></div></div></div></div></div></div></div></div>"
      ],
      "text/plain": [
       "GridSearchCV(cv=5,\n",
       "             estimator=Pipeline(steps=[('cvec', CountVectorizer()),\n",
       "                                       ('bnb', BernoulliNB())]),\n",
       "             param_grid={'cvec__max_df': [0.85, 0.9],\n",
       "                         'cvec__max_features': [1500, 3000, 5000],\n",
       "                         'cvec__min_df': [0.03, 0.05],\n",
       "                         'cvec__ngram_range': [(1, 1), (1, 2)]})"
      ]
     },
     "execution_count": 60,
     "metadata": {},
     "output_type": "execute_result"
    }
   ],
   "source": [
    "# Fit our model!\n",
    "\n",
    "gs.fit(X_train, y_train)"
   ]
  },
  {
   "cell_type": "code",
   "execution_count": 61,
   "id": "c084b809",
   "metadata": {},
   "outputs": [
    {
     "name": "stdout",
     "output_type": "stream",
     "text": [
      "0.7935831940797325\n"
     ]
    }
   ],
   "source": [
    "# the best score\n",
    "# from cross validation\n",
    "print(gs.best_score_)"
   ]
  },
  {
   "cell_type": "code",
   "execution_count": 62,
   "id": "9cbd1785",
   "metadata": {},
   "outputs": [
    {
     "name": "stdout",
     "output_type": "stream",
     "text": [
      "{'cvec__max_df': 0.85, 'cvec__max_features': 1500, 'cvec__min_df': 0.03, 'cvec__ngram_range': (1, 2)}\n"
     ]
    }
   ],
   "source": [
    "# best parameters for COUNTVector\n",
    "print(gs.best_params_)"
   ]
  },
  {
   "cell_type": "code",
   "execution_count": 63,
   "id": "da8e0cc0",
   "metadata": {},
   "outputs": [],
   "source": [
    "gs_model = gs.best_estimator_"
   ]
  },
  {
   "cell_type": "code",
   "execution_count": 64,
   "id": "9295ff04",
   "metadata": {},
   "outputs": [
    {
     "name": "stdout",
     "output_type": "stream",
     "text": [
      "Pipeline(steps=[('cvec',\n",
      "                 CountVectorizer(max_df=0.85, max_features=1500, min_df=0.03,\n",
      "                                 ngram_range=(1, 2))),\n",
      "                ('bnb', BernoulliNB())])\n"
     ]
    }
   ],
   "source": [
    "print(gs_model)"
   ]
  },
  {
   "cell_type": "code",
   "execution_count": 65,
   "id": "b061d2b5",
   "metadata": {},
   "outputs": [
    {
     "data": {
      "text/plain": [
       "0.7958262831359278"
      ]
     },
     "execution_count": 65,
     "metadata": {},
     "output_type": "execute_result"
    }
   ],
   "source": [
    "# Score model on train set.\n",
    "gs_model.score(X_train, y_train)"
   ]
  },
  {
   "cell_type": "code",
   "execution_count": 66,
   "id": "e15e0a97",
   "metadata": {},
   "outputs": [
    {
     "data": {
      "text/plain": [
       "0.7533783783783784"
      ]
     },
     "execution_count": 66,
     "metadata": {},
     "output_type": "execute_result"
    }
   ],
   "source": [
    "# Score model on test set.\n",
    "gs_model.score(X_test, y_test)"
   ]
  },
  {
   "cell_type": "markdown",
   "id": "51cda526",
   "metadata": {},
   "source": [
    "## Train and Test Score Interpretation for Underfit/Overfit from Bernoulli Model with Hypertuned Countervectorizer\n",
    "____\n",
    "\n",
    "After utilizing gridsearch to find CountVectorizer's best parameters, here is the parameter: max_df=0.85, max_features=1500, min_df=0.03, ngram_range=(1, 2).  \n",
    "\n",
    "Because the train score of roughly 80 percent is slightly bigger than the test score of 75 percent, this suggests the model is slightly overfitting. In other words, the model is doing adequately in fitting the training data but it's slightly not generalizing well to new, unseen data.\n",
    "\n",
    "For next steps, the plan is to use the 10 common words to create my custom word list, as discovered by earlier exploratory data analysis, to observe if the model reduces overfitting and improve the test score."
   ]
  },
  {
   "cell_type": "code",
   "execution_count": 67,
   "id": "398ea6a4",
   "metadata": {},
   "outputs": [],
   "source": [
    "# Get predictions\n",
    "preds = gs_model.predict(X_test)"
   ]
  },
  {
   "cell_type": "code",
   "execution_count": 68,
   "id": "8a7234dd",
   "metadata": {},
   "outputs": [
    {
     "data": {
      "text/plain": [
       "0.7546600877192983"
      ]
     },
     "execution_count": 68,
     "metadata": {},
     "output_type": "execute_result"
    }
   ],
   "source": [
    "# ROC-AUC score of Bernoulli with Hypertuned CountVectorizer \n",
    "roc_auc_score(y_test, preds)"
   ]
  },
  {
   "cell_type": "markdown",
   "id": "4d359012",
   "metadata": {},
   "source": [
    "# ROC-AUC Plot and Score Interpretation of Bernoulli with Hypertuned COUNTVectorizer\n",
    "_______\n",
    "\n",
    "To summarize from the ROC-AUC score, 75 percent of the model is doing a decent job in differentiating between Showerthoughts and CasualConversation."
   ]
  },
  {
   "cell_type": "code",
   "execution_count": 69,
   "id": "21295100",
   "metadata": {},
   "outputs": [],
   "source": [
    "# Save confusion matrix values\n",
    "tn, fp, fn, tp = confusion_matrix(y_test, preds).ravel()"
   ]
  },
  {
   "cell_type": "code",
   "execution_count": 70,
   "id": "c4424e56",
   "metadata": {},
   "outputs": [
    {
     "data": {
      "image/png": "[encoded data removed]",
      "text/plain": [
       "<Figure size 640x480 with 2 Axes>"
      ]
     },
     "metadata": {},
     "output_type": "display_data"
    }
   ],
   "source": [
    "# View confusion matrix\n",
    "ConfusionMatrixDisplay.from_estimator(gs_model, X_test, y_test, cmap='Blues')\n",
    "\n",
    "# Get the axis of the plot\n",
    "ax = plt.gca()\n",
    "\n",
    "# Set the title\n",
    "ax.set_title('CM of Bernoulli with Hypertuned CountVectorizer: 1')\n",
    "\n",
    "#save\n",
    "plt.savefig(\"Confusion Matrix of Bernoulli with Hypertuned CountVectorizer.png\", dpi = 75);"
   ]
  },
  {
   "cell_type": "code",
   "execution_count": 98,
   "id": "a1a9c345",
   "metadata": {},
   "outputs": [],
   "source": [
    "# Generate a confusion matrix.\n",
    "def find_cm(y_test, preds):\n",
    "    tn, fp, fn, tp = confusion_matrix(y_test, preds).ravel()\n",
    "    \n",
    "    print(f\"TN: {tn}\\nFP: {fp}\\nFN: {fn}\\nTP: {tp}\")\n",
    "    \n",
    "    print(f\"Sensitivity: {tp/(tp+fn)}\\nSpecificity: {tn/(tn+fp)}\")"
   ]
  },
  {
   "cell_type": "code",
   "execution_count": 99,
   "id": "0ba545a0",
   "metadata": {},
   "outputs": [
    {
     "name": "stdout",
     "output_type": "stream",
     "text": [
      "TN: 231\n",
      "FP: 57\n",
      "FN: 89\n",
      "TP: 215\n",
      "Sensitivity: 0.7072368421052632\n",
      "Specificity: 0.8020833333333334\n"
     ]
    }
   ],
   "source": [
    "find_cm(y_test, preds)"
   ]
  },
  {
   "cell_type": "markdown",
   "id": "e7d4d1ec",
   "metadata": {},
   "source": [
    "### Confusion Matrix Interpretation from Bernoulli Model with Hypertuned CountVectorizer\n",
    "____\n",
    "\n",
    "Showerthoughts as our target / positive outcome:\n",
    "\n",
    "* Our model has true negatives of 231 titles from Casual Conversations correctly classified\n",
    "* Our model has false positives of 57 titles from Showerthoughts incorrectly classified\n",
    "* Our model has false negatives of 89 titles from Casual Conversations incorrectly classified\n",
    "* Our model has true positives of 215 titles from Showerthoughts correctly classified\n",
    "\n",
    "* Our model has a sensitivity of roughly 0.71 with 215 of 304 titles from Showerthoughts correctly classified\n",
    "* Our model has a specificity of 0.80 with 231 of 288 titles from Casual Conversations correctly classified\n",
    "\n",
    "Our model seems to perform better at identifying our negative class (CasualConversation) than our positive class (Showerthoughts)."
   ]
  },
  {
   "cell_type": "markdown",
   "id": "458ec2f8",
   "metadata": {},
   "source": [
    "# Multinomial Model with Hypertuned COUNTVectorizer\n",
    "_____\n",
    "\n",
    "hyperparameter setting for COUNTVectorizer after implementing gridsearch: 'cvec__max_df': 0.85, 'cvec__max_features': 1500, 'cvec__min_df': 0.03, 'cvec__ngram_range': (1, 2)"
   ]
  },
  {
   "cell_type": "code",
   "execution_count": 121,
   "id": "cddcdeeb",
   "metadata": {},
   "outputs": [],
   "source": [
    "# Set a pipeline up with two stages:\n",
    "# 1. CountVectorizer (transformer)\n",
    "# 2. Multinomial\n",
    "pipe = Pipeline([\n",
    "    ('cvec', CountVectorizer()),\n",
    "    ('multi', MultinomialNB())\n",
    "])"
   ]
  },
  {
   "cell_type": "code",
   "execution_count": 122,
   "id": "3d7ab390",
   "metadata": {},
   "outputs": [],
   "source": [
    "# Search over the following values of hyperparameters:\n",
    "# Maximum number of features fit: 2000, 3000, 4000, 5000\n",
    "# Minimum number of documents needed to include token: 2, 3\n",
    "# Maximum number of documents needed to include token: 90%, 95%\n",
    "# Check (individual tokens) and also check (individual tokens and 2-grams).\n",
    "\n",
    "pipe_params = {'cvec__max_features' : [1500, 3000, 5000],\n",
    "              'cvec__min_df' : [0.03, 0.05],\n",
    "               'cvec__max_df': [0.85, 0.9],\n",
    "               'cvec__ngram_range' : [(1, 1), (1, 2)]\n",
    "              }"
   ]
  },
  {
   "cell_type": "code",
   "execution_count": 123,
   "id": "6ea1fb5a",
   "metadata": {},
   "outputs": [],
   "source": [
    "# Instantiate GridSearchCV.\n",
    "\n",
    "gs = GridSearchCV(pipe, # what object are we optimizing?\n",
    "                  param_grid=pipe_params, # what parameters values are we searching?\n",
    "                  cv = 5) # 5-fold cross-validation."
   ]
  },
  {
   "cell_type": "code",
   "execution_count": 124,
   "id": "1741e502",
   "metadata": {},
   "outputs": [
    {
     "data": {
      "text/html": [
       "<style>#sk-container-id-5 {color: black;}#sk-container-id-5 pre{padding: 0;}#sk-container-id-5 div.sk-toggleable {background-color: white;}#sk-container-id-5 label.sk-toggleable__label {cursor: pointer;display: block;width: 100%;margin-bottom: 0;padding: 0.3em;box-sizing: border-box;text-align: center;}#sk-container-id-5 label.sk-toggleable__label-arrow:before {content: \"▸\";float: left;margin-right: 0.25em;color: #696969;}#sk-container-id-5 label.sk-toggleable__label-arrow:hover:before {color: black;}#sk-container-id-5 div.sk-estimator:hover label.sk-toggleable__label-arrow:before {color: black;}#sk-container-id-5 div.sk-toggleable__content {max-height: 0;max-width: 0;overflow: hidden;text-align: left;background-color: #f0f8ff;}#sk-container-id-5 div.sk-toggleable__content pre {margin: 0.2em;color: black;border-radius: 0.25em;background-color: #f0f8ff;}#sk-container-id-5 input.sk-toggleable__control:checked~div.sk-toggleable__content {max-height: 200px;max-width: 100%;overflow: auto;}#sk-container-id-5 input.sk-toggleable__control:checked~label.sk-toggleable__label-arrow:before {content: \"▾\";}#sk-container-id-5 div.sk-estimator input.sk-toggleable__control:checked~label.sk-toggleable__label {background-color: #d4ebff;}#sk-container-id-5 div.sk-label input.sk-toggleable__control:checked~label.sk-toggleable__label {background-color: #d4ebff;}#sk-container-id-5 input.sk-hidden--visually {border: 0;clip: rect(1px 1px 1px 1px);clip: rect(1px, 1px, 1px, 1px);height: 1px;margin: -1px;overflow: hidden;padding: 0;position: absolute;width: 1px;}#sk-container-id-5 div.sk-estimator {font-family: monospace;background-color: #f0f8ff;border: 1px dotted black;border-radius: 0.25em;box-sizing: border-box;margin-bottom: 0.5em;}#sk-container-id-5 div.sk-estimator:hover {background-color: #d4ebff;}#sk-container-id-5 div.sk-parallel-item::after {content: \"\";width: 100%;border-bottom: 1px solid gray;flex-grow: 1;}#sk-container-id-5 div.sk-label:hover label.sk-toggleable__label {background-color: #d4ebff;}#sk-container-id-5 div.sk-serial::before {content: \"\";position: absolute;border-left: 1px solid gray;box-sizing: border-box;top: 0;bottom: 0;left: 50%;z-index: 0;}#sk-container-id-5 div.sk-serial {display: flex;flex-direction: column;align-items: center;background-color: white;padding-right: 0.2em;padding-left: 0.2em;position: relative;}#sk-container-id-5 div.sk-item {position: relative;z-index: 1;}#sk-container-id-5 div.sk-parallel {display: flex;align-items: stretch;justify-content: center;background-color: white;position: relative;}#sk-container-id-5 div.sk-item::before, #sk-container-id-5 div.sk-parallel-item::before {content: \"\";position: absolute;border-left: 1px solid gray;box-sizing: border-box;top: 0;bottom: 0;left: 50%;z-index: -1;}#sk-container-id-5 div.sk-parallel-item {display: flex;flex-direction: column;z-index: 1;position: relative;background-color: white;}#sk-container-id-5 div.sk-parallel-item:first-child::after {align-self: flex-end;width: 50%;}#sk-container-id-5 div.sk-parallel-item:last-child::after {align-self: flex-start;width: 50%;}#sk-container-id-5 div.sk-parallel-item:only-child::after {width: 0;}#sk-container-id-5 div.sk-dashed-wrapped {border: 1px dashed gray;margin: 0 0.4em 0.5em 0.4em;box-sizing: border-box;padding-bottom: 0.4em;background-color: white;}#sk-container-id-5 div.sk-label label {font-family: monospace;font-weight: bold;display: inline-block;line-height: 1.2em;}#sk-container-id-5 div.sk-label-container {text-align: center;}#sk-container-id-5 div.sk-container {/* jupyter's `normalize.less` sets `[hidden] { display: none; }` but bootstrap.min.css set `[hidden] { display: none !important; }` so we also need the `!important` here to be able to override the default hidden behavior on the sphinx rendered scikit-learn.org. See: https://github.com/scikit-learn/scikit-learn/issues/21755 */display: inline-block !important;position: relative;}#sk-container-id-5 div.sk-text-repr-fallback {display: none;}</style><div id=\"sk-container-id-5\" class=\"sk-top-container\"><div class=\"sk-text-repr-fallback\"><pre>GridSearchCV(cv=5,\n",
       "             estimator=Pipeline(steps=[(&#x27;cvec&#x27;, CountVectorizer()),\n",
       "                                       (&#x27;multi&#x27;, MultinomialNB())]),\n",
       "             param_grid={&#x27;cvec__max_df&#x27;: [0.85, 0.9],\n",
       "                         &#x27;cvec__max_features&#x27;: [1500, 3000, 5000],\n",
       "                         &#x27;cvec__min_df&#x27;: [0.03, 0.05],\n",
       "                         &#x27;cvec__ngram_range&#x27;: [(1, 1), (1, 2)]})</pre><b>In a Jupyter environment, please rerun this cell to show the HTML representation or trust the notebook. <br />On GitHub, the HTML representation is unable to render, please try loading this page with nbviewer.org.</b></div><div class=\"sk-container\" hidden><div class=\"sk-item sk-dashed-wrapped\"><div class=\"sk-label-container\"><div class=\"sk-label sk-toggleable\"><input class=\"sk-toggleable__control sk-hidden--visually\" id=\"sk-estimator-id-17\" type=\"checkbox\" ><label for=\"sk-estimator-id-17\" class=\"sk-toggleable__label sk-toggleable__label-arrow\">GridSearchCV</label><div class=\"sk-toggleable__content\"><pre>GridSearchCV(cv=5,\n",
       "             estimator=Pipeline(steps=[(&#x27;cvec&#x27;, CountVectorizer()),\n",
       "                                       (&#x27;multi&#x27;, MultinomialNB())]),\n",
       "             param_grid={&#x27;cvec__max_df&#x27;: [0.85, 0.9],\n",
       "                         &#x27;cvec__max_features&#x27;: [1500, 3000, 5000],\n",
       "                         &#x27;cvec__min_df&#x27;: [0.03, 0.05],\n",
       "                         &#x27;cvec__ngram_range&#x27;: [(1, 1), (1, 2)]})</pre></div></div></div><div class=\"sk-parallel\"><div class=\"sk-parallel-item\"><div class=\"sk-item\"><div class=\"sk-label-container\"><div class=\"sk-label sk-toggleable\"><input class=\"sk-toggleable__control sk-hidden--visually\" id=\"sk-estimator-id-18\" type=\"checkbox\" ><label for=\"sk-estimator-id-18\" class=\"sk-toggleable__label sk-toggleable__label-arrow\">estimator: Pipeline</label><div class=\"sk-toggleable__content\"><pre>Pipeline(steps=[(&#x27;cvec&#x27;, CountVectorizer()), (&#x27;multi&#x27;, MultinomialNB())])</pre></div></div></div><div class=\"sk-serial\"><div class=\"sk-item\"><div class=\"sk-serial\"><div class=\"sk-item\"><div class=\"sk-estimator sk-toggleable\"><input class=\"sk-toggleable__control sk-hidden--visually\" id=\"sk-estimator-id-19\" type=\"checkbox\" ><label for=\"sk-estimator-id-19\" class=\"sk-toggleable__label sk-toggleable__label-arrow\">CountVectorizer</label><div class=\"sk-toggleable__content\"><pre>CountVectorizer()</pre></div></div></div><div class=\"sk-item\"><div class=\"sk-estimator sk-toggleable\"><input class=\"sk-toggleable__control sk-hidden--visually\" id=\"sk-estimator-id-20\" type=\"checkbox\" ><label for=\"sk-estimator-id-20\" class=\"sk-toggleable__label sk-toggleable__label-arrow\">MultinomialNB</label><div class=\"sk-toggleable__content\"><pre>MultinomialNB()</pre></div></div></div></div></div></div></div></div></div></div></div></div>"
      ],
      "text/plain": [
       "GridSearchCV(cv=5,\n",
       "             estimator=Pipeline(steps=[('cvec', CountVectorizer()),\n",
       "                                       ('multi', MultinomialNB())]),\n",
       "             param_grid={'cvec__max_df': [0.85, 0.9],\n",
       "                         'cvec__max_features': [1500, 3000, 5000],\n",
       "                         'cvec__min_df': [0.03, 0.05],\n",
       "                         'cvec__ngram_range': [(1, 1), (1, 2)]})"
      ]
     },
     "execution_count": 124,
     "metadata": {},
     "output_type": "execute_result"
    }
   ],
   "source": [
    "# Fit our model!\n",
    "\n",
    "gs.fit(X_train, y_train)"
   ]
  },
  {
   "cell_type": "code",
   "execution_count": 125,
   "id": "376e2932",
   "metadata": {},
   "outputs": [
    {
     "name": "stdout",
     "output_type": "stream",
     "text": [
      "0.7303795655287658\n"
     ]
    }
   ],
   "source": [
    "# the best score\n",
    "# from cross validation\n",
    "print(gs.best_score_)"
   ]
  },
  {
   "cell_type": "code",
   "execution_count": 126,
   "id": "3bc09fc5",
   "metadata": {},
   "outputs": [
    {
     "name": "stdout",
     "output_type": "stream",
     "text": [
      "{'cvec__max_df': 0.85, 'cvec__max_features': 1500, 'cvec__min_df': 0.03, 'cvec__ngram_range': (1, 2)}\n"
     ]
    }
   ],
   "source": [
    "# best parameters for COUNTVector\n",
    "print(gs.best_params_)"
   ]
  },
  {
   "cell_type": "code",
   "execution_count": 127,
   "id": "0ad77107",
   "metadata": {},
   "outputs": [],
   "source": [
    "gs_model = gs.best_estimator_"
   ]
  },
  {
   "cell_type": "code",
   "execution_count": 128,
   "id": "b25a1726",
   "metadata": {},
   "outputs": [
    {
     "name": "stdout",
     "output_type": "stream",
     "text": [
      "Pipeline(steps=[('cvec',\n",
      "                 CountVectorizer(max_df=0.85, max_features=1500, min_df=0.03,\n",
      "                                 ngram_range=(1, 2))),\n",
      "                ('multi', MultinomialNB())])\n"
     ]
    }
   ],
   "source": [
    "print(gs_model)"
   ]
  },
  {
   "cell_type": "code",
   "execution_count": 129,
   "id": "9d363c85",
   "metadata": {},
   "outputs": [
    {
     "data": {
      "text/plain": [
       "0.7360406091370558"
      ]
     },
     "execution_count": 129,
     "metadata": {},
     "output_type": "execute_result"
    }
   ],
   "source": [
    "# Score model on train set.\n",
    "gs_model.score(X_train, y_train)"
   ]
  },
  {
   "cell_type": "code",
   "execution_count": 130,
   "id": "5638f82c",
   "metadata": {},
   "outputs": [
    {
     "data": {
      "text/plain": [
       "0.7010135135135135"
      ]
     },
     "execution_count": 130,
     "metadata": {},
     "output_type": "execute_result"
    }
   ],
   "source": [
    "# Score model on test set.\n",
    "gs_model.score(X_test, y_test)"
   ]
  },
  {
   "cell_type": "markdown",
   "id": "85e617c2",
   "metadata": {},
   "source": [
    "## Train and Test Score Interpretation for Underfit/Overfit from Multinomial Model with Countervectorizer\n",
    "____\n",
    "\n",
    "After utilizing gridsearch to find CountVectorizer's best parameters, here is the parameter: max_df=0.85, max_features=1500, min_df=0.03, ngram_range=(1, 2). \n",
    "\n",
    "Because the train score of roughly 73 percent is slightly bigger than the test score of 70 percent, this suggests the model is slightly overfitting. In other words, the model is doing adequately in fitting the training data but it's slightly not generalizing well to new, unseen data. Compared to Bernoulli model, both of train and test performances from the Multinomial model dropped. \n",
    "\n",
    "For next steps, the plan is to use the 10 common words to create my custom word list, as discovered by earlier exploratory data analysis, to observe if the model reduces overfitting and improve the test score."
   ]
  },
  {
   "cell_type": "code",
   "execution_count": 131,
   "id": "09d9d15d",
   "metadata": {},
   "outputs": [],
   "source": [
    "# Get predictions\n",
    "preds = gs_model.predict(X_test)"
   ]
  },
  {
   "cell_type": "code",
   "execution_count": 133,
   "id": "75db2a68",
   "metadata": {},
   "outputs": [
    {
     "data": {
      "text/plain": [
       "0.6977339181286549"
      ]
     },
     "execution_count": 133,
     "metadata": {},
     "output_type": "execute_result"
    }
   ],
   "source": [
    "# ROC-AUC score of Multinomial with Hypertuned CountVectorizer \n",
    "roc_auc_score(y_test, preds)"
   ]
  },
  {
   "cell_type": "markdown",
   "id": "3a937d45",
   "metadata": {},
   "source": [
    "# ROC-AUC Score Interpretation of Multinomial with Hypertuned COUNTVectorizer\n",
    "_______\n",
    "\n",
    "To summarize from the ROC-AUC score, the model is doing a moderate job in differentiating between Showerthoughts and CasualConversation since its ROC-AUC score turns out to be 0.70."
   ]
  },
  {
   "cell_type": "code",
   "execution_count": 134,
   "id": "3078a1b4",
   "metadata": {},
   "outputs": [
    {
     "data": {
      "image/png": "[encoded data removed]",
      "text/plain": [
       "<Figure size 640x480 with 2 Axes>"
      ]
     },
     "metadata": {},
     "output_type": "display_data"
    }
   ],
   "source": [
    "# View confusion matrix\n",
    "ConfusionMatrixDisplay.from_estimator(gs_model, X_test, y_test, cmap='Blues')\n",
    "\n",
    "# Get the axis of the plot\n",
    "ax = plt.gca()\n",
    "\n",
    "# Set the title\n",
    "ax.set_title('Confusion Matrix of Multinomial with Hypertuned CountVectorizer');"
   ]
  },
  {
   "cell_type": "code",
   "execution_count": 135,
   "id": "61c8ea91",
   "metadata": {},
   "outputs": [],
   "source": [
    "# Generate a confusion matrix.\n",
    "def find_cm(y_test, preds):\n",
    "    tn, fp, fn, tp = confusion_matrix(y_test, preds).ravel()\n",
    "    \n",
    "    print(f\"TN: {tn}\\nFP: {fp}\\nFN: {fn}\\nTP: {tp}\")\n",
    "    \n",
    "    print(f\"Sensitivity: {tp/(tp+fn)}\\nSpecificity: {tn/(tn+fp)}\")"
   ]
  },
  {
   "cell_type": "code",
   "execution_count": 136,
   "id": "68b5c439",
   "metadata": {},
   "outputs": [
    {
     "name": "stdout",
     "output_type": "stream",
     "text": [
      "TN: 166\n",
      "FP: 122\n",
      "FN: 55\n",
      "TP: 249\n",
      "Sensitivity: 0.819078947368421\n",
      "Specificity: 0.5763888888888888\n"
     ]
    }
   ],
   "source": [
    "find_cm(y_test, preds)"
   ]
  },
  {
   "cell_type": "markdown",
   "id": "5075cb81",
   "metadata": {},
   "source": [
    "### Confusion Matrix Interpretation from Multinomial Model with Hypertuned CountVectorizer\n",
    "____\n",
    "\n",
    "Showerthoughts as our target / positive outcome:\n",
    "\n",
    "* Our model has true negatives of 166 titles from Casual Conversations correctly classified\n",
    "* Our model has false positives of 122 titles from Showerthoughts incorrectly classified\n",
    "* Our model has false negatives of 55 titles from Casual Conversations incorrectly classified\n",
    "* Our model has true positives of 249 titles from Showerthoughts correctly classified\n",
    "\n",
    "* Our model has a sensitivity of 0.81 with 249 of 304 titles from Showerthoughts correctly classified\n",
    "* Our model has a specificity of roughly 0.58 with 166 of 288 titles from Casual Conversations correctly classified\n",
    "\n",
    "Our model seems to perform better at identifying our positive class (Showerthoughts) than our negative class (Casual Conversation)."
   ]
  },
  {
   "cell_type": "markdown",
   "id": "fc358617",
   "metadata": {},
   "source": [
    "# Bernoulli Model with Hypertuned TFIDFVectorizer\n",
    "\n",
    "Hyperparameter setting for TFIDVectorizer after using gridsearch: 'tvec__max_df': 0.85, 'tvec__max_features': 1500, 'tvec__min_df': 0.03, 'tvec__ngram_range': (1, 2)\n",
    "_____"
   ]
  },
  {
   "cell_type": "code",
   "execution_count": 137,
   "id": "42b9b7c5",
   "metadata": {},
   "outputs": [],
   "source": [
    "# creating our X and y\n",
    "X = casualconshower['title']\n",
    "y = casualconshower['subreddit']"
   ]
  },
  {
   "cell_type": "code",
   "execution_count": 138,
   "id": "e8ae54ea",
   "metadata": {},
   "outputs": [],
   "source": [
    "X_train, X_test, y_train, y_test = train_test_split(X,\n",
    "                                                    y,\n",
    "                                                    test_size=0.25,\n",
    "                                                    random_state=42,\n",
    "                                                    stratify=y)"
   ]
  },
  {
   "cell_type": "code",
   "execution_count": 139,
   "id": "623274ef",
   "metadata": {},
   "outputs": [],
   "source": [
    "# Set a pipeline up with two stages:\n",
    "# 1. TfidfVectorizer (transformer)\n",
    "# 2. Bernoulli\n",
    "pipe = Pipeline([\n",
    "    ('tvec', TfidfVectorizer()),\n",
    "    ('bnb', BernoulliNB())\n",
    "])\n"
   ]
  },
  {
   "cell_type": "code",
   "execution_count": 140,
   "id": "5ebd9381",
   "metadata": {},
   "outputs": [],
   "source": [
    "# Search over the following values of hyperparameters:\n",
    "# Maximum number of features fit: 2000, 3000, 4000, 5000\n",
    "# Minimum number of documents needed to include token: 2, 3\n",
    "# Maximum number of documents needed to include token: 90%, 95%\n",
    "# Check (individual tokens) and also check (individual tokens and 2-grams).\n",
    "\n",
    "pipe_params = {'tvec__max_features' : [1500, 3000, 5000],\n",
    "              'tvec__min_df' : [0.03, 0.05],\n",
    "               'tvec__max_df': [0.85, 0.9],\n",
    "               'tvec__ngram_range' : [(1, 1), (1, 2)]\n",
    "              }"
   ]
  },
  {
   "cell_type": "code",
   "execution_count": 141,
   "id": "5e0a4363",
   "metadata": {},
   "outputs": [],
   "source": [
    "# Instantiate GridSearchCV.\n",
    "\n",
    "gs = GridSearchCV(pipe, # what object are we optimizing?\n",
    "                  param_grid=pipe_params, # what parameters values are we searching?\n",
    "                  cv = 5) # 5-fold cross-validation."
   ]
  },
  {
   "cell_type": "code",
   "execution_count": 142,
   "id": "91f90e06",
   "metadata": {},
   "outputs": [
    {
     "data": {
      "text/html": [
       "<style>#sk-container-id-6 {color: black;}#sk-container-id-6 pre{padding: 0;}#sk-container-id-6 div.sk-toggleable {background-color: white;}#sk-container-id-6 label.sk-toggleable__label {cursor: pointer;display: block;width: 100%;margin-bottom: 0;padding: 0.3em;box-sizing: border-box;text-align: center;}#sk-container-id-6 label.sk-toggleable__label-arrow:before {content: \"▸\";float: left;margin-right: 0.25em;color: #696969;}#sk-container-id-6 label.sk-toggleable__label-arrow:hover:before {color: black;}#sk-container-id-6 div.sk-estimator:hover label.sk-toggleable__label-arrow:before {color: black;}#sk-container-id-6 div.sk-toggleable__content {max-height: 0;max-width: 0;overflow: hidden;text-align: left;background-color: #f0f8ff;}#sk-container-id-6 div.sk-toggleable__content pre {margin: 0.2em;color: black;border-radius: 0.25em;background-color: #f0f8ff;}#sk-container-id-6 input.sk-toggleable__control:checked~div.sk-toggleable__content {max-height: 200px;max-width: 100%;overflow: auto;}#sk-container-id-6 input.sk-toggleable__control:checked~label.sk-toggleable__label-arrow:before {content: \"▾\";}#sk-container-id-6 div.sk-estimator input.sk-toggleable__control:checked~label.sk-toggleable__label {background-color: #d4ebff;}#sk-container-id-6 div.sk-label input.sk-toggleable__control:checked~label.sk-toggleable__label {background-color: #d4ebff;}#sk-container-id-6 input.sk-hidden--visually {border: 0;clip: rect(1px 1px 1px 1px);clip: rect(1px, 1px, 1px, 1px);height: 1px;margin: -1px;overflow: hidden;padding: 0;position: absolute;width: 1px;}#sk-container-id-6 div.sk-estimator {font-family: monospace;background-color: #f0f8ff;border: 1px dotted black;border-radius: 0.25em;box-sizing: border-box;margin-bottom: 0.5em;}#sk-container-id-6 div.sk-estimator:hover {background-color: #d4ebff;}#sk-container-id-6 div.sk-parallel-item::after {content: \"\";width: 100%;border-bottom: 1px solid gray;flex-grow: 1;}#sk-container-id-6 div.sk-label:hover label.sk-toggleable__label {background-color: #d4ebff;}#sk-container-id-6 div.sk-serial::before {content: \"\";position: absolute;border-left: 1px solid gray;box-sizing: border-box;top: 0;bottom: 0;left: 50%;z-index: 0;}#sk-container-id-6 div.sk-serial {display: flex;flex-direction: column;align-items: center;background-color: white;padding-right: 0.2em;padding-left: 0.2em;position: relative;}#sk-container-id-6 div.sk-item {position: relative;z-index: 1;}#sk-container-id-6 div.sk-parallel {display: flex;align-items: stretch;justify-content: center;background-color: white;position: relative;}#sk-container-id-6 div.sk-item::before, #sk-container-id-6 div.sk-parallel-item::before {content: \"\";position: absolute;border-left: 1px solid gray;box-sizing: border-box;top: 0;bottom: 0;left: 50%;z-index: -1;}#sk-container-id-6 div.sk-parallel-item {display: flex;flex-direction: column;z-index: 1;position: relative;background-color: white;}#sk-container-id-6 div.sk-parallel-item:first-child::after {align-self: flex-end;width: 50%;}#sk-container-id-6 div.sk-parallel-item:last-child::after {align-self: flex-start;width: 50%;}#sk-container-id-6 div.sk-parallel-item:only-child::after {width: 0;}#sk-container-id-6 div.sk-dashed-wrapped {border: 1px dashed gray;margin: 0 0.4em 0.5em 0.4em;box-sizing: border-box;padding-bottom: 0.4em;background-color: white;}#sk-container-id-6 div.sk-label label {font-family: monospace;font-weight: bold;display: inline-block;line-height: 1.2em;}#sk-container-id-6 div.sk-label-container {text-align: center;}#sk-container-id-6 div.sk-container {/* jupyter's `normalize.less` sets `[hidden] { display: none; }` but bootstrap.min.css set `[hidden] { display: none !important; }` so we also need the `!important` here to be able to override the default hidden behavior on the sphinx rendered scikit-learn.org. See: https://github.com/scikit-learn/scikit-learn/issues/21755 */display: inline-block !important;position: relative;}#sk-container-id-6 div.sk-text-repr-fallback {display: none;}</style><div id=\"sk-container-id-6\" class=\"sk-top-container\"><div class=\"sk-text-repr-fallback\"><pre>GridSearchCV(cv=5,\n",
       "             estimator=Pipeline(steps=[(&#x27;tvec&#x27;, TfidfVectorizer()),\n",
       "                                       (&#x27;bnb&#x27;, BernoulliNB())]),\n",
       "             param_grid={&#x27;tvec__max_df&#x27;: [0.85, 0.9],\n",
       "                         &#x27;tvec__max_features&#x27;: [1500, 3000, 5000],\n",
       "                         &#x27;tvec__min_df&#x27;: [0.03, 0.05],\n",
       "                         &#x27;tvec__ngram_range&#x27;: [(1, 1), (1, 2)]})</pre><b>In a Jupyter environment, please rerun this cell to show the HTML representation or trust the notebook. <br />On GitHub, the HTML representation is unable to render, please try loading this page with nbviewer.org.</b></div><div class=\"sk-container\" hidden><div class=\"sk-item sk-dashed-wrapped\"><div class=\"sk-label-container\"><div class=\"sk-label sk-toggleable\"><input class=\"sk-toggleable__control sk-hidden--visually\" id=\"sk-estimator-id-21\" type=\"checkbox\" ><label for=\"sk-estimator-id-21\" class=\"sk-toggleable__label sk-toggleable__label-arrow\">GridSearchCV</label><div class=\"sk-toggleable__content\"><pre>GridSearchCV(cv=5,\n",
       "             estimator=Pipeline(steps=[(&#x27;tvec&#x27;, TfidfVectorizer()),\n",
       "                                       (&#x27;bnb&#x27;, BernoulliNB())]),\n",
       "             param_grid={&#x27;tvec__max_df&#x27;: [0.85, 0.9],\n",
       "                         &#x27;tvec__max_features&#x27;: [1500, 3000, 5000],\n",
       "                         &#x27;tvec__min_df&#x27;: [0.03, 0.05],\n",
       "                         &#x27;tvec__ngram_range&#x27;: [(1, 1), (1, 2)]})</pre></div></div></div><div class=\"sk-parallel\"><div class=\"sk-parallel-item\"><div class=\"sk-item\"><div class=\"sk-label-container\"><div class=\"sk-label sk-toggleable\"><input class=\"sk-toggleable__control sk-hidden--visually\" id=\"sk-estimator-id-22\" type=\"checkbox\" ><label for=\"sk-estimator-id-22\" class=\"sk-toggleable__label sk-toggleable__label-arrow\">estimator: Pipeline</label><div class=\"sk-toggleable__content\"><pre>Pipeline(steps=[(&#x27;tvec&#x27;, TfidfVectorizer()), (&#x27;bnb&#x27;, BernoulliNB())])</pre></div></div></div><div class=\"sk-serial\"><div class=\"sk-item\"><div class=\"sk-serial\"><div class=\"sk-item\"><div class=\"sk-estimator sk-toggleable\"><input class=\"sk-toggleable__control sk-hidden--visually\" id=\"sk-estimator-id-23\" type=\"checkbox\" ><label for=\"sk-estimator-id-23\" class=\"sk-toggleable__label sk-toggleable__label-arrow\">TfidfVectorizer</label><div class=\"sk-toggleable__content\"><pre>TfidfVectorizer()</pre></div></div></div><div class=\"sk-item\"><div class=\"sk-estimator sk-toggleable\"><input class=\"sk-toggleable__control sk-hidden--visually\" id=\"sk-estimator-id-24\" type=\"checkbox\" ><label for=\"sk-estimator-id-24\" class=\"sk-toggleable__label sk-toggleable__label-arrow\">BernoulliNB</label><div class=\"sk-toggleable__content\"><pre>BernoulliNB()</pre></div></div></div></div></div></div></div></div></div></div></div></div>"
      ],
      "text/plain": [
       "GridSearchCV(cv=5,\n",
       "             estimator=Pipeline(steps=[('tvec', TfidfVectorizer()),\n",
       "                                       ('bnb', BernoulliNB())]),\n",
       "             param_grid={'tvec__max_df': [0.85, 0.9],\n",
       "                         'tvec__max_features': [1500, 3000, 5000],\n",
       "                         'tvec__min_df': [0.03, 0.05],\n",
       "                         'tvec__ngram_range': [(1, 1), (1, 2)]})"
      ]
     },
     "execution_count": 142,
     "metadata": {},
     "output_type": "execute_result"
    }
   ],
   "source": [
    "# Fit our model!\n",
    "\n",
    "gs.fit(X_train, y_train)"
   ]
  },
  {
   "cell_type": "code",
   "execution_count": 143,
   "id": "705cb07c",
   "metadata": {},
   "outputs": [
    {
     "name": "stdout",
     "output_type": "stream",
     "text": [
      "0.7935831940797325\n"
     ]
    }
   ],
   "source": [
    "# the best score\n",
    "# from cross validation\n",
    "print(gs.best_score_)"
   ]
  },
  {
   "cell_type": "code",
   "execution_count": 144,
   "id": "c9d99a89",
   "metadata": {},
   "outputs": [
    {
     "name": "stdout",
     "output_type": "stream",
     "text": [
      "{'tvec__max_df': 0.85, 'tvec__max_features': 1500, 'tvec__min_df': 0.03, 'tvec__ngram_range': (1, 2)}\n"
     ]
    }
   ],
   "source": [
    "# best parameters for TfidfVectorizer\n",
    "print(gs.best_params_)"
   ]
  },
  {
   "cell_type": "code",
   "execution_count": 145,
   "id": "7ea2e603",
   "metadata": {},
   "outputs": [],
   "source": [
    "gs_model = gs.best_estimator_"
   ]
  },
  {
   "cell_type": "code",
   "execution_count": 146,
   "id": "01d74cd4",
   "metadata": {},
   "outputs": [
    {
     "name": "stdout",
     "output_type": "stream",
     "text": [
      "Pipeline(steps=[('tvec',\n",
      "                 TfidfVectorizer(max_df=0.85, max_features=1500, min_df=0.03,\n",
      "                                 ngram_range=(1, 2))),\n",
      "                ('bnb', BernoulliNB())])\n"
     ]
    }
   ],
   "source": [
    "print(gs_model)"
   ]
  },
  {
   "cell_type": "code",
   "execution_count": 147,
   "id": "e30b882f",
   "metadata": {},
   "outputs": [
    {
     "data": {
      "text/plain": [
       "0.7958262831359278"
      ]
     },
     "execution_count": 147,
     "metadata": {},
     "output_type": "execute_result"
    }
   ],
   "source": [
    "# Score model on train set.\n",
    "gs_model.score(X_train, y_train)"
   ]
  },
  {
   "cell_type": "code",
   "execution_count": 148,
   "id": "95da45ea",
   "metadata": {},
   "outputs": [
    {
     "data": {
      "text/plain": [
       "0.7533783783783784"
      ]
     },
     "execution_count": 148,
     "metadata": {},
     "output_type": "execute_result"
    }
   ],
   "source": [
    "# Score model on test set.\n",
    "gs_model.score(X_test, y_test)"
   ]
  },
  {
   "cell_type": "markdown",
   "id": "99346947",
   "metadata": {},
   "source": [
    "## Train and Test Score Interpretation for Underfit/Overfit from Bernoulli Model with TFIDFVectorizer\n",
    "____\n",
    "\n",
    "After utilizing gridsearch to find TfidfVectorizer's best parameter, here is the parameter: max_df=0.85, max_features=1500, min_df=0.03, ngram_range=(1, 2). \n",
    "\n",
    "Because the train score of roughly 80 percent is slightly bigger than the test score of 75 percent, this suggests the model is overfitting. In other words, the model is doing adequately in fitting the training data but it's slightly not generalizing well to new, unseen data. \n",
    "\n",
    "For next steps, the plan is to use the 10 common words to create my custom word list, as discovered by earlier exploratory data analysis, to observe if the model reduces overfitting and improve the test score."
   ]
  },
  {
   "cell_type": "code",
   "execution_count": 149,
   "id": "8895895f",
   "metadata": {},
   "outputs": [],
   "source": [
    "# Get predictions\n",
    "preds = gs_model.predict(X_test)"
   ]
  },
  {
   "cell_type": "code",
   "execution_count": 151,
   "id": "5c3e5543",
   "metadata": {},
   "outputs": [
    {
     "data": {
      "text/plain": [
       "0.7546600877192983"
      ]
     },
     "execution_count": 151,
     "metadata": {},
     "output_type": "execute_result"
    }
   ],
   "source": [
    "# ROC-AUC score of Bernoulli with Hypertuned TfidfVectorizer \n",
    "roc_auc_score(y_test, preds)"
   ]
  },
  {
   "cell_type": "markdown",
   "id": "edcddcd7",
   "metadata": {},
   "source": [
    "# ROC-AUC Plot and Score Interpretation of Bernoulli with Hypertuned TfidfVectorizer\n",
    "_______\n",
    "\n",
    "To summarize from the ROC-AUC score, the model is doing a decent job in differentiating between Showerthoughts and CasualConversation since its ROC-AUC score turns out to be 0.75. "
   ]
  },
  {
   "cell_type": "code",
   "execution_count": 152,
   "id": "028bbcf3",
   "metadata": {},
   "outputs": [
    {
     "data": {
      "image/png": "[encoded data removed]",
      "text/plain": [
       "<Figure size 640x480 with 2 Axes>"
      ]
     },
     "metadata": {},
     "output_type": "display_data"
    }
   ],
   "source": [
    "# View confusion matrix\n",
    "ConfusionMatrixDisplay.from_estimator(gs_model, X_test, y_test, cmap='Blues')\n",
    "\n",
    "# Get the axis of the plot\n",
    "ax = plt.gca()\n",
    "\n",
    "# Set the title\n",
    "ax.set_title('Confusion Matrix of Bernoulli with Hypertuned TfidfVectorizer');"
   ]
  },
  {
   "cell_type": "code",
   "execution_count": 153,
   "id": "9294015d",
   "metadata": {},
   "outputs": [],
   "source": [
    "# Generate a confusion matrix.\n",
    "def find_cm(y_test, preds):\n",
    "    tn, fp, fn, tp = confusion_matrix(y_test, preds).ravel()\n",
    "    \n",
    "    print(f\"TN: {tn}\\nFP: {fp}\\nFN: {fn}\\nTP: {tp}\")\n",
    "    \n",
    "    print(f\"Sensitivity: {tp/(tp+fn)}\\nSpecificity: {tn/(tn+fp)}\")"
   ]
  },
  {
   "cell_type": "code",
   "execution_count": 154,
   "id": "3a115382",
   "metadata": {},
   "outputs": [
    {
     "name": "stdout",
     "output_type": "stream",
     "text": [
      "TN: 231\n",
      "FP: 57\n",
      "FN: 89\n",
      "TP: 215\n",
      "Sensitivity: 0.7072368421052632\n",
      "Specificity: 0.8020833333333334\n"
     ]
    }
   ],
   "source": [
    "find_cm(y_test, preds)"
   ]
  },
  {
   "cell_type": "markdown",
   "id": "5137e021",
   "metadata": {},
   "source": [
    "### Confusion Matrix Interpretation from Bernoulli Model with Hypertuned TFIDFVectorizer\n",
    "____\n",
    "\n",
    "Showerthoughts as our target / positive outcome:\n",
    "\n",
    "* Our model has true negatives of 231 titles from Casual Conversations correctly classified\n",
    "* Our model has false positives of 57 titles from Showerthoughts incorrectly classified\n",
    "* Our model has false negatives of 89 titles from Casual Conversations incorrectly classified\n",
    "* Our model has true positives of 251 titles from Showerthoughts correctly classified\n",
    "\n",
    "* Our model has a sensitivity of roughly 0.71 with 215 of 304 titles from Showerthoughts correctly classified\n",
    "* Our model has a specificity of 0.80 with 231 of 288 titles from Casual Conversations correctly classified\n",
    "\n",
    "Our model seems to perform better at identifying our negative class (CasualConversation) than our positive class (Showerthoughts)."
   ]
  },
  {
   "cell_type": "markdown",
   "id": "323a0ba7",
   "metadata": {},
   "source": [
    "# Multinomial Model with Hypertuned TFIDFVectorizer\n",
    "\n",
    "Hyperparameter setting for TFIDFVectorizer after using gridsearch: 'tvec__max_df': 0.85, 'tvec__max_features': 1500, 'tvec__min_df': 0.03, 'tvec__ngram_range': (1, 2)\n",
    "_____"
   ]
  },
  {
   "cell_type": "code",
   "execution_count": 71,
   "id": "fa0dcfa3",
   "metadata": {},
   "outputs": [],
   "source": [
    "# Set a pipeline up with two stages:\n",
    "# 1. CountVectorizer (transformer)\n",
    "# 2. Multinomial\n",
    "pipe = Pipeline([\n",
    "    ('tvec', TfidfVectorizer()),\n",
    "    ('multi', MultinomialNB())\n",
    "])\n"
   ]
  },
  {
   "cell_type": "code",
   "execution_count": 72,
   "id": "b667cb38",
   "metadata": {},
   "outputs": [],
   "source": [
    "# Search over the following values of hyperparameters:\n",
    "# Maximum number of features fit: 2000, 3000, 4000, 5000\n",
    "# Minimum number of documents needed to include token: 2, 3\n",
    "# Maximum number of documents needed to include token: 90%, 95%\n",
    "# Check (individual tokens) and also check (individual tokens and 2-grams).\n",
    "\n",
    "pipe_params = {'tvec__max_features' : [1500, 3000, 5000],\n",
    "              'tvec__min_df' : [0.03, 0.05],\n",
    "               'tvec__max_df': [0.85, 0.9],\n",
    "               'tvec__ngram_range' : [(1, 1), (1, 2)]\n",
    "              }"
   ]
  },
  {
   "cell_type": "code",
   "execution_count": 73,
   "id": "59840e3f",
   "metadata": {},
   "outputs": [],
   "source": [
    "# Instantiate GridSearchCV.\n",
    "\n",
    "gs = GridSearchCV(pipe, # what object are we optimizing?\n",
    "                  param_grid=pipe_params, # what parameters values are we searching?\n",
    "                  cv = 5) # 5-fold cross-validation."
   ]
  },
  {
   "cell_type": "code",
   "execution_count": 74,
   "id": "dc0d2f40",
   "metadata": {},
   "outputs": [
    {
     "data": {
      "text/html": [
       "<style>#sk-container-id-4 {color: black;}#sk-container-id-4 pre{padding: 0;}#sk-container-id-4 div.sk-toggleable {background-color: white;}#sk-container-id-4 label.sk-toggleable__label {cursor: pointer;display: block;width: 100%;margin-bottom: 0;padding: 0.3em;box-sizing: border-box;text-align: center;}#sk-container-id-4 label.sk-toggleable__label-arrow:before {content: \"▸\";float: left;margin-right: 0.25em;color: #696969;}#sk-container-id-4 label.sk-toggleable__label-arrow:hover:before {color: black;}#sk-container-id-4 div.sk-estimator:hover label.sk-toggleable__label-arrow:before {color: black;}#sk-container-id-4 div.sk-toggleable__content {max-height: 0;max-width: 0;overflow: hidden;text-align: left;background-color: #f0f8ff;}#sk-container-id-4 div.sk-toggleable__content pre {margin: 0.2em;color: black;border-radius: 0.25em;background-color: #f0f8ff;}#sk-container-id-4 input.sk-toggleable__control:checked~div.sk-toggleable__content {max-height: 200px;max-width: 100%;overflow: auto;}#sk-container-id-4 input.sk-toggleable__control:checked~label.sk-toggleable__label-arrow:before {content: \"▾\";}#sk-container-id-4 div.sk-estimator input.sk-toggleable__control:checked~label.sk-toggleable__label {background-color: #d4ebff;}#sk-container-id-4 div.sk-label input.sk-toggleable__control:checked~label.sk-toggleable__label {background-color: #d4ebff;}#sk-container-id-4 input.sk-hidden--visually {border: 0;clip: rect(1px 1px 1px 1px);clip: rect(1px, 1px, 1px, 1px);height: 1px;margin: -1px;overflow: hidden;padding: 0;position: absolute;width: 1px;}#sk-container-id-4 div.sk-estimator {font-family: monospace;background-color: #f0f8ff;border: 1px dotted black;border-radius: 0.25em;box-sizing: border-box;margin-bottom: 0.5em;}#sk-container-id-4 div.sk-estimator:hover {background-color: #d4ebff;}#sk-container-id-4 div.sk-parallel-item::after {content: \"\";width: 100%;border-bottom: 1px solid gray;flex-grow: 1;}#sk-container-id-4 div.sk-label:hover label.sk-toggleable__label {background-color: #d4ebff;}#sk-container-id-4 div.sk-serial::before {content: \"\";position: absolute;border-left: 1px solid gray;box-sizing: border-box;top: 0;bottom: 0;left: 50%;z-index: 0;}#sk-container-id-4 div.sk-serial {display: flex;flex-direction: column;align-items: center;background-color: white;padding-right: 0.2em;padding-left: 0.2em;position: relative;}#sk-container-id-4 div.sk-item {position: relative;z-index: 1;}#sk-container-id-4 div.sk-parallel {display: flex;align-items: stretch;justify-content: center;background-color: white;position: relative;}#sk-container-id-4 div.sk-item::before, #sk-container-id-4 div.sk-parallel-item::before {content: \"\";position: absolute;border-left: 1px solid gray;box-sizing: border-box;top: 0;bottom: 0;left: 50%;z-index: -1;}#sk-container-id-4 div.sk-parallel-item {display: flex;flex-direction: column;z-index: 1;position: relative;background-color: white;}#sk-container-id-4 div.sk-parallel-item:first-child::after {align-self: flex-end;width: 50%;}#sk-container-id-4 div.sk-parallel-item:last-child::after {align-self: flex-start;width: 50%;}#sk-container-id-4 div.sk-parallel-item:only-child::after {width: 0;}#sk-container-id-4 div.sk-dashed-wrapped {border: 1px dashed gray;margin: 0 0.4em 0.5em 0.4em;box-sizing: border-box;padding-bottom: 0.4em;background-color: white;}#sk-container-id-4 div.sk-label label {font-family: monospace;font-weight: bold;display: inline-block;line-height: 1.2em;}#sk-container-id-4 div.sk-label-container {text-align: center;}#sk-container-id-4 div.sk-container {/* jupyter's `normalize.less` sets `[hidden] { display: none; }` but bootstrap.min.css set `[hidden] { display: none !important; }` so we also need the `!important` here to be able to override the default hidden behavior on the sphinx rendered scikit-learn.org. See: https://github.com/scikit-learn/scikit-learn/issues/21755 */display: inline-block !important;position: relative;}#sk-container-id-4 div.sk-text-repr-fallback {display: none;}</style><div id=\"sk-container-id-4\" class=\"sk-top-container\"><div class=\"sk-text-repr-fallback\"><pre>GridSearchCV(cv=5,\n",
       "             estimator=Pipeline(steps=[(&#x27;tvec&#x27;, TfidfVectorizer()),\n",
       "                                       (&#x27;multi&#x27;, MultinomialNB())]),\n",
       "             param_grid={&#x27;tvec__max_df&#x27;: [0.85, 0.9],\n",
       "                         &#x27;tvec__max_features&#x27;: [1500, 3000, 5000],\n",
       "                         &#x27;tvec__min_df&#x27;: [0.03, 0.05],\n",
       "                         &#x27;tvec__ngram_range&#x27;: [(1, 1), (1, 2)]})</pre><b>In a Jupyter environment, please rerun this cell to show the HTML representation or trust the notebook. <br />On GitHub, the HTML representation is unable to render, please try loading this page with nbviewer.org.</b></div><div class=\"sk-container\" hidden><div class=\"sk-item sk-dashed-wrapped\"><div class=\"sk-label-container\"><div class=\"sk-label sk-toggleable\"><input class=\"sk-toggleable__control sk-hidden--visually\" id=\"sk-estimator-id-13\" type=\"checkbox\" ><label for=\"sk-estimator-id-13\" class=\"sk-toggleable__label sk-toggleable__label-arrow\">GridSearchCV</label><div class=\"sk-toggleable__content\"><pre>GridSearchCV(cv=5,\n",
       "             estimator=Pipeline(steps=[(&#x27;tvec&#x27;, TfidfVectorizer()),\n",
       "                                       (&#x27;multi&#x27;, MultinomialNB())]),\n",
       "             param_grid={&#x27;tvec__max_df&#x27;: [0.85, 0.9],\n",
       "                         &#x27;tvec__max_features&#x27;: [1500, 3000, 5000],\n",
       "                         &#x27;tvec__min_df&#x27;: [0.03, 0.05],\n",
       "                         &#x27;tvec__ngram_range&#x27;: [(1, 1), (1, 2)]})</pre></div></div></div><div class=\"sk-parallel\"><div class=\"sk-parallel-item\"><div class=\"sk-item\"><div class=\"sk-label-container\"><div class=\"sk-label sk-toggleable\"><input class=\"sk-toggleable__control sk-hidden--visually\" id=\"sk-estimator-id-14\" type=\"checkbox\" ><label for=\"sk-estimator-id-14\" class=\"sk-toggleable__label sk-toggleable__label-arrow\">estimator: Pipeline</label><div class=\"sk-toggleable__content\"><pre>Pipeline(steps=[(&#x27;tvec&#x27;, TfidfVectorizer()), (&#x27;multi&#x27;, MultinomialNB())])</pre></div></div></div><div class=\"sk-serial\"><div class=\"sk-item\"><div class=\"sk-serial\"><div class=\"sk-item\"><div class=\"sk-estimator sk-toggleable\"><input class=\"sk-toggleable__control sk-hidden--visually\" id=\"sk-estimator-id-15\" type=\"checkbox\" ><label for=\"sk-estimator-id-15\" class=\"sk-toggleable__label sk-toggleable__label-arrow\">TfidfVectorizer</label><div class=\"sk-toggleable__content\"><pre>TfidfVectorizer()</pre></div></div></div><div class=\"sk-item\"><div class=\"sk-estimator sk-toggleable\"><input class=\"sk-toggleable__control sk-hidden--visually\" id=\"sk-estimator-id-16\" type=\"checkbox\" ><label for=\"sk-estimator-id-16\" class=\"sk-toggleable__label sk-toggleable__label-arrow\">MultinomialNB</label><div class=\"sk-toggleable__content\"><pre>MultinomialNB()</pre></div></div></div></div></div></div></div></div></div></div></div></div>"
      ],
      "text/plain": [
       "GridSearchCV(cv=5,\n",
       "             estimator=Pipeline(steps=[('tvec', TfidfVectorizer()),\n",
       "                                       ('multi', MultinomialNB())]),\n",
       "             param_grid={'tvec__max_df': [0.85, 0.9],\n",
       "                         'tvec__max_features': [1500, 3000, 5000],\n",
       "                         'tvec__min_df': [0.03, 0.05],\n",
       "                         'tvec__ngram_range': [(1, 1), (1, 2)]})"
      ]
     },
     "execution_count": 74,
     "metadata": {},
     "output_type": "execute_result"
    }
   ],
   "source": [
    "# Fit our model!\n",
    "\n",
    "gs.fit(X_train, y_train)"
   ]
  },
  {
   "cell_type": "code",
   "execution_count": 75,
   "id": "6eae56a3",
   "metadata": {},
   "outputs": [
    {
     "name": "stdout",
     "output_type": "stream",
     "text": [
      "0.7382589321238163\n"
     ]
    }
   ],
   "source": [
    "# the best score\n",
    "# from cross validation\n",
    "print(gs.best_score_)"
   ]
  },
  {
   "cell_type": "code",
   "execution_count": 76,
   "id": "0da6b3a2",
   "metadata": {},
   "outputs": [
    {
     "name": "stdout",
     "output_type": "stream",
     "text": [
      "{'tvec__max_df': 0.85, 'tvec__max_features': 1500, 'tvec__min_df': 0.03, 'tvec__ngram_range': (1, 2)}\n"
     ]
    }
   ],
   "source": [
    "# best parameters for TfidfVectorizer\n",
    "print(gs.best_params_)"
   ]
  },
  {
   "cell_type": "code",
   "execution_count": 77,
   "id": "81292ab7",
   "metadata": {},
   "outputs": [],
   "source": [
    "gs_model = gs.best_estimator_"
   ]
  },
  {
   "cell_type": "code",
   "execution_count": 78,
   "id": "5cfc8779",
   "metadata": {},
   "outputs": [
    {
     "name": "stdout",
     "output_type": "stream",
     "text": [
      "Pipeline(steps=[('tvec',\n",
      "                 TfidfVectorizer(max_df=0.85, max_features=1500, min_df=0.03,\n",
      "                                 ngram_range=(1, 2))),\n",
      "                ('multi', MultinomialNB())])\n"
     ]
    }
   ],
   "source": [
    "print(gs_model)"
   ]
  },
  {
   "cell_type": "code",
   "execution_count": 79,
   "id": "346d0a41",
   "metadata": {},
   "outputs": [
    {
     "data": {
      "text/plain": [
       "0.7422447828539199"
      ]
     },
     "execution_count": 79,
     "metadata": {},
     "output_type": "execute_result"
    }
   ],
   "source": [
    "# Score model on train set.\n",
    "gs_model.score(X_train, y_train)"
   ]
  },
  {
   "cell_type": "code",
   "execution_count": 80,
   "id": "56b6b0d0",
   "metadata": {},
   "outputs": [
    {
     "data": {
      "text/plain": [
       "0.6959459459459459"
      ]
     },
     "execution_count": 80,
     "metadata": {},
     "output_type": "execute_result"
    }
   ],
   "source": [
    "# Score model on test set.\n",
    "gs_model.score(X_test, y_test)"
   ]
  },
  {
   "cell_type": "markdown",
   "id": "f104a188",
   "metadata": {},
   "source": [
    "## Train and Test Score Interpretation for Underfit/Overfit from Multinomial Model with TFIDFVectorizer\n",
    "____\n",
    "\n",
    "After utilizing gridsearch to find TfidfVectorizer's best parameter, here is the parameter: max_df=0.85, max_features=1500, min_df=0.03, ngram_range=(1, 2).\n",
    "\n",
    "Because the train score of 74 percent is slightly bigger than the test score of roughly 70 percent, this suggests the model is slightly overfitting. In other words, the model is decently performing in fitting the training data but it's slightly not generalizing well to new, unseen data.\n",
    "\n",
    "For next steps, the plan is to use the 10 common words to create my custom word list, as discovered by earlier exploratory data analysis, to observe if the model reduces overfitting and improve the test score."
   ]
  },
  {
   "cell_type": "code",
   "execution_count": 81,
   "id": "dcb8ea34",
   "metadata": {},
   "outputs": [],
   "source": [
    "# Get predictions\n",
    "preds = gs_model.predict(X_test)"
   ]
  },
  {
   "cell_type": "code",
   "execution_count": 82,
   "id": "67ac9463",
   "metadata": {},
   "outputs": [
    {
     "data": {
      "text/plain": [
       "0.6921600877192982"
      ]
     },
     "execution_count": 82,
     "metadata": {},
     "output_type": "execute_result"
    }
   ],
   "source": [
    "# ROC-AUC score of Multinomial with Hypertuned TfidfVectorizer \n",
    "roc_auc_score(y_test, preds)"
   ]
  },
  {
   "cell_type": "markdown",
   "id": "9cc51710",
   "metadata": {},
   "source": [
    "# ROC-AUC Score Interpretation of Multinomial with Hypertuned TfidfVectorizer\n",
    "_______\n",
    "\n",
    "To summarize from the ROC-AUC score, the model is doing a moderate job in differentiating between Showerthoughts and CasualConversation since its ROC-AUC score turns out to be 0.69. "
   ]
  },
  {
   "cell_type": "code",
   "execution_count": 83,
   "id": "a74a68d9",
   "metadata": {},
   "outputs": [
    {
     "data": {
      "image/png": "[encoded data removed]",
      "text/plain": [
       "<Figure size 640x480 with 2 Axes>"
      ]
     },
     "metadata": {},
     "output_type": "display_data"
    }
   ],
   "source": [
    "# View confusion matrix\n",
    "ConfusionMatrixDisplay.from_estimator(gs_model, X_test, y_test, cmap='Blues')\n",
    "\n",
    "# Get the axis of the plot\n",
    "ax = plt.gca()\n",
    "\n",
    "# Set the title\n",
    "ax.set_title('CM of Multinomial with Hypertuned TfidfVectorizer: 1')\n",
    "\n",
    "#save\n",
    "plt.savefig(\"Confusion Matrix of Multinomial with Hypertuned TfidfVectorizer.png\", dpi = 75);"
   ]
  },
  {
   "cell_type": "code",
   "execution_count": 169,
   "id": "d40e69ca",
   "metadata": {},
   "outputs": [],
   "source": [
    "# Generate a confusion matrix.\n",
    "def find_cm(y_test, preds):\n",
    "    tn, fp, fn, tp = confusion_matrix(y_test, preds).ravel()\n",
    "    \n",
    "    print(f\"TN: {tn}\\nFP: {fp}\\nFN: {fn}\\nTP: {tp}\")\n",
    "    \n",
    "    print(f\"Sensitivity: {tp/(tp+fn)}\\nSpecificity: {tn/(tn+fp)}\")"
   ]
  },
  {
   "cell_type": "code",
   "execution_count": 170,
   "id": "76c4d176",
   "metadata": {},
   "outputs": [
    {
     "name": "stdout",
     "output_type": "stream",
     "text": [
      "TN: 159\n",
      "FP: 129\n",
      "FN: 51\n",
      "TP: 253\n",
      "Sensitivity: 0.8322368421052632\n",
      "Specificity: 0.5520833333333334\n"
     ]
    }
   ],
   "source": [
    "find_cm(y_test, preds)"
   ]
  },
  {
   "cell_type": "markdown",
   "id": "01aa22ba",
   "metadata": {},
   "source": [
    "### Confusion Matrix Interpretation from Multinomial Model with TFIDFVectorizer\n",
    "____\n",
    "\n",
    "Showerthoughts as our target / positive outcome:\n",
    "\n",
    "* Our model has true negatives of 159 titles from Casual Conversations correctly classified\n",
    "* Our model has false positives of 129 titles from Showerthoughts incorrectly classified\n",
    "* Our model has false negatives of 51 titles from Casual Conversations incorrectly classified\n",
    "* Our model has true positives of 253 titles from Showerthoughts correctly classified\n",
    "\n",
    "* Our model has a sensitivity of 0.83 with 253 of 304 titles from Showerthoughts correctly classified\n",
    "* Our model has a specificity of 0.55 with 159 of 288 titles from Casual Conversations correctly classified\n",
    "\n",
    "\n",
    "Our model seems to perform better at identifying our positive class (Showerthoughts) than our negative class (CasualConversation).\n"
   ]
  },
  {
   "cell_type": "markdown",
   "id": "77c7cece",
   "metadata": {},
   "source": [
    "# Random Forest Model with Hypertuned CountVectorizer\n",
    "\n",
    "With gridsearch to find the best parameter for CountVecotrizer, here it is: 'cvec__max_df': 0.9, 'cvec__max_features': 3000, 'cvec__min_df': 0.03, 'cvec__ngram_range': (1, 2) \n",
    "______"
   ]
  },
  {
   "cell_type": "code",
   "execution_count": 84,
   "id": "266f6c3c",
   "metadata": {},
   "outputs": [],
   "source": [
    "# creating our X and y\n",
    "X = casualconshower['title']\n",
    "y = casualconshower['subreddit']"
   ]
  },
  {
   "cell_type": "code",
   "execution_count": 85,
   "id": "d496653a",
   "metadata": {},
   "outputs": [],
   "source": [
    "X_train, X_test, y_train, y_test = train_test_split(X,\n",
    "                                                    y,\n",
    "                                                    test_size=0.25,\n",
    "                                                    random_state=42,\n",
    "                                                    stratify=y)"
   ]
  },
  {
   "cell_type": "code",
   "execution_count": 86,
   "id": "8de8addb",
   "metadata": {},
   "outputs": [],
   "source": [
    "# Set a pipeline up with two stages:\n",
    "# 1. CountVectorizer (transformer)\n",
    "# 2. RandomForestClassifier\n",
    "pipe = Pipeline([\n",
    "    ('cvec', CountVectorizer()),\n",
    "    ('rf', RandomForestClassifier())\n",
    "])"
   ]
  },
  {
   "cell_type": "code",
   "execution_count": 87,
   "id": "000a87f3",
   "metadata": {},
   "outputs": [],
   "source": [
    "# Search over the following values of hyperparameters:\n",
    "# Maximum number of features fit: 1500, 3000, 5000\n",
    "# Minimum number of documents needed to include token: 0.03, 0.05\n",
    "# Maximum number of documents needed to include token: 0.85, 0.9\n",
    "# ngram_range (1, 1), (1, 2)\n",
    "\n",
    "pipe_params = {'cvec__max_features' : [1500, 3000, 5000],\n",
    "              'cvec__min_df' : [0.03, 0.05],\n",
    "               'cvec__max_df': [0.85, 0.9],\n",
    "               'cvec__ngram_range' : [(1, 1), (1, 2)]\n",
    "              }"
   ]
  },
  {
   "cell_type": "code",
   "execution_count": 88,
   "id": "db7bf7e7",
   "metadata": {},
   "outputs": [],
   "source": [
    "# Instantiate GridSearchCV.\n",
    "\n",
    "gs = GridSearchCV(pipe, # what object are we optimizing?\n",
    "                  param_grid=pipe_params, # what parameters values are we searching?\n",
    "                  cv = 5) # 5-fold cross-validation."
   ]
  },
  {
   "cell_type": "code",
   "execution_count": 89,
   "id": "8b3bd397",
   "metadata": {},
   "outputs": [
    {
     "data": {
      "text/html": [
       "<style>#sk-container-id-5 {color: black;}#sk-container-id-5 pre{padding: 0;}#sk-container-id-5 div.sk-toggleable {background-color: white;}#sk-container-id-5 label.sk-toggleable__label {cursor: pointer;display: block;width: 100%;margin-bottom: 0;padding: 0.3em;box-sizing: border-box;text-align: center;}#sk-container-id-5 label.sk-toggleable__label-arrow:before {content: \"▸\";float: left;margin-right: 0.25em;color: #696969;}#sk-container-id-5 label.sk-toggleable__label-arrow:hover:before {color: black;}#sk-container-id-5 div.sk-estimator:hover label.sk-toggleable__label-arrow:before {color: black;}#sk-container-id-5 div.sk-toggleable__content {max-height: 0;max-width: 0;overflow: hidden;text-align: left;background-color: #f0f8ff;}#sk-container-id-5 div.sk-toggleable__content pre {margin: 0.2em;color: black;border-radius: 0.25em;background-color: #f0f8ff;}#sk-container-id-5 input.sk-toggleable__control:checked~div.sk-toggleable__content {max-height: 200px;max-width: 100%;overflow: auto;}#sk-container-id-5 input.sk-toggleable__control:checked~label.sk-toggleable__label-arrow:before {content: \"▾\";}#sk-container-id-5 div.sk-estimator input.sk-toggleable__control:checked~label.sk-toggleable__label {background-color: #d4ebff;}#sk-container-id-5 div.sk-label input.sk-toggleable__control:checked~label.sk-toggleable__label {background-color: #d4ebff;}#sk-container-id-5 input.sk-hidden--visually {border: 0;clip: rect(1px 1px 1px 1px);clip: rect(1px, 1px, 1px, 1px);height: 1px;margin: -1px;overflow: hidden;padding: 0;position: absolute;width: 1px;}#sk-container-id-5 div.sk-estimator {font-family: monospace;background-color: #f0f8ff;border: 1px dotted black;border-radius: 0.25em;box-sizing: border-box;margin-bottom: 0.5em;}#sk-container-id-5 div.sk-estimator:hover {background-color: #d4ebff;}#sk-container-id-5 div.sk-parallel-item::after {content: \"\";width: 100%;border-bottom: 1px solid gray;flex-grow: 1;}#sk-container-id-5 div.sk-label:hover label.sk-toggleable__label {background-color: #d4ebff;}#sk-container-id-5 div.sk-serial::before {content: \"\";position: absolute;border-left: 1px solid gray;box-sizing: border-box;top: 0;bottom: 0;left: 50%;z-index: 0;}#sk-container-id-5 div.sk-serial {display: flex;flex-direction: column;align-items: center;background-color: white;padding-right: 0.2em;padding-left: 0.2em;position: relative;}#sk-container-id-5 div.sk-item {position: relative;z-index: 1;}#sk-container-id-5 div.sk-parallel {display: flex;align-items: stretch;justify-content: center;background-color: white;position: relative;}#sk-container-id-5 div.sk-item::before, #sk-container-id-5 div.sk-parallel-item::before {content: \"\";position: absolute;border-left: 1px solid gray;box-sizing: border-box;top: 0;bottom: 0;left: 50%;z-index: -1;}#sk-container-id-5 div.sk-parallel-item {display: flex;flex-direction: column;z-index: 1;position: relative;background-color: white;}#sk-container-id-5 div.sk-parallel-item:first-child::after {align-self: flex-end;width: 50%;}#sk-container-id-5 div.sk-parallel-item:last-child::after {align-self: flex-start;width: 50%;}#sk-container-id-5 div.sk-parallel-item:only-child::after {width: 0;}#sk-container-id-5 div.sk-dashed-wrapped {border: 1px dashed gray;margin: 0 0.4em 0.5em 0.4em;box-sizing: border-box;padding-bottom: 0.4em;background-color: white;}#sk-container-id-5 div.sk-label label {font-family: monospace;font-weight: bold;display: inline-block;line-height: 1.2em;}#sk-container-id-5 div.sk-label-container {text-align: center;}#sk-container-id-5 div.sk-container {/* jupyter's `normalize.less` sets `[hidden] { display: none; }` but bootstrap.min.css set `[hidden] { display: none !important; }` so we also need the `!important` here to be able to override the default hidden behavior on the sphinx rendered scikit-learn.org. See: https://github.com/scikit-learn/scikit-learn/issues/21755 */display: inline-block !important;position: relative;}#sk-container-id-5 div.sk-text-repr-fallback {display: none;}</style><div id=\"sk-container-id-5\" class=\"sk-top-container\"><div class=\"sk-text-repr-fallback\"><pre>GridSearchCV(cv=5,\n",
       "             estimator=Pipeline(steps=[(&#x27;cvec&#x27;, CountVectorizer()),\n",
       "                                       (&#x27;rf&#x27;, RandomForestClassifier())]),\n",
       "             param_grid={&#x27;cvec__max_df&#x27;: [0.85, 0.9],\n",
       "                         &#x27;cvec__max_features&#x27;: [1500, 3000, 5000],\n",
       "                         &#x27;cvec__min_df&#x27;: [0.03, 0.05],\n",
       "                         &#x27;cvec__ngram_range&#x27;: [(1, 1), (1, 2)]})</pre><b>In a Jupyter environment, please rerun this cell to show the HTML representation or trust the notebook. <br />On GitHub, the HTML representation is unable to render, please try loading this page with nbviewer.org.</b></div><div class=\"sk-container\" hidden><div class=\"sk-item sk-dashed-wrapped\"><div class=\"sk-label-container\"><div class=\"sk-label sk-toggleable\"><input class=\"sk-toggleable__control sk-hidden--visually\" id=\"sk-estimator-id-17\" type=\"checkbox\" ><label for=\"sk-estimator-id-17\" class=\"sk-toggleable__label sk-toggleable__label-arrow\">GridSearchCV</label><div class=\"sk-toggleable__content\"><pre>GridSearchCV(cv=5,\n",
       "             estimator=Pipeline(steps=[(&#x27;cvec&#x27;, CountVectorizer()),\n",
       "                                       (&#x27;rf&#x27;, RandomForestClassifier())]),\n",
       "             param_grid={&#x27;cvec__max_df&#x27;: [0.85, 0.9],\n",
       "                         &#x27;cvec__max_features&#x27;: [1500, 3000, 5000],\n",
       "                         &#x27;cvec__min_df&#x27;: [0.03, 0.05],\n",
       "                         &#x27;cvec__ngram_range&#x27;: [(1, 1), (1, 2)]})</pre></div></div></div><div class=\"sk-parallel\"><div class=\"sk-parallel-item\"><div class=\"sk-item\"><div class=\"sk-label-container\"><div class=\"sk-label sk-toggleable\"><input class=\"sk-toggleable__control sk-hidden--visually\" id=\"sk-estimator-id-18\" type=\"checkbox\" ><label for=\"sk-estimator-id-18\" class=\"sk-toggleable__label sk-toggleable__label-arrow\">estimator: Pipeline</label><div class=\"sk-toggleable__content\"><pre>Pipeline(steps=[(&#x27;cvec&#x27;, CountVectorizer()), (&#x27;rf&#x27;, RandomForestClassifier())])</pre></div></div></div><div class=\"sk-serial\"><div class=\"sk-item\"><div class=\"sk-serial\"><div class=\"sk-item\"><div class=\"sk-estimator sk-toggleable\"><input class=\"sk-toggleable__control sk-hidden--visually\" id=\"sk-estimator-id-19\" type=\"checkbox\" ><label for=\"sk-estimator-id-19\" class=\"sk-toggleable__label sk-toggleable__label-arrow\">CountVectorizer</label><div class=\"sk-toggleable__content\"><pre>CountVectorizer()</pre></div></div></div><div class=\"sk-item\"><div class=\"sk-estimator sk-toggleable\"><input class=\"sk-toggleable__control sk-hidden--visually\" id=\"sk-estimator-id-20\" type=\"checkbox\" ><label for=\"sk-estimator-id-20\" class=\"sk-toggleable__label sk-toggleable__label-arrow\">RandomForestClassifier</label><div class=\"sk-toggleable__content\"><pre>RandomForestClassifier()</pre></div></div></div></div></div></div></div></div></div></div></div></div>"
      ],
      "text/plain": [
       "GridSearchCV(cv=5,\n",
       "             estimator=Pipeline(steps=[('cvec', CountVectorizer()),\n",
       "                                       ('rf', RandomForestClassifier())]),\n",
       "             param_grid={'cvec__max_df': [0.85, 0.9],\n",
       "                         'cvec__max_features': [1500, 3000, 5000],\n",
       "                         'cvec__min_df': [0.03, 0.05],\n",
       "                         'cvec__ngram_range': [(1, 1), (1, 2)]})"
      ]
     },
     "execution_count": 89,
     "metadata": {},
     "output_type": "execute_result"
    }
   ],
   "source": [
    "# Fit our model!\n",
    "\n",
    "gs.fit(X_train, y_train)"
   ]
  },
  {
   "cell_type": "code",
   "execution_count": 90,
   "id": "74689dc1",
   "metadata": {},
   "outputs": [
    {
     "name": "stdout",
     "output_type": "stream",
     "text": [
      "0.8229092066523436\n"
     ]
    }
   ],
   "source": [
    "# the best score\n",
    "# from cross validation\n",
    "print(gs.best_score_)"
   ]
  },
  {
   "cell_type": "code",
   "execution_count": 91,
   "id": "3f5d3fd4",
   "metadata": {},
   "outputs": [
    {
     "name": "stdout",
     "output_type": "stream",
     "text": [
      "{'cvec__max_df': 0.85, 'cvec__max_features': 3000, 'cvec__min_df': 0.03, 'cvec__ngram_range': (1, 2)}\n"
     ]
    }
   ],
   "source": [
    "# best parameters for CountVectorizer\n",
    "print(gs.best_params_)"
   ]
  },
  {
   "cell_type": "code",
   "execution_count": 92,
   "id": "afd699ba",
   "metadata": {},
   "outputs": [],
   "source": [
    "gs_model = gs.best_estimator_"
   ]
  },
  {
   "cell_type": "code",
   "execution_count": 93,
   "id": "22a01f83",
   "metadata": {},
   "outputs": [
    {
     "name": "stdout",
     "output_type": "stream",
     "text": [
      "Pipeline(steps=[('cvec',\n",
      "                 CountVectorizer(max_df=0.85, max_features=3000, min_df=0.03,\n",
      "                                 ngram_range=(1, 2))),\n",
      "                ('rf', RandomForestClassifier())])\n"
     ]
    }
   ],
   "source": [
    "print(gs_model)"
   ]
  },
  {
   "cell_type": "code",
   "execution_count": 94,
   "id": "03398538",
   "metadata": {},
   "outputs": [
    {
     "data": {
      "text/plain": [
       "0.9644670050761421"
      ]
     },
     "execution_count": 94,
     "metadata": {},
     "output_type": "execute_result"
    }
   ],
   "source": [
    "# Score model on train set.\n",
    "gs_model.score(X_train, y_train)"
   ]
  },
  {
   "cell_type": "code",
   "execution_count": 95,
   "id": "d78e480a",
   "metadata": {},
   "outputs": [
    {
     "data": {
      "text/plain": [
       "0.785472972972973"
      ]
     },
     "execution_count": 95,
     "metadata": {},
     "output_type": "execute_result"
    }
   ],
   "source": [
    "# Score model on test set.\n",
    "gs_model.score(X_test, y_test)"
   ]
  },
  {
   "cell_type": "markdown",
   "id": "5fa77478",
   "metadata": {},
   "source": [
    "## Train and Test Score Interpretation for Underfit/Overfit from Random Forest Model with Hypertuned CountVectorizer\n",
    "____________\n",
    "\n",
    "After utilizing gridsearch to find CountVectorizer's best parameter, here is the parameter: 'cvec__max_df': 0.85, 'cvec__max_features': 3000, 'cvec__min_df': 0.03, 'cvec__ngram_range': (1, 2).\n",
    "\n",
    "Because the train score of 96 percent is significantly bigger than the test score of roughly 79 percent, this suggests the model is signficantly overfitting. In other words, the model is performing extremely well in fitting the training data but it's not generalizing well to new, unseen data.\n",
    "\n",
    "For next steps, the plan is to use the 10 common words to create my custom word list, as discovered by earlier exploratory data analysis, to observe if the model reduces overfitting and improve the test score."
   ]
  },
  {
   "cell_type": "code",
   "execution_count": 96,
   "id": "4a6a14e5",
   "metadata": {},
   "outputs": [],
   "source": [
    "# Get predictions\n",
    "preds = gs_model.predict(X_test)"
   ]
  },
  {
   "cell_type": "code",
   "execution_count": 97,
   "id": "d38fb717",
   "metadata": {},
   "outputs": [
    {
     "data": {
      "text/plain": [
       "0.7840826023391813"
      ]
     },
     "execution_count": 97,
     "metadata": {},
     "output_type": "execute_result"
    }
   ],
   "source": [
    "# ROC-AUC score of Random Forest with Hypertuned CountVectorizer \n",
    "roc_auc_score(y_test, preds)"
   ]
  },
  {
   "cell_type": "markdown",
   "id": "45a2d478",
   "metadata": {},
   "source": [
    "# ROC-AUC Score Interpretation of Random Forest with Hypertuned CountVectorizer\n",
    "_______\n",
    "\n",
    "To summarize from the ROC-AUC score, the model is doing a decent job in differentiating between Showerthoughts and CasualConversation since its ROC-AUC score turns out to be 0.78. "
   ]
  },
  {
   "cell_type": "code",
   "execution_count": 98,
   "id": "c70c713b",
   "metadata": {},
   "outputs": [
    {
     "data": {
      "image/png": "[encoded data removed]",
      "text/plain": [
       "<Figure size 640x480 with 2 Axes>"
      ]
     },
     "metadata": {},
     "output_type": "display_data"
    }
   ],
   "source": [
    "# View confusion matrix\n",
    "ConfusionMatrixDisplay.from_estimator(gs_model, X_test, y_test, cmap='Blues')\n",
    "\n",
    "# Get the axis of the plot\n",
    "ax = plt.gca()\n",
    "\n",
    "# Set the title\n",
    "ax.set_title('CM of Random Forest with Hypertuned CountVectorizer: 1')\n",
    "\n",
    "#save\n",
    "plt.savefig(\"Confusion Matrix of Random Forest with Hypertuned CountVectorizer.png\", dpi = 75);"
   ]
  },
  {
   "cell_type": "code",
   "execution_count": 99,
   "id": "f578b41e",
   "metadata": {},
   "outputs": [
    {
     "name": "stdout",
     "output_type": "stream",
     "text": [
      "TN: 211\n",
      "FP: 77\n",
      "FN: 50\n",
      "TP: 254\n",
      "Sensitivity: 0.8355263157894737\n",
      "Specificity: 0.7326388888888888\n"
     ]
    }
   ],
   "source": [
    "find_cm(y_test, preds)"
   ]
  },
  {
   "cell_type": "markdown",
   "id": "e25adb0e",
   "metadata": {},
   "source": [
    "### Confusion Matrix Interpretation from Random Forest Model with Hypertuned CountVectorizer\n",
    "____\n",
    "\n",
    "Showerthoughts as our target / positive outcome:\n",
    "\n",
    "* Our model has true negatives of 211 titles from Casual Conversations correctly classified\n",
    "* Our model has false positives of 77 titles from Showerthoughts incorrectly classified\n",
    "* Our model has false negatives of 50 titles from Casual Conversations incorrectly classified\n",
    "* Our model has true positives of 254 titles from Showerthoughts correctly classified\n",
    "\n",
    "* Our model has a sensitivity of 0.83 with 254 of 304 titles from Showerthoughts correctly classified\n",
    "* Our model has a specificity of roughly 0.73 with 211 of 288 titles from Casual Conversations correctly classified\n",
    "\n",
    "\n",
    "Our model seems to perform better at identifying our positive class (Showerthoughts) than our negative class (CasualConversation)."
   ]
  },
  {
   "cell_type": "markdown",
   "id": "a86ff8f5",
   "metadata": {},
   "source": [
    "# Random Forest Model with Hypertuned TfidVectorizer\n",
    "_______\n",
    "\n",
    "Utilized gridsearch to find the best parameter for TfidVectorizer: 'tvec__max_df': 0.9, 'tvec__max_features': 1500, 'tvec__min_df': 0.03, 'tvec__ngram_range': (1, 2)"
   ]
  },
  {
   "cell_type": "code",
   "execution_count": 191,
   "id": "9d093136",
   "metadata": {},
   "outputs": [],
   "source": [
    "# creating our X and y\n",
    "X = casualconshower['title']\n",
    "y = casualconshower['subreddit']"
   ]
  },
  {
   "cell_type": "code",
   "execution_count": 192,
   "id": "3cb50f4b",
   "metadata": {},
   "outputs": [],
   "source": [
    "X_train, X_test, y_train, y_test = train_test_split(X,\n",
    "                                                    y,\n",
    "                                                    test_size=0.25,\n",
    "                                                    random_state=42,\n",
    "                                                    stratify=y)"
   ]
  },
  {
   "cell_type": "code",
   "execution_count": 193,
   "id": "8395c577",
   "metadata": {},
   "outputs": [],
   "source": [
    "# Set a pipeline up with two stages:\n",
    "# 1. TfidVectorizer (transformer)\n",
    "# 2. Random Forest\n",
    "pipe = Pipeline([\n",
    "    ('tvec', TfidfVectorizer()),\n",
    "    ('rf', RandomForestClassifier())\n",
    "])"
   ]
  },
  {
   "cell_type": "code",
   "execution_count": 194,
   "id": "c83ac243",
   "metadata": {},
   "outputs": [],
   "source": [
    "# Search over the following values of hyperparameters:\n",
    "# Maximum number of features fit: 1500, 3000, 5000\n",
    "# Minimum number of documents needed to include token: 0.03, 0.05\n",
    "# Maximum number of documents needed to include token: 0.85, 0.9\n",
    "# ngram_range (1, 1), (1, 2)\n",
    "\n",
    "pipe_params = {'tvec__max_features' : [1500, 3000, 5000],\n",
    "              'tvec__min_df' : [0.03, 0.05],\n",
    "               'tvec__max_df': [0.85, 0.9],\n",
    "               'tvec__ngram_range' : [(1, 1), (1, 2)]\n",
    "              }"
   ]
  },
  {
   "cell_type": "code",
   "execution_count": 195,
   "id": "f703a225",
   "metadata": {},
   "outputs": [],
   "source": [
    "# Instantiate GridSearchCV.\n",
    "\n",
    "gs = GridSearchCV(pipe, # what object are we optimizing?\n",
    "                  param_grid=pipe_params, # what parameters values are we searching?\n",
    "                  cv = 5) # 5-fold cross-validation."
   ]
  },
  {
   "cell_type": "code",
   "execution_count": 196,
   "id": "68471e57",
   "metadata": {},
   "outputs": [
    {
     "data": {
      "text/html": [
       "<style>#sk-container-id-9 {color: black;}#sk-container-id-9 pre{padding: 0;}#sk-container-id-9 div.sk-toggleable {background-color: white;}#sk-container-id-9 label.sk-toggleable__label {cursor: pointer;display: block;width: 100%;margin-bottom: 0;padding: 0.3em;box-sizing: border-box;text-align: center;}#sk-container-id-9 label.sk-toggleable__label-arrow:before {content: \"▸\";float: left;margin-right: 0.25em;color: #696969;}#sk-container-id-9 label.sk-toggleable__label-arrow:hover:before {color: black;}#sk-container-id-9 div.sk-estimator:hover label.sk-toggleable__label-arrow:before {color: black;}#sk-container-id-9 div.sk-toggleable__content {max-height: 0;max-width: 0;overflow: hidden;text-align: left;background-color: #f0f8ff;}#sk-container-id-9 div.sk-toggleable__content pre {margin: 0.2em;color: black;border-radius: 0.25em;background-color: #f0f8ff;}#sk-container-id-9 input.sk-toggleable__control:checked~div.sk-toggleable__content {max-height: 200px;max-width: 100%;overflow: auto;}#sk-container-id-9 input.sk-toggleable__control:checked~label.sk-toggleable__label-arrow:before {content: \"▾\";}#sk-container-id-9 div.sk-estimator input.sk-toggleable__control:checked~label.sk-toggleable__label {background-color: #d4ebff;}#sk-container-id-9 div.sk-label input.sk-toggleable__control:checked~label.sk-toggleable__label {background-color: #d4ebff;}#sk-container-id-9 input.sk-hidden--visually {border: 0;clip: rect(1px 1px 1px 1px);clip: rect(1px, 1px, 1px, 1px);height: 1px;margin: -1px;overflow: hidden;padding: 0;position: absolute;width: 1px;}#sk-container-id-9 div.sk-estimator {font-family: monospace;background-color: #f0f8ff;border: 1px dotted black;border-radius: 0.25em;box-sizing: border-box;margin-bottom: 0.5em;}#sk-container-id-9 div.sk-estimator:hover {background-color: #d4ebff;}#sk-container-id-9 div.sk-parallel-item::after {content: \"\";width: 100%;border-bottom: 1px solid gray;flex-grow: 1;}#sk-container-id-9 div.sk-label:hover label.sk-toggleable__label {background-color: #d4ebff;}#sk-container-id-9 div.sk-serial::before {content: \"\";position: absolute;border-left: 1px solid gray;box-sizing: border-box;top: 0;bottom: 0;left: 50%;z-index: 0;}#sk-container-id-9 div.sk-serial {display: flex;flex-direction: column;align-items: center;background-color: white;padding-right: 0.2em;padding-left: 0.2em;position: relative;}#sk-container-id-9 div.sk-item {position: relative;z-index: 1;}#sk-container-id-9 div.sk-parallel {display: flex;align-items: stretch;justify-content: center;background-color: white;position: relative;}#sk-container-id-9 div.sk-item::before, #sk-container-id-9 div.sk-parallel-item::before {content: \"\";position: absolute;border-left: 1px solid gray;box-sizing: border-box;top: 0;bottom: 0;left: 50%;z-index: -1;}#sk-container-id-9 div.sk-parallel-item {display: flex;flex-direction: column;z-index: 1;position: relative;background-color: white;}#sk-container-id-9 div.sk-parallel-item:first-child::after {align-self: flex-end;width: 50%;}#sk-container-id-9 div.sk-parallel-item:last-child::after {align-self: flex-start;width: 50%;}#sk-container-id-9 div.sk-parallel-item:only-child::after {width: 0;}#sk-container-id-9 div.sk-dashed-wrapped {border: 1px dashed gray;margin: 0 0.4em 0.5em 0.4em;box-sizing: border-box;padding-bottom: 0.4em;background-color: white;}#sk-container-id-9 div.sk-label label {font-family: monospace;font-weight: bold;display: inline-block;line-height: 1.2em;}#sk-container-id-9 div.sk-label-container {text-align: center;}#sk-container-id-9 div.sk-container {/* jupyter's `normalize.less` sets `[hidden] { display: none; }` but bootstrap.min.css set `[hidden] { display: none !important; }` so we also need the `!important` here to be able to override the default hidden behavior on the sphinx rendered scikit-learn.org. See: https://github.com/scikit-learn/scikit-learn/issues/21755 */display: inline-block !important;position: relative;}#sk-container-id-9 div.sk-text-repr-fallback {display: none;}</style><div id=\"sk-container-id-9\" class=\"sk-top-container\"><div class=\"sk-text-repr-fallback\"><pre>GridSearchCV(cv=5,\n",
       "             estimator=Pipeline(steps=[(&#x27;tvec&#x27;, TfidfVectorizer()),\n",
       "                                       (&#x27;rf&#x27;, RandomForestClassifier())]),\n",
       "             param_grid={&#x27;tvec__max_df&#x27;: [0.85, 0.9],\n",
       "                         &#x27;tvec__max_features&#x27;: [1500, 3000, 5000],\n",
       "                         &#x27;tvec__min_df&#x27;: [0.03, 0.05],\n",
       "                         &#x27;tvec__ngram_range&#x27;: [(1, 1), (1, 2)]})</pre><b>In a Jupyter environment, please rerun this cell to show the HTML representation or trust the notebook. <br />On GitHub, the HTML representation is unable to render, please try loading this page with nbviewer.org.</b></div><div class=\"sk-container\" hidden><div class=\"sk-item sk-dashed-wrapped\"><div class=\"sk-label-container\"><div class=\"sk-label sk-toggleable\"><input class=\"sk-toggleable__control sk-hidden--visually\" id=\"sk-estimator-id-33\" type=\"checkbox\" ><label for=\"sk-estimator-id-33\" class=\"sk-toggleable__label sk-toggleable__label-arrow\">GridSearchCV</label><div class=\"sk-toggleable__content\"><pre>GridSearchCV(cv=5,\n",
       "             estimator=Pipeline(steps=[(&#x27;tvec&#x27;, TfidfVectorizer()),\n",
       "                                       (&#x27;rf&#x27;, RandomForestClassifier())]),\n",
       "             param_grid={&#x27;tvec__max_df&#x27;: [0.85, 0.9],\n",
       "                         &#x27;tvec__max_features&#x27;: [1500, 3000, 5000],\n",
       "                         &#x27;tvec__min_df&#x27;: [0.03, 0.05],\n",
       "                         &#x27;tvec__ngram_range&#x27;: [(1, 1), (1, 2)]})</pre></div></div></div><div class=\"sk-parallel\"><div class=\"sk-parallel-item\"><div class=\"sk-item\"><div class=\"sk-label-container\"><div class=\"sk-label sk-toggleable\"><input class=\"sk-toggleable__control sk-hidden--visually\" id=\"sk-estimator-id-34\" type=\"checkbox\" ><label for=\"sk-estimator-id-34\" class=\"sk-toggleable__label sk-toggleable__label-arrow\">estimator: Pipeline</label><div class=\"sk-toggleable__content\"><pre>Pipeline(steps=[(&#x27;tvec&#x27;, TfidfVectorizer()), (&#x27;rf&#x27;, RandomForestClassifier())])</pre></div></div></div><div class=\"sk-serial\"><div class=\"sk-item\"><div class=\"sk-serial\"><div class=\"sk-item\"><div class=\"sk-estimator sk-toggleable\"><input class=\"sk-toggleable__control sk-hidden--visually\" id=\"sk-estimator-id-35\" type=\"checkbox\" ><label for=\"sk-estimator-id-35\" class=\"sk-toggleable__label sk-toggleable__label-arrow\">TfidfVectorizer</label><div class=\"sk-toggleable__content\"><pre>TfidfVectorizer()</pre></div></div></div><div class=\"sk-item\"><div class=\"sk-estimator sk-toggleable\"><input class=\"sk-toggleable__control sk-hidden--visually\" id=\"sk-estimator-id-36\" type=\"checkbox\" ><label for=\"sk-estimator-id-36\" class=\"sk-toggleable__label sk-toggleable__label-arrow\">RandomForestClassifier</label><div class=\"sk-toggleable__content\"><pre>RandomForestClassifier()</pre></div></div></div></div></div></div></div></div></div></div></div></div>"
      ],
      "text/plain": [
       "GridSearchCV(cv=5,\n",
       "             estimator=Pipeline(steps=[('tvec', TfidfVectorizer()),\n",
       "                                       ('rf', RandomForestClassifier())]),\n",
       "             param_grid={'tvec__max_df': [0.85, 0.9],\n",
       "                         'tvec__max_features': [1500, 3000, 5000],\n",
       "                         'tvec__min_df': [0.03, 0.05],\n",
       "                         'tvec__ngram_range': [(1, 1), (1, 2)]})"
      ]
     },
     "execution_count": 196,
     "metadata": {},
     "output_type": "execute_result"
    }
   ],
   "source": [
    "# Fit our model!\n",
    "\n",
    "gs.fit(X_train, y_train)"
   ]
  },
  {
   "cell_type": "code",
   "execution_count": 197,
   "id": "5e0520f0",
   "metadata": {},
   "outputs": [
    {
     "name": "stdout",
     "output_type": "stream",
     "text": [
      "0.8200811649558368\n"
     ]
    }
   ],
   "source": [
    "# the best score\n",
    "# from cross validation\n",
    "print(gs.best_score_)"
   ]
  },
  {
   "cell_type": "code",
   "execution_count": 198,
   "id": "f18eb7a9",
   "metadata": {},
   "outputs": [
    {
     "name": "stdout",
     "output_type": "stream",
     "text": [
      "{'tvec__max_df': 0.9, 'tvec__max_features': 1500, 'tvec__min_df': 0.03, 'tvec__ngram_range': (1, 2)}\n"
     ]
    }
   ],
   "source": [
    "# best parameters for CountVectorizer\n",
    "print(gs.best_params_)"
   ]
  },
  {
   "cell_type": "code",
   "execution_count": 199,
   "id": "14bb0a07",
   "metadata": {},
   "outputs": [],
   "source": [
    "gs_model = gs.best_estimator_"
   ]
  },
  {
   "cell_type": "code",
   "execution_count": 200,
   "id": "60b36f05",
   "metadata": {},
   "outputs": [
    {
     "name": "stdout",
     "output_type": "stream",
     "text": [
      "Pipeline(steps=[('tvec',\n",
      "                 TfidfVectorizer(max_df=0.9, max_features=1500, min_df=0.03,\n",
      "                                 ngram_range=(1, 2))),\n",
      "                ('rf', RandomForestClassifier())])\n"
     ]
    }
   ],
   "source": [
    "print(gs_model)"
   ]
  },
  {
   "cell_type": "code",
   "execution_count": 201,
   "id": "555857a3",
   "metadata": {},
   "outputs": [
    {
     "data": {
      "text/plain": [
       "0.9627749576988156"
      ]
     },
     "execution_count": 201,
     "metadata": {},
     "output_type": "execute_result"
    }
   ],
   "source": [
    "# Score model on train set.\n",
    "gs_model.score(X_train, y_train)"
   ]
  },
  {
   "cell_type": "code",
   "execution_count": 202,
   "id": "d4763fcb",
   "metadata": {},
   "outputs": [
    {
     "data": {
      "text/plain": [
       "0.7804054054054054"
      ]
     },
     "execution_count": 202,
     "metadata": {},
     "output_type": "execute_result"
    }
   ],
   "source": [
    "# Score model on test set.\n",
    "gs_model.score(X_test, y_test)"
   ]
  },
  {
   "cell_type": "markdown",
   "id": "27bb3fb4",
   "metadata": {},
   "source": [
    "## Train and Test Score Interpretation for Underfit/Overfit from Random Forest Model with Hypertuned TfidVectorizer\n",
    "_________\n",
    "\n",
    "After utilizing gridsearch to find TfidVectorizer's best parameter, here is the parameter: tvec__max_df': 0.85, 'tvec__max_features': 5000, 'tvec__min_df': 0.03, 'tvec__ngram_range': (1, 1).\n",
    "\n",
    "Because the train score of 96 percent is significantly bigger than the test score of roughly 78 percent, this suggests the model is signficantly overfitting. In other words, the model is performing extremely well in fitting the training data but it's not generalizing well to new, unseen data. Compared to CountVectorized Random Forest, this model's performance in its test score is not that significantly different.\n",
    "\n",
    "For next steps, the plan is to use the 10 common words to create my custom word list, as discovered by earlier exploratory data analysis, to observe if the model reduces overfitting and improve the test score."
   ]
  },
  {
   "cell_type": "code",
   "execution_count": 203,
   "id": "7b7c2485",
   "metadata": {},
   "outputs": [],
   "source": [
    "# Get predictions\n",
    "preds = gs_model.predict(X_test)"
   ]
  },
  {
   "cell_type": "code",
   "execution_count": 205,
   "id": "94dbb231",
   "metadata": {},
   "outputs": [
    {
     "data": {
      "text/plain": [
       "0.7792397660818713"
      ]
     },
     "execution_count": 205,
     "metadata": {},
     "output_type": "execute_result"
    }
   ],
   "source": [
    "# ROC-AUC score of Random Forest with Hypertuned TfidVectorizer \n",
    "roc_auc_score(y_test, preds)"
   ]
  },
  {
   "cell_type": "markdown",
   "id": "8bc31701",
   "metadata": {},
   "source": [
    "# ROC-AUC Score Interpretation of Random Forest with Hypertuned TfidVectorizer\n",
    "_______\n",
    "\n",
    "To summarize from the ROC-AUC score, the model is doing a decent job in differentiating between Showerthoughts and CasualConversation since its ROC-AUC score turns out to be roughly 0.78."
   ]
  },
  {
   "cell_type": "code",
   "execution_count": 206,
   "id": "17bfd6de",
   "metadata": {},
   "outputs": [
    {
     "data": {
      "image/png": "[encoded data removed]",
      "text/plain": [
       "<Figure size 640x480 with 2 Axes>"
      ]
     },
     "metadata": {},
     "output_type": "display_data"
    }
   ],
   "source": [
    "# View confusion matrix\n",
    "ConfusionMatrixDisplay.from_estimator(gs_model, X_test, y_test, cmap='Blues')\n",
    "\n",
    "# Get the axis of the plot\n",
    "ax = plt.gca()\n",
    "\n",
    "# Set the title\n",
    "ax.set_title('Confusion Matrix of Random Forest with Hypertuned TfidVectorizer');"
   ]
  },
  {
   "cell_type": "code",
   "execution_count": 207,
   "id": "4e90f49f",
   "metadata": {},
   "outputs": [
    {
     "name": "stdout",
     "output_type": "stream",
     "text": [
      "TN: 212\n",
      "FP: 76\n",
      "FN: 54\n",
      "TP: 250\n",
      "Sensitivity: 0.8223684210526315\n",
      "Specificity: 0.7361111111111112\n"
     ]
    }
   ],
   "source": [
    "find_cm(y_test, preds)"
   ]
  },
  {
   "cell_type": "markdown",
   "id": "d655ae9d",
   "metadata": {},
   "source": [
    "### Confusion Matrix Interpretation from Random Forest Model with Hypertuned TfidVectorizer\n",
    "____\n",
    "\n",
    "Showerthoughts as our target / positive outcome:\n",
    "\n",
    "* Our model has true negatives of 212 titles from Casual Conversations correctly classified\n",
    "* Our model has false positives of 76 titles from Showerthoughts incorrectly classified\n",
    "* Our model has false negatives of 54 titles from Casual Conversations incorrectly classified\n",
    "* Our model has true positives of 250 titles from Showerthoughts correctly classified\n",
    "\n",
    "* Our model has a sensitivity of 0.82 with 250 of 304 titles from Showerthoughts correctly classified\n",
    "* Our model has a specificity of roughly 0.74 with 212 of 288 titles from Casual Conversations correctly classified\n",
    "\n",
    "Our model seems to perform better at identifying our positive class (Showerthoughts) than our negative class (CasualConversation)."
   ]
  },
  {
   "cell_type": "markdown",
   "id": "d1c7e33c",
   "metadata": {},
   "source": [
    "# 1st Iteration Findings and Next Steps\n",
    "______\n",
    "\n",
    "Summary of Test and ROC Scores for Each Model for first iteration:\n",
    "\n",
    "* CV stands for CountVectorizer\n",
    "\n",
    "* TV stands for TfidVectorizer\n",
    "\n",
    "\n",
    "| Model                | CV Test Score      | CV ROC Score       | TV Test Score       | TV ROC Score       |\n",
    "| -----------          | -----------------  |--------------      |--------------       |----------          |\n",
    "| Logistic Regression  | 0.7905405405405406 | 0.7902046783625731 | 0.7820945945945946  | 0.7808845029239766 |\n",
    "| Bernoulli            | 0.7533783783783784 | 0.7546600877192983 | 0.7533783783783784  | 0.7546600877192983 |\n",
    "| Multinomial          | 0.7010135135135135 | 0.6977339181286549 | 0.6959459459459459  | 0.6921600877192982 | \n",
    "| Random Forest        | 0.785472972972973  | 0.7840826023391813 | 0.7804054054054054  | 0.7792397660818713 |  \n",
    "\n",
    "\n",
    "Based on the highest ROC-AUC and test scores out of the four models for this first iteration, we recommend Logistic Regression with the CountVectorizer for the social media startup to consider replicating and finetuning for their personality app. By observing the Logistic Regression's ROC-AUC, the model is able to distinguish 79 percent between Showerthoughts and CasualConversation.\n",
    "\n",
    "On a separate note, its test score indicates that this model is able to correctly classify the subreddits (Showerthoughts and CasualConversation) 79 percent of the time. \n",
    "\n",
    "However, the one drawback from this model is that we observe case of overfitting since its training score was higher than test score. Overfitting in the context of predicting Showerthoughts may mean that the model is overly confident in its predictions for this majority class, which is Showerthoughts, potentially making predictions that are overly specific to the training data and may not generalize well to new posts. To address the overfitting issue, we recommend finetuning the Logistic Regression's hyperparameters such as adjusting C to control the model's complexity. \n",
    "\n",
    "For the second iteration (dk_model2), we will add list of custom stop words based on the discovery on ten most frequent words in the EDA and observe how much change occurs in the models' performances, ideally for the better. \n"
   ]
  }
 ],
 "metadata": {
  "kernelspec": {
   "display_name": "Python 3 (ipykernel)",
   "language": "python",
   "name": "python3"
  },
  "language_info": {
   "codemirror_mode": {
    "name": "ipython",
    "version": 3
   },
   "file_extension": ".py",
   "mimetype": "text/x-python",
   "name": "python",
   "nbconvert_exporter": "python",
   "pygments_lexer": "ipython3",
   "version": "3.11.5"
  }
 },
 "nbformat": 4,
 "nbformat_minor": 5
}
